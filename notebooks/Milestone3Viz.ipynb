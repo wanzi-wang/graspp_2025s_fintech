{
 "cells": [
  {
   "cell_type": "markdown",
   "id": "08d64740",
   "metadata": {},
   "source": [
    "# Milestone 3 Visualization Notebook"
   ]
  },
  {
   "cell_type": "code",
   "execution_count": 33,
   "id": "bc8b38b4",
   "metadata": {},
   "outputs": [],
   "source": [
    "from MilestoneViz import MilestoneViz\n",
    "viz = MilestoneViz()\n",
    "\n",
    "#Importations\n",
    "import pandas as pd\n",
    "import numpy as np\n",
    "import requests\n",
    "import io\n",
    "import os\n",
    "import seaborn as sns\n",
    "import matplotlib.pyplot as plt \n",
    "import statsmodels.api as sm\n",
    "import plotly.express as px"
   ]
  },
  {
   "cell_type": "code",
   "execution_count": 25,
   "id": "da52873a",
   "metadata": {},
   "outputs": [],
   "source": [
    "#To Reload\n",
    "#import MilestoneViz\n",
    "#import importlib\n",
    "#importlib.reload(MilestoneViz)\n",
    "#from MilestoneViz import MilestoneViz\n",
    "#viz = MilestoneViz()"
   ]
  },
  {
   "cell_type": "code",
   "execution_count": 52,
   "id": "ab76ea03",
   "metadata": {},
   "outputs": [
    {
     "data": {
      "text/html": [
       "<div>\n",
       "<style scoped>\n",
       "    .dataframe tbody tr th:only-of-type {\n",
       "        vertical-align: middle;\n",
       "    }\n",
       "\n",
       "    .dataframe tbody tr th {\n",
       "        vertical-align: top;\n",
       "    }\n",
       "\n",
       "    .dataframe thead th {\n",
       "        text-align: right;\n",
       "    }\n",
       "</style>\n",
       "<table border=\"1\" class=\"dataframe\">\n",
       "  <thead>\n",
       "    <tr style=\"text-align: right;\">\n",
       "      <th></th>\n",
       "      <th></th>\n",
       "      <th>Food supply quantity (kg/capita/yr)_Cereals - Excluding Beer</th>\n",
       "      <th>Food supply quantity (kg/capita/yr)_Starchy Roots</th>\n",
       "      <th>rolling_std</th>\n",
       "      <th>Rural Access to Electricity(Percent of Population)</th>\n",
       "      <th>Mobile Cellular Subscriptions (per 100 people)</th>\n",
       "      <th>Fixed Broadband Subsciptions (per 100 people)</th>\n",
       "      <th>region</th>\n",
       "      <th>Agriculture, forestry, and fishing, value added (percent of GDP)</th>\n",
       "      <th>Crop production index (2014-2016 = 100)</th>\n",
       "      <th>Account (% age 15+)</th>\n",
       "      <th>...</th>\n",
       "      <th>GDP per capita, PPP (constant 2021 international $)</th>\n",
       "      <th>Life expectancy at birth, total (years)</th>\n",
       "      <th>Mortality rate, infant (per 1,000 live births)</th>\n",
       "      <th>Population density (people per sq. km of land area)</th>\n",
       "      <th>Population growth (annual %)</th>\n",
       "      <th>Population, total</th>\n",
       "      <th>Poverty headcount ratio at national poverty lines (% of population)</th>\n",
       "      <th>Rural population (% of total population)</th>\n",
       "      <th>Urban population (% of total population)</th>\n",
       "      <th>foodSupply_stability</th>\n",
       "    </tr>\n",
       "    <tr>\n",
       "      <th>code</th>\n",
       "      <th>year</th>\n",
       "      <th></th>\n",
       "      <th></th>\n",
       "      <th></th>\n",
       "      <th></th>\n",
       "      <th></th>\n",
       "      <th></th>\n",
       "      <th></th>\n",
       "      <th></th>\n",
       "      <th></th>\n",
       "      <th></th>\n",
       "      <th></th>\n",
       "      <th></th>\n",
       "      <th></th>\n",
       "      <th></th>\n",
       "      <th></th>\n",
       "      <th></th>\n",
       "      <th></th>\n",
       "      <th></th>\n",
       "      <th></th>\n",
       "      <th></th>\n",
       "      <th></th>\n",
       "    </tr>\n",
       "  </thead>\n",
       "  <tbody>\n",
       "    <tr>\n",
       "      <th rowspan=\"5\" valign=\"top\">BGD</th>\n",
       "      <th>2011</th>\n",
       "      <td>278.27</td>\n",
       "      <td>47.40</td>\n",
       "      <td>46.219922</td>\n",
       "      <td>45.7</td>\n",
       "      <td>56.166790</td>\n",
       "      <td>0.305031</td>\n",
       "      <td>SA</td>\n",
       "      <td>16.809987</td>\n",
       "      <td>93.78</td>\n",
       "      <td>31.740000</td>\n",
       "      <td>...</td>\n",
       "      <td>4352.426434</td>\n",
       "      <td>68.499</td>\n",
       "      <td>35.4</td>\n",
       "      <td>1179.926834</td>\n",
       "      <td>0.908526</td>\n",
       "      <td>153591076.0</td>\n",
       "      <td>NaN</td>\n",
       "      <td>68.775</td>\n",
       "      <td>31.225</td>\n",
       "      <td>46.219922</td>\n",
       "    </tr>\n",
       "    <tr>\n",
       "      <th>2012</th>\n",
       "      <td>278.22</td>\n",
       "      <td>48.06</td>\n",
       "      <td>45.756559</td>\n",
       "      <td>53.8</td>\n",
       "      <td>63.896104</td>\n",
       "      <td>0.387219</td>\n",
       "      <td>SA</td>\n",
       "      <td>16.177563</td>\n",
       "      <td>94.27</td>\n",
       "      <td>31.490000</td>\n",
       "      <td>...</td>\n",
       "      <td>4592.048409</td>\n",
       "      <td>68.989</td>\n",
       "      <td>34.1</td>\n",
       "      <td>1191.289091</td>\n",
       "      <td>0.958356</td>\n",
       "      <td>155070101.0</td>\n",
       "      <td>NaN</td>\n",
       "      <td>68.007</td>\n",
       "      <td>31.993</td>\n",
       "      <td>45.756559</td>\n",
       "    </tr>\n",
       "    <tr>\n",
       "      <th>2013</th>\n",
       "      <td>273.69</td>\n",
       "      <td>48.70</td>\n",
       "      <td>36.231714</td>\n",
       "      <td>48.6</td>\n",
       "      <td>75.669007</td>\n",
       "      <td>0.974448</td>\n",
       "      <td>SA</td>\n",
       "      <td>15.493278</td>\n",
       "      <td>96.58</td>\n",
       "      <td>31.240000</td>\n",
       "      <td>...</td>\n",
       "      <td>4822.726214</td>\n",
       "      <td>69.487</td>\n",
       "      <td>32.7</td>\n",
       "      <td>1202.520865</td>\n",
       "      <td>0.938408</td>\n",
       "      <td>156532141.0</td>\n",
       "      <td>NaN</td>\n",
       "      <td>67.238</td>\n",
       "      <td>32.762</td>\n",
       "      <td>36.231714</td>\n",
       "    </tr>\n",
       "    <tr>\n",
       "      <th>2014</th>\n",
       "      <td>272.78</td>\n",
       "      <td>49.29</td>\n",
       "      <td>2.619036</td>\n",
       "      <td>48.1</td>\n",
       "      <td>81.344598</td>\n",
       "      <td>1.958140</td>\n",
       "      <td>SA</td>\n",
       "      <td>15.351621</td>\n",
       "      <td>98.76</td>\n",
       "      <td>30.990000</td>\n",
       "      <td>...</td>\n",
       "      <td>5068.639657</td>\n",
       "      <td>70.016</td>\n",
       "      <td>31.4</td>\n",
       "      <td>1213.527917</td>\n",
       "      <td>0.911168</td>\n",
       "      <td>157964929.0</td>\n",
       "      <td>NaN</td>\n",
       "      <td>66.465</td>\n",
       "      <td>33.535</td>\n",
       "      <td>2.619036</td>\n",
       "    </tr>\n",
       "    <tr>\n",
       "      <th>2015</th>\n",
       "      <td>278.61</td>\n",
       "      <td>50.07</td>\n",
       "      <td>2.833060</td>\n",
       "      <td>63.8</td>\n",
       "      <td>83.238753</td>\n",
       "      <td>3.069920</td>\n",
       "      <td>SA</td>\n",
       "      <td>14.782996</td>\n",
       "      <td>100.69</td>\n",
       "      <td>37.343333</td>\n",
       "      <td>...</td>\n",
       "      <td>5352.711333</td>\n",
       "      <td>70.543</td>\n",
       "      <td>30.0</td>\n",
       "      <td>1224.423285</td>\n",
       "      <td>0.893819</td>\n",
       "      <td>159383179.0</td>\n",
       "      <td>NaN</td>\n",
       "      <td>65.692</td>\n",
       "      <td>34.308</td>\n",
       "      <td>2.833060</td>\n",
       "    </tr>\n",
       "  </tbody>\n",
       "</table>\n",
       "<p>5 rows × 128 columns</p>\n",
       "</div>"
      ],
      "text/plain": [
       "           Food supply quantity (kg/capita/yr)_Cereals - Excluding Beer  \\\n",
       "code year                                                                 \n",
       "BGD  2011                                             278.27              \n",
       "     2012                                             278.22              \n",
       "     2013                                             273.69              \n",
       "     2014                                             272.78              \n",
       "     2015                                             278.61              \n",
       "\n",
       "           Food supply quantity (kg/capita/yr)_Starchy Roots  rolling_std  \\\n",
       "code year                                                                   \n",
       "BGD  2011                                              47.40    46.219922   \n",
       "     2012                                              48.06    45.756559   \n",
       "     2013                                              48.70    36.231714   \n",
       "     2014                                              49.29     2.619036   \n",
       "     2015                                              50.07     2.833060   \n",
       "\n",
       "           Rural Access to Electricity(Percent of Population)  \\\n",
       "code year                                                       \n",
       "BGD  2011                                               45.7    \n",
       "     2012                                               53.8    \n",
       "     2013                                               48.6    \n",
       "     2014                                               48.1    \n",
       "     2015                                               63.8    \n",
       "\n",
       "           Mobile Cellular Subscriptions (per 100 people)  \\\n",
       "code year                                                   \n",
       "BGD  2011                                       56.166790   \n",
       "     2012                                       63.896104   \n",
       "     2013                                       75.669007   \n",
       "     2014                                       81.344598   \n",
       "     2015                                       83.238753   \n",
       "\n",
       "           Fixed Broadband Subsciptions (per 100 people) region  \\\n",
       "code year                                                         \n",
       "BGD  2011                                       0.305031     SA   \n",
       "     2012                                       0.387219     SA   \n",
       "     2013                                       0.974448     SA   \n",
       "     2014                                       1.958140     SA   \n",
       "     2015                                       3.069920     SA   \n",
       "\n",
       "           Agriculture, forestry, and fishing, value added (percent of GDP)  \\\n",
       "code year                                                                     \n",
       "BGD  2011                                          16.809987                  \n",
       "     2012                                          16.177563                  \n",
       "     2013                                          15.493278                  \n",
       "     2014                                          15.351621                  \n",
       "     2015                                          14.782996                  \n",
       "\n",
       "           Crop production index (2014-2016 = 100)  Account (% age 15+)  ...  \\\n",
       "code year                                                                ...   \n",
       "BGD  2011                                    93.78            31.740000  ...   \n",
       "     2012                                    94.27            31.490000  ...   \n",
       "     2013                                    96.58            31.240000  ...   \n",
       "     2014                                    98.76            30.990000  ...   \n",
       "     2015                                   100.69            37.343333  ...   \n",
       "\n",
       "           GDP per capita, PPP (constant 2021 international $)  \\\n",
       "code year                                                        \n",
       "BGD  2011                                        4352.426434     \n",
       "     2012                                        4592.048409     \n",
       "     2013                                        4822.726214     \n",
       "     2014                                        5068.639657     \n",
       "     2015                                        5352.711333     \n",
       "\n",
       "           Life expectancy at birth, total (years)  \\\n",
       "code year                                            \n",
       "BGD  2011                                   68.499   \n",
       "     2012                                   68.989   \n",
       "     2013                                   69.487   \n",
       "     2014                                   70.016   \n",
       "     2015                                   70.543   \n",
       "\n",
       "           Mortality rate, infant (per 1,000 live births)  \\\n",
       "code year                                                   \n",
       "BGD  2011                                            35.4   \n",
       "     2012                                            34.1   \n",
       "     2013                                            32.7   \n",
       "     2014                                            31.4   \n",
       "     2015                                            30.0   \n",
       "\n",
       "           Population density (people per sq. km of land area)  \\\n",
       "code year                                                        \n",
       "BGD  2011                                        1179.926834     \n",
       "     2012                                        1191.289091     \n",
       "     2013                                        1202.520865     \n",
       "     2014                                        1213.527917     \n",
       "     2015                                        1224.423285     \n",
       "\n",
       "           Population growth (annual %)  Population, total  \\\n",
       "code year                                                    \n",
       "BGD  2011                      0.908526        153591076.0   \n",
       "     2012                      0.958356        155070101.0   \n",
       "     2013                      0.938408        156532141.0   \n",
       "     2014                      0.911168        157964929.0   \n",
       "     2015                      0.893819        159383179.0   \n",
       "\n",
       "           Poverty headcount ratio at national poverty lines (% of population)  \\\n",
       "code year                                                                        \n",
       "BGD  2011                                                NaN                     \n",
       "     2012                                                NaN                     \n",
       "     2013                                                NaN                     \n",
       "     2014                                                NaN                     \n",
       "     2015                                                NaN                     \n",
       "\n",
       "           Rural population (% of total population)  \\\n",
       "code year                                             \n",
       "BGD  2011                                    68.775   \n",
       "     2012                                    68.007   \n",
       "     2013                                    67.238   \n",
       "     2014                                    66.465   \n",
       "     2015                                    65.692   \n",
       "\n",
       "           Urban population (% of total population)  foodSupply_stability  \n",
       "code year                                                                  \n",
       "BGD  2011                                    31.225             46.219922  \n",
       "     2012                                    31.993             45.756559  \n",
       "     2013                                    32.762             36.231714  \n",
       "     2014                                    33.535              2.619036  \n",
       "     2015                                    34.308              2.833060  \n",
       "\n",
       "[5 rows x 128 columns]"
      ]
     },
     "execution_count": 52,
     "metadata": {},
     "output_type": "execute_result"
    }
   ],
   "source": [
    "df = pd.read_csv(\"../data/processed/final_dataset.csv\")\n",
    "df = df.set_index(['code','year'])\n",
    "\n",
    "df.head()"
   ]
  },
  {
   "cell_type": "code",
   "execution_count": 53,
   "id": "81deeec9",
   "metadata": {},
   "outputs": [
    {
     "name": "stdout",
     "output_type": "stream",
     "text": [
      "Food supply quantity (kg/capita/yr)_Cereals - Excluding Beer\n",
      "Food supply quantity (kg/capita/yr)_Starchy Roots\n",
      "rolling_std\n",
      "Rural Access to Electricity(Percent of Population)\n",
      "Mobile Cellular Subscriptions (per 100 people)\n",
      "Fixed Broadband Subsciptions (per 100 people)\n",
      "region\n",
      "Agriculture, forestry, and fishing, value added (percent of GDP)\n",
      "Crop production index (2014-2016 = 100)\n",
      "Account (% age 15+)\n",
      "Account ownership at a financial institution or with a mobile-money-service provider (% of population ages 15+)\n",
      "Account ownership at a financial institution or with a mobile-money-service provider, female (% of population ages 15+)\n",
      "Account ownership at a financial institution or with a mobile-money-service provider, male (% of population ages 15+)\n",
      "Account ownership at a financial institution or with a mobile-money-service provider, older adults (% of population ages 25+)\n",
      "Account ownership at a financial institution or with a mobile-money-service provider, poorest 40% (% of population ages 15+)\n",
      "Account ownership at a financial institution or with a mobile-money-service provider, primary education or less (% of population ages 15+)\n",
      "Account ownership at a financial institution or with a mobile-money-service provider, richest 60% (% of population ages 15+)\n",
      "Account ownership at a financial institution or with a mobile-money-service provider, secondary education or more (% of population ages 15+)\n",
      "Account ownership at a financial institution or with a mobile-money-service provider, young adults (% of population ages 15-24)\n",
      "Account, female (% age 15+)\n",
      "Account, male (% age 15+)\n",
      "Account, rural (% age 15+)\n",
      "Account, urban (% age 15+)\n",
      "Current account balance (% of GDP)\n",
      "Current account balance (BoP, current US$)\n",
      "Financial institution account (% age 15+)\n",
      "Financial institution account, female (% age 15+)\n",
      "Financial institution account, male (% age 15+)\n",
      "Financial institution account, rural (% age 15+)\n",
      "Financial institution account, urban (% age 15+)\n",
      "Made a deposit (% with a financial institution account, age 15+)\n",
      "Made a digital in-store merchant payment (age 15+)\n",
      "Made a digital in-store merchant payment: using a mobile phone (% age 15+)\n",
      "Made a digital in-store merchant payment: using a mobile phone, female (% age 15+)\n",
      "Made a digital in-store merchant payment: using a mobile phone, male (% age 15+)\n",
      "Made a digital in-store merchant payment: using a mobile phone, rural (% age 15+)\n",
      "Made a digital in-store merchant payment: using a mobile phone, urban (% age 15+)\n",
      "Made a digital merchant payment (% age 15+)\n",
      "Made a digital merchant payment, female (% age 15+)\n",
      "Made a digital merchant payment, male (% age 15+)\n",
      "Made a digital merchant payment, rural (% age 15+)\n",
      "Made a digital merchant payment, urban (% age 15+)\n",
      "Made a digital online merchant payment for an online purchase (% age 15+)\n",
      "Made a digital payment (% age 15+)\n",
      "Made a digital payment, female (% age 15+)\n",
      "Made a digital payment, male (% age 15+)\n",
      "Made a digital payment, rural (% age 15+)\n",
      "Made a digital payment, urban (% age 15+)\n",
      "Made a utility payment (% age 15+)\n",
      "Made a utility payment, female (% age 15+)\n",
      "Made a utility payment, male (% age 15+)\n",
      "Made a utility payment, rural (% age 15+)\n",
      "Made a utility payment, urban (% age 15+)\n",
      "Made a utility payment: using a financial institution account (% age 15+)\n",
      "Made a utility payment: using a mobile phone (% age 15+)\n",
      "Made a withdrawal (% with a financial institution account, age 15+)\n",
      "Made or received a digital payment (% age 15+)\n",
      "Made or received a digital payment, female (% age 15+)\n",
      "Made or received a digital payment, male (% age 15+)\n",
      "Made or received a digital payment, rural (% age 15+)\n",
      "Made or received a digital payment, urban (% age 15+)\n",
      "Mobile money account (% age 15+)\n",
      "Mobile money account, female (% age 15+)\n",
      "Mobile money account, male (% age 15+)\n",
      "Mobile money account, rural (% age 15+)\n",
      "Mobile money account, urban (% age 15+)\n",
      "Own a mobile phone (% age 15+)\n",
      "Owns a debit or credit card (% age 15+)\n",
      "Owns a debit or credit card, female (% age 15+)\n",
      "Owns a debit or credit card, male (% age 15+)\n",
      "Owns a debit or credit card, rural (% age 15+)\n",
      "Owns a debit or credit card, urban (% age 15+)\n",
      "Received digital payments (% age 15+)\n",
      "Received digital payments, female (% age 15+)\n",
      "Received digital payments, male (% age 15+)\n",
      "Received digital payments, rural (% age 15+)\n",
      "Received digital payments, urban (% age 15+)\n",
      "Saved at a financial institution or using a mobile money account (% age 15+)\n",
      "Saved at a financial institution or using a mobile money account, female (% age 15+)\n",
      "Saved at a financial institution or using a mobile money account, male (% age 15+)\n",
      "Saved at a financial institution or using a mobile money account, rural (% age 15+)\n",
      "Saved at a financial institution or using a mobile money account, urban (% age 15+)\n",
      "Saved money using a mobile money account (% age 15+)\n",
      "Saved money using a mobile money account, female (% age 15+)\n",
      "Saved money using a mobile money account, male (% age 15+)\n",
      "Saved money using a mobile money account, rural (% age 15+)\n",
      "Saved money using a mobile money account, urban (% age 15+)\n",
      "Store money using a financial institution or a mobile money account (% age 15+)\n",
      "Store money using a financial institution or a mobile money account (% with an account,  age 15+)\n",
      "Store money using a mobile money account (% age 15+)\n",
      "Store money using a mobile money account (% with a mobile money account acount, age 15+)\n",
      "Use a mobile phone or the internet to make payments, buy things, or to send or receive money using a financial institution account (% age 15+)\n",
      "Use a mobile phone or the internet to make payments, buy things, or to send or receive money using a financial institution account (% with a financial institution account, age 15+)\n",
      "Used a mobile phone or the internet to access a financial institution account (% age 15+)\n",
      "Used a mobile phone or the internet to access a financial institution account (% with a financial institution account, age 15+)\n",
      "Used a mobile phone or the internet to access an account (% with an account, age 15+)\n",
      "Used a mobile phone or the internet to access an account(% age 15+)\n",
      "Used a mobile phone or the internet to access an account, female (% age 15+)\n",
      "Used a mobile phone or the internet to access an account, male (% age 15+)\n",
      "Used a mobile phone or the internet to access an account, rural (% age 15+)\n",
      "Used a mobile phone or the internet to access an account, urban (% age 15+)\n",
      "Used a mobile phone or the internet to buy something online (% age 15+)\n",
      "Used a mobile phone or the internet to buy something online, female (% age 15+)\n",
      "Used a mobile phone or the internet to buy something online, male (% age 15+)\n",
      "Used a mobile phone or the internet to buy something online, rural (% age 15+)\n",
      "Used a mobile phone or the internet to buy something online, urban (% age 15+)\n",
      "Used a mobile phone or the internet to check account balance(% age 15+)\n",
      "Used a mobile phone or the internet to check account balance(% with a financial institution account, age 15+)\n",
      "Used a mobile phone or the internet to pay bills, female (% age 15+)\n",
      "Used a mobile phone or the internet to pay bills, male (% age 15+)\n",
      "Used a mobile phone or the internet to pay bills, rural (% age 15+)\n",
      "Used a mobile phone or the internet to pay bills, urban (% age 15+)\n",
      "Used a mobile phone or the internet to send money (% age 15+)\n",
      "Used a mobile phone or the internet to send money, female (% age 15+)\n",
      "Used a mobile phone or the internet to send money, male (% age 15+)\n",
      "Used a mobile phone or the internet to send money, rural (% age 15+)\n",
      "Used a mobile phone or the internet to send money, urban (% age 15+)\n",
      "Fertility rate, total (births per woman)\n",
      "GDP per capita, PPP (constant 2021 international $)\n",
      "Life expectancy at birth, total (years)\n",
      "Mortality rate, infant (per 1,000 live births)\n",
      "Population density (people per sq. km of land area)\n",
      "Population growth (annual %)\n",
      "Population, total\n",
      "Poverty headcount ratio at national poverty lines (% of population)\n",
      "Rural population (% of total population)\n",
      "Urban population (% of total population)\n",
      "foodSupply_stability\n"
     ]
    }
   ],
   "source": [
    "for column in df.columns:\n",
    "    print(column)"
   ]
  },
  {
   "cell_type": "markdown",
   "id": "b471e29e",
   "metadata": {},
   "source": [
    "## Creating Line Plots (Time) of Y Variables\n",
    "### Account (% age 15+)"
   ]
  },
  {
   "cell_type": "code",
   "execution_count": 54,
   "id": "6aacfc6d",
   "metadata": {},
   "outputs": [
    {
     "data": {
      "image/png": "[encoded data removed]",
      "text/plain": [
       "<Figure size 640x480 with 1 Axes>"
      ]
     },
     "metadata": {},
     "output_type": "display_data"
    }
   ],
   "source": [
    "viz.lineplot(\n",
    "    df,\n",
    "    'year',\n",
    "    'Account (% age 15+)',\n",
    "    'code',\n",
    "    \"% of Pop. Age 15+ with a Financial Services Account\",\n",
    "    \"Year\",\n",
    "    \"Account (% age 15+)\")"
   ]
  },
  {
   "cell_type": "markdown",
   "id": "1da21dc4",
   "metadata": {},
   "source": [
    "### Crop Production Index (2014-2016 = 100)"
   ]
  },
  {
   "cell_type": "code",
   "execution_count": 55,
   "id": "df62c1c5",
   "metadata": {},
   "outputs": [
    {
     "data": {
      "image/png": "[encoded data removed]",
      "text/plain": [
       "<Figure size 640x480 with 1 Axes>"
      ]
     },
     "metadata": {},
     "output_type": "display_data"
    }
   ],
   "source": [
    "viz.lineplot(\n",
    "    df,\n",
    "    'year',\n",
    "    'Crop production index (2014-2016 = 100)',\n",
    "    'code',\n",
    "    \"Crop production index (2014-2016 = 100) over Time\",\n",
    "    \"Year\",\n",
    "    \"Crop production index (2014-2016 = 100)\")"
   ]
  },
  {
   "cell_type": "code",
   "execution_count": 56,
   "id": "d549b38b",
   "metadata": {},
   "outputs": [
    {
     "data": {
      "text/html": [
       "<div>\n",
       "<style scoped>\n",
       "    .dataframe tbody tr th:only-of-type {\n",
       "        vertical-align: middle;\n",
       "    }\n",
       "\n",
       "    .dataframe tbody tr th {\n",
       "        vertical-align: top;\n",
       "    }\n",
       "\n",
       "    .dataframe thead th {\n",
       "        text-align: right;\n",
       "    }\n",
       "</style>\n",
       "<table border=\"1\" class=\"dataframe\">\n",
       "  <thead>\n",
       "    <tr style=\"text-align: right;\">\n",
       "      <th></th>\n",
       "      <th></th>\n",
       "      <th>Food supply quantity (kg/capita/yr)_Cereals - Excluding Beer</th>\n",
       "      <th>Food supply quantity (kg/capita/yr)_Starchy Roots</th>\n",
       "      <th>rolling_std</th>\n",
       "      <th>Rural Access to Electricity(Percent of Population)</th>\n",
       "      <th>Mobile Cellular Subscriptions (per 100 people)</th>\n",
       "      <th>Fixed Broadband Subsciptions (per 100 people)</th>\n",
       "      <th>region</th>\n",
       "      <th>Agriculture, forestry, and fishing, value added (percent of GDP)</th>\n",
       "      <th>Crop production index (2014-2016 = 100)</th>\n",
       "      <th>Account (% age 15+)</th>\n",
       "      <th>...</th>\n",
       "      <th>Mortality rate, infant (per 1,000 live births)</th>\n",
       "      <th>Population density (people per sq. km of land area)</th>\n",
       "      <th>Population growth (annual %)</th>\n",
       "      <th>Population, total</th>\n",
       "      <th>Poverty headcount ratio at national poverty lines (% of population)</th>\n",
       "      <th>Rural population (% of total population)</th>\n",
       "      <th>Urban population (% of total population)</th>\n",
       "      <th>foodSupply_stability</th>\n",
       "      <th>code</th>\n",
       "      <th>year</th>\n",
       "    </tr>\n",
       "    <tr>\n",
       "      <th>code</th>\n",
       "      <th>year</th>\n",
       "      <th></th>\n",
       "      <th></th>\n",
       "      <th></th>\n",
       "      <th></th>\n",
       "      <th></th>\n",
       "      <th></th>\n",
       "      <th></th>\n",
       "      <th></th>\n",
       "      <th></th>\n",
       "      <th></th>\n",
       "      <th></th>\n",
       "      <th></th>\n",
       "      <th></th>\n",
       "      <th></th>\n",
       "      <th></th>\n",
       "      <th></th>\n",
       "      <th></th>\n",
       "      <th></th>\n",
       "      <th></th>\n",
       "      <th></th>\n",
       "      <th></th>\n",
       "    </tr>\n",
       "  </thead>\n",
       "  <tbody>\n",
       "    <tr>\n",
       "      <th rowspan=\"5\" valign=\"top\">BGD</th>\n",
       "      <th>2011</th>\n",
       "      <td>278.27</td>\n",
       "      <td>47.40</td>\n",
       "      <td>46.219922</td>\n",
       "      <td>45.7</td>\n",
       "      <td>56.166790</td>\n",
       "      <td>0.305031</td>\n",
       "      <td>SA</td>\n",
       "      <td>16.809987</td>\n",
       "      <td>93.78</td>\n",
       "      <td>31.740000</td>\n",
       "      <td>...</td>\n",
       "      <td>35.4</td>\n",
       "      <td>1179.926834</td>\n",
       "      <td>0.908526</td>\n",
       "      <td>153591076.0</td>\n",
       "      <td>NaN</td>\n",
       "      <td>68.775</td>\n",
       "      <td>31.225</td>\n",
       "      <td>46.219922</td>\n",
       "      <td>BGD</td>\n",
       "      <td>2011</td>\n",
       "    </tr>\n",
       "    <tr>\n",
       "      <th>2012</th>\n",
       "      <td>278.22</td>\n",
       "      <td>48.06</td>\n",
       "      <td>45.756559</td>\n",
       "      <td>53.8</td>\n",
       "      <td>63.896104</td>\n",
       "      <td>0.387219</td>\n",
       "      <td>SA</td>\n",
       "      <td>16.177563</td>\n",
       "      <td>94.27</td>\n",
       "      <td>31.490000</td>\n",
       "      <td>...</td>\n",
       "      <td>34.1</td>\n",
       "      <td>1191.289091</td>\n",
       "      <td>0.958356</td>\n",
       "      <td>155070101.0</td>\n",
       "      <td>NaN</td>\n",
       "      <td>68.007</td>\n",
       "      <td>31.993</td>\n",
       "      <td>45.756559</td>\n",
       "      <td>BGD</td>\n",
       "      <td>2012</td>\n",
       "    </tr>\n",
       "    <tr>\n",
       "      <th>2013</th>\n",
       "      <td>273.69</td>\n",
       "      <td>48.70</td>\n",
       "      <td>36.231714</td>\n",
       "      <td>48.6</td>\n",
       "      <td>75.669007</td>\n",
       "      <td>0.974448</td>\n",
       "      <td>SA</td>\n",
       "      <td>15.493278</td>\n",
       "      <td>96.58</td>\n",
       "      <td>31.240000</td>\n",
       "      <td>...</td>\n",
       "      <td>32.7</td>\n",
       "      <td>1202.520865</td>\n",
       "      <td>0.938408</td>\n",
       "      <td>156532141.0</td>\n",
       "      <td>NaN</td>\n",
       "      <td>67.238</td>\n",
       "      <td>32.762</td>\n",
       "      <td>36.231714</td>\n",
       "      <td>BGD</td>\n",
       "      <td>2013</td>\n",
       "    </tr>\n",
       "    <tr>\n",
       "      <th>2014</th>\n",
       "      <td>272.78</td>\n",
       "      <td>49.29</td>\n",
       "      <td>2.619036</td>\n",
       "      <td>48.1</td>\n",
       "      <td>81.344598</td>\n",
       "      <td>1.958140</td>\n",
       "      <td>SA</td>\n",
       "      <td>15.351621</td>\n",
       "      <td>98.76</td>\n",
       "      <td>30.990000</td>\n",
       "      <td>...</td>\n",
       "      <td>31.4</td>\n",
       "      <td>1213.527917</td>\n",
       "      <td>0.911168</td>\n",
       "      <td>157964929.0</td>\n",
       "      <td>NaN</td>\n",
       "      <td>66.465</td>\n",
       "      <td>33.535</td>\n",
       "      <td>2.619036</td>\n",
       "      <td>BGD</td>\n",
       "      <td>2014</td>\n",
       "    </tr>\n",
       "    <tr>\n",
       "      <th>2015</th>\n",
       "      <td>278.61</td>\n",
       "      <td>50.07</td>\n",
       "      <td>2.833060</td>\n",
       "      <td>63.8</td>\n",
       "      <td>83.238753</td>\n",
       "      <td>3.069920</td>\n",
       "      <td>SA</td>\n",
       "      <td>14.782996</td>\n",
       "      <td>100.69</td>\n",
       "      <td>37.343333</td>\n",
       "      <td>...</td>\n",
       "      <td>30.0</td>\n",
       "      <td>1224.423285</td>\n",
       "      <td>0.893819</td>\n",
       "      <td>159383179.0</td>\n",
       "      <td>NaN</td>\n",
       "      <td>65.692</td>\n",
       "      <td>34.308</td>\n",
       "      <td>2.833060</td>\n",
       "      <td>BGD</td>\n",
       "      <td>2015</td>\n",
       "    </tr>\n",
       "  </tbody>\n",
       "</table>\n",
       "<p>5 rows × 130 columns</p>\n",
       "</div>"
      ],
      "text/plain": [
       "           Food supply quantity (kg/capita/yr)_Cereals - Excluding Beer  \\\n",
       "code year                                                                 \n",
       "BGD  2011                                             278.27              \n",
       "     2012                                             278.22              \n",
       "     2013                                             273.69              \n",
       "     2014                                             272.78              \n",
       "     2015                                             278.61              \n",
       "\n",
       "           Food supply quantity (kg/capita/yr)_Starchy Roots  rolling_std  \\\n",
       "code year                                                                   \n",
       "BGD  2011                                              47.40    46.219922   \n",
       "     2012                                              48.06    45.756559   \n",
       "     2013                                              48.70    36.231714   \n",
       "     2014                                              49.29     2.619036   \n",
       "     2015                                              50.07     2.833060   \n",
       "\n",
       "           Rural Access to Electricity(Percent of Population)  \\\n",
       "code year                                                       \n",
       "BGD  2011                                               45.7    \n",
       "     2012                                               53.8    \n",
       "     2013                                               48.6    \n",
       "     2014                                               48.1    \n",
       "     2015                                               63.8    \n",
       "\n",
       "           Mobile Cellular Subscriptions (per 100 people)  \\\n",
       "code year                                                   \n",
       "BGD  2011                                       56.166790   \n",
       "     2012                                       63.896104   \n",
       "     2013                                       75.669007   \n",
       "     2014                                       81.344598   \n",
       "     2015                                       83.238753   \n",
       "\n",
       "           Fixed Broadband Subsciptions (per 100 people) region  \\\n",
       "code year                                                         \n",
       "BGD  2011                                       0.305031     SA   \n",
       "     2012                                       0.387219     SA   \n",
       "     2013                                       0.974448     SA   \n",
       "     2014                                       1.958140     SA   \n",
       "     2015                                       3.069920     SA   \n",
       "\n",
       "           Agriculture, forestry, and fishing, value added (percent of GDP)  \\\n",
       "code year                                                                     \n",
       "BGD  2011                                          16.809987                  \n",
       "     2012                                          16.177563                  \n",
       "     2013                                          15.493278                  \n",
       "     2014                                          15.351621                  \n",
       "     2015                                          14.782996                  \n",
       "\n",
       "           Crop production index (2014-2016 = 100)  Account (% age 15+)  ...  \\\n",
       "code year                                                                ...   \n",
       "BGD  2011                                    93.78            31.740000  ...   \n",
       "     2012                                    94.27            31.490000  ...   \n",
       "     2013                                    96.58            31.240000  ...   \n",
       "     2014                                    98.76            30.990000  ...   \n",
       "     2015                                   100.69            37.343333  ...   \n",
       "\n",
       "           Mortality rate, infant (per 1,000 live births)  \\\n",
       "code year                                                   \n",
       "BGD  2011                                            35.4   \n",
       "     2012                                            34.1   \n",
       "     2013                                            32.7   \n",
       "     2014                                            31.4   \n",
       "     2015                                            30.0   \n",
       "\n",
       "           Population density (people per sq. km of land area)  \\\n",
       "code year                                                        \n",
       "BGD  2011                                        1179.926834     \n",
       "     2012                                        1191.289091     \n",
       "     2013                                        1202.520865     \n",
       "     2014                                        1213.527917     \n",
       "     2015                                        1224.423285     \n",
       "\n",
       "           Population growth (annual %)  Population, total  \\\n",
       "code year                                                    \n",
       "BGD  2011                      0.908526        153591076.0   \n",
       "     2012                      0.958356        155070101.0   \n",
       "     2013                      0.938408        156532141.0   \n",
       "     2014                      0.911168        157964929.0   \n",
       "     2015                      0.893819        159383179.0   \n",
       "\n",
       "           Poverty headcount ratio at national poverty lines (% of population)  \\\n",
       "code year                                                                        \n",
       "BGD  2011                                                NaN                     \n",
       "     2012                                                NaN                     \n",
       "     2013                                                NaN                     \n",
       "     2014                                                NaN                     \n",
       "     2015                                                NaN                     \n",
       "\n",
       "           Rural population (% of total population)  \\\n",
       "code year                                             \n",
       "BGD  2011                                    68.775   \n",
       "     2012                                    68.007   \n",
       "     2013                                    67.238   \n",
       "     2014                                    66.465   \n",
       "     2015                                    65.692   \n",
       "\n",
       "           Urban population (% of total population)  foodSupply_stability  \\\n",
       "code year                                                                   \n",
       "BGD  2011                                    31.225             46.219922   \n",
       "     2012                                    31.993             45.756559   \n",
       "     2013                                    32.762             36.231714   \n",
       "     2014                                    33.535              2.619036   \n",
       "     2015                                    34.308              2.833060   \n",
       "\n",
       "           code  year  \n",
       "code year              \n",
       "BGD  2011   BGD  2011  \n",
       "     2012   BGD  2012  \n",
       "     2013   BGD  2013  \n",
       "     2014   BGD  2014  \n",
       "     2015   BGD  2015  \n",
       "\n",
       "[5 rows x 130 columns]"
      ]
     },
     "execution_count": 56,
     "metadata": {},
     "output_type": "execute_result"
    }
   ],
   "source": [
    "df_for_interactive = df\n",
    "df_for_interactive['code'] = df_for_interactive.index.get_level_values(0)\n",
    "df_for_interactive['year'] = df_for_interactive.index.get_level_values(1)\n",
    "df_for_interactive.head()"
   ]
  },
  {
   "cell_type": "code",
   "execution_count": 57,
   "id": "ec7a1e97",
   "metadata": {},
   "outputs": [
    {
     "data": {
      "application/vnd.plotly.v1+json": {
       "config": {
        "plotlyServerURL": "https://plot.ly"
       },
       "data": [
        {
         "hovertemplate": "code=BGD<br>year=%{x}<br>Account (% age 15+)=%{y}<extra></extra>",
         "legendgroup": "BGD",
         "line": {
          "color": "#636efa",
          "dash": "solid"
         },
         "marker": {
          "symbol": "circle"
         },
         "mode": "lines",
         "name": "BGD",
         "orientation": "v",
         "showlegend": true,
         "type": "scatter",
         "x": {
          "bdata": "2wfcB90H3gffB+AH4AfhB+EH4gfiB+MH4wfkB+QH5QflB+YH5gc=",
          "dtype": "i2"
         },
         "xaxis": "x",
         "y": {
          "bdata": "PQrXo3C9P0A9CtejcH0/QD0K16NwPT9APQrXo3D9PkCLJb9Y8qtCQPnFkl8s2UVA+cWSXyzZRUBmZmZmZgZJQGZmZmZmBklAH4XrUbheSUAfhetRuF5JQNejcD0Kt0lA16NwPQq3SUCQwvUoXA9KQJDC9ShcD0pASOF6FK5nSkBI4XoUrmdKQEjhehSuZ0pASOF6FK5nSkA=",
          "dtype": "f8"
         },
         "yaxis": "y"
        },
        {
         "hovertemplate": "code=BTN<br>year=%{x}<br>Account (% age 15+)=%{y}<extra></extra>",
         "legendgroup": "BTN",
         "line": {
          "color": "#EF553B",
          "dash": "solid"
         },
         "marker": {
          "symbol": "circle"
         },
         "mode": "lines",
         "name": "BTN",
         "orientation": "v",
         "showlegend": true,
         "type": "scatter",
         "x": {
          "bdata": "4wfjB+QH5AflB+UH5gfmBw==",
          "dtype": "i2"
         },
         "xaxis": "x",
         "y": {
          "bdata": "9ihcj8LVQED2KFyPwtVAQPYoXI/C1UBA9ihcj8LVQED2KFyPwtVAQPYoXI/C1UBA9ihcj8LVQED2KFyPwtVAQA==",
          "dtype": "f8"
         },
         "yaxis": "y"
        },
        {
         "hovertemplate": "code=KHM<br>year=%{x}<br>Account (% age 15+)=%{y}<extra></extra>",
         "legendgroup": "KHM",
         "line": {
          "color": "#00cc96",
          "dash": "solid"
         },
         "marker": {
          "symbol": "circle"
         },
         "mode": "lines",
         "name": "KHM",
         "orientation": "v",
         "showlegend": true,
         "type": "scatter",
         "x": {
          "bdata": "2wfcB90H3gffB+AH4AfhB+EH4gfiB+MH4wfkB+QH5QflB+YH5gc=",
          "dtype": "i2"
         },
         "xaxis": "x",
         "y": {
          "bdata": "SOF6FK5HDUAqXI/C9agjQAAAAAAAADBA7FG4HoUrNkBApw102gA2QJf8Yskv1jVAl/xiyS/WNUDsUbgehas1QOxRuB6FqzVAmpmZmZmZOECamZmZmZk4QEjhehSuhztASOF6FK6HO0D2KFyPwnU+QPYoXI/CdT5AUrgeheuxQEBSuB6F67FAQFK4HoXrsUBAUrgeheuxQEA=",
          "dtype": "f8"
         },
         "yaxis": "y"
        },
        {
         "hovertemplate": "code=IND<br>year=%{x}<br>Account (% age 15+)=%{y}<extra></extra>",
         "legendgroup": "IND",
         "line": {
          "color": "#ab63fa",
          "dash": "solid"
         },
         "marker": {
          "symbol": "circle"
         },
         "mode": "lines",
         "name": "IND",
         "orientation": "v",
         "showlegend": true,
         "type": "scatter",
         "x": {
          "bdata": "2wfcB90H3gffB+AH4AfhB+EH4gfiB+MH4wfkB+QH5QflB+YH5gc=",
          "dtype": "i2"
         },
         "xaxis": "x",
         "y": {
          "bdata": "PQrXo3CdQUCamZmZmZlEQPYoXI/ClUdAUrgeheuRSkAHOm2g0wZPQN7d3d3dvVFA3t3d3d29UUC4HoXrUfhTQLgehetR+FNAHoXrUbjSU0AehetRuNJTQIXrUbgerVNAhetRuB6tU0DsUbgehYdTQOxRuB6Fh1NAUrgehethU0BSuB6F62FTQFK4HoXrYVNAUrgehethU0A=",
          "dtype": "f8"
         },
         "yaxis": "y"
        },
        {
         "hovertemplate": "code=IDN<br>year=%{x}<br>Account (% age 15+)=%{y}<extra></extra>",
         "legendgroup": "IDN",
         "line": {
          "color": "#FFA15A",
          "dash": "solid"
         },
         "marker": {
          "symbol": "circle"
         },
         "mode": "lines",
         "name": "IDN",
         "orientation": "v",
         "showlegend": true,
         "type": "scatter",
         "x": {
          "bdata": "2wfcB90H3gffB+AH4AfhB+EH4gfiB+MH4wfkB+QH5QflB+YH5gc=",
          "dtype": "i2"
         },
         "xaxis": "x",
         "y": {
          "bdata": "FK5H4XqUM0CSXyz5xRI5QBIRERERkT5ASOF6FK4HQkBqA5020ClEQIslv1jyS0ZAiyW/WPJLRkCuR+F6FG5IQK5H4XoUbkhAexSuR+HKSEB7FK5H4cpIQEjhehSuJ0lASOF6FK4nSUAUrkfheoRJQBSuR+F6hElA4XoUrkfhSUDhehSuR+FJQOF6FK5H4UlA4XoUrkfhSUA=",
          "dtype": "f8"
         },
         "yaxis": "y"
        },
        {
         "hovertemplate": "code=LAO<br>year=%{x}<br>Account (% age 15+)=%{y}<extra></extra>",
         "legendgroup": "LAO",
         "line": {
          "color": "#19d3f3",
          "dash": "solid"
         },
         "marker": {
          "symbol": "circle"
         },
         "mode": "lines",
         "name": "LAO",
         "orientation": "v",
         "showlegend": true,
         "type": "scatter",
         "x": {
          "bdata": "2wfcB90H3gffB+AH4AfhB+EH4gfiB+MH4wfkB+QH5QflB+YH5gc=",
          "dtype": "i2"
         },
         "xaxis": "x",
         "y": {
          "bdata": "hetRuB7FOkAHOm2g0yY7QIiIiIiIiDtACtejcD3qO0CMJb9Y8ks8QA102kCnrTxADXTaQKetPECPwvUoXA89QI/C9ShcDz1AAAAAAAAgP0AAAAAAACA/QLgehetRmEBAuB6F61GYQEBxPQrXo6BBQHE9CtejoEFAKVyPwvWoQkApXI/C9ahCQClcj8L1qEJAKVyPwvWoQkA=",
          "dtype": "f8"
         },
         "yaxis": "y"
        },
        {
         "hovertemplate": "code=MYS<br>year=%{x}<br>Account (% age 15+)=%{y}<extra></extra>",
         "legendgroup": "MYS",
         "line": {
          "color": "#FF6692",
          "dash": "solid"
         },
         "marker": {
          "symbol": "circle"
         },
         "mode": "lines",
         "name": "MYS",
         "orientation": "v",
         "showlegend": true,
         "type": "scatter",
         "x": {
          "bdata": "2wfcB90H3gffB+AH4QfiB+MH5AflB+YH",
          "dtype": "i2"
         },
         "xaxis": "x",
         "y": {
          "bdata": "exSuR+GKUEDQaQOdNsBRQCa/WPKL9VJAexSuR+EqVEBPG+i0gY5UQCIiIiIi8lRA9ihcj8JVVUAK16NwPYZVQB+F61G4tlVANDMzMzPnVUBI4XoUrhdWQEjhehSuF1ZA",
          "dtype": "f8"
         },
         "yaxis": "y"
        },
        {
         "hovertemplate": "code=MMR<br>year=%{x}<br>Account (% age 15+)=%{y}<extra></extra>",
         "legendgroup": "MMR",
         "line": {
          "color": "#B6E880",
          "dash": "solid"
         },
         "marker": {
          "symbol": "circle"
         },
         "mode": "lines",
         "name": "MMR",
         "orientation": "v",
         "showlegend": true,
         "type": "scatter",
         "x": {
          "bdata": "2wfcB90H3gffB+AH4AfhB+EH4gfiB+MH4wfkB+QH5QflB+YH5gc=",
          "dtype": "i2"
         },
         "xaxis": "x",
         "y": {
          "bdata": "SOF6FK7HNkBI4XoUrsc2QEjhehSuxzZASOF6FK7HNkCamZmZmdk3QOxRuB6F6zhA7FG4HoXrOEA9CtejcP05QD0K16Nw/TlAcT0K16NwP0BxPQrXo3A/QFK4HoXrcUJAUrgehetxQkDsUbgehStFQOxRuB6FK0VAhetRuB7lR0CF61G4HuVHQIXrUbge5UdAhetRuB7lR0A=",
          "dtype": "f8"
         },
         "yaxis": "y"
        },
        {
         "hovertemplate": "code=NPL<br>year=%{x}<br>Account (% age 15+)=%{y}<extra></extra>",
         "legendgroup": "NPL",
         "line": {
          "color": "#FF97FF",
          "dash": "solid"
         },
         "marker": {
          "symbol": "circle"
         },
         "mode": "lines",
         "name": "NPL",
         "orientation": "v",
         "showlegend": true,
         "type": "scatter",
         "x": {
          "bdata": "2wfcB90H3gffB+AH4AfhB+EH4gfiB+MH4wfkB+QH5QflB+YH5gc=",
          "dtype": "i2"
         },
         "xaxis": "x",
         "y": {
          "bdata": "j8L1KFxPOUCkcD0K1yM8QLgehetR+D5AZmZmZmbmQEC0gU4b6NRCQAKdNtBpw0RAAp020GnDREBSuB6F67FGQFK4HoXrsUZAPQrXo3DFR0A9CtejcMVHQClcj8L12EhAKVyPwvXYSEAUrkfheuxJQBSuR+F67ElAAAAAAAAAS0AAAAAAAABLQAAAAAAAAEtAAAAAAAAAS0A=",
          "dtype": "f8"
         },
         "yaxis": "y"
        },
        {
         "hovertemplate": "code=PAK<br>year=%{x}<br>Account (% age 15+)=%{y}<extra></extra>",
         "legendgroup": "PAK",
         "line": {
          "color": "#FECB52",
          "dash": "solid"
         },
         "marker": {
          "symbol": "circle"
         },
         "mode": "lines",
         "name": "PAK",
         "orientation": "v",
         "showlegend": true,
         "type": "scatter",
         "x": {
          "bdata": "2wfcB90H3gffB+AH4AfhB+EH4gfiB+MH4wfkB+QH5QflB+YH5gc=",
          "dtype": "i2"
         },
         "xaxis": "x",
         "y": {
          "bdata": "H4XrUbieJEBxPQrXo3AmQMP1KFyPQihAFK5H4XoUKkAUrkfhepQvQArXo3A9ijJACtejcD2KMkAK16NwPUo1QArXo3A9SjVAZmZmZmY2NUBmZmZmZjY1QMP1KFyPIjVAw/UoXI8iNUAfhetRuA41QB+F61G4DjVAexSuR+H6NEB7FK5H4fo0QHsUrkfh+jRAexSuR+H6NEA=",
          "dtype": "f8"
         },
         "yaxis": "y"
        },
        {
         "hovertemplate": "code=PHL<br>year=%{x}<br>Account (% age 15+)=%{y}<extra></extra>",
         "legendgroup": "PHL",
         "line": {
          "color": "#636efa",
          "dash": "solid"
         },
         "marker": {
          "symbol": "circle"
         },
         "mode": "lines",
         "name": "PHL",
         "orientation": "v",
         "showlegend": true,
         "type": "scatter",
         "x": {
          "bdata": "2wfcB90H3gffB+AH4AfhB+EH4gfiB+MH4wfkB+QH5QflB+YH5gc=",
          "dtype": "i2"
         },
         "xaxis": "x",
         "y": {
          "bdata": "j8L1KFyPOkBjyS+W/CI8QDbQaQOdtj1ACtejcD1KP0CuR+F6FC5AQNejcD0Kt0BA16NwPQq3QEAAAAAAAEBBQAAAAAAAQEFApHA9CtdbQ0CkcD0K11tDQEjhehSud0VASOF6FK53RUDsUbgehZNHQOxRuB6Fk0dAj8L1KFyvSUCPwvUoXK9JQI/C9Shcr0lAj8L1KFyvSUA=",
          "dtype": "f8"
         },
         "yaxis": "y"
        },
        {
         "hovertemplate": "code=LKA<br>year=%{x}<br>Account (% age 15+)=%{y}<extra></extra>",
         "legendgroup": "LKA",
         "line": {
          "color": "#EF553B",
          "dash": "solid"
         },
         "marker": {
          "symbol": "circle"
         },
         "mode": "lines",
         "name": "LKA",
         "orientation": "v",
         "showlegend": true,
         "type": "scatter",
         "x": {
          "bdata": "2wfcB90H3gffB+AH4QfiB+MH5AflB+YH",
          "dtype": "i2"
         },
         "xaxis": "x",
         "y": {
          "bdata": "UrgeheshUUAAAAAAAFBSQK5H4XoUflNAXI/C9SisVEAb6LSBTutTQNtApw10KlNAmpmZmZlpUkDsUbgehWNTQD4K16NwXVRAj8L1KFxXVUDhehSuR1FWQOF6FK5HUVZA",
          "dtype": "f8"
         },
         "yaxis": "y"
        },
        {
         "hovertemplate": "code=THA<br>year=%{x}<br>Account (% age 15+)=%{y}<extra></extra>",
         "legendgroup": "THA",
         "line": {
          "color": "#00cc96",
          "dash": "solid"
         },
         "marker": {
          "symbol": "circle"
         },
         "mode": "lines",
         "name": "THA",
         "orientation": "v",
         "showlegend": true,
         "type": "scatter",
         "x": {
          "bdata": "2wfcB90H3gffB+AH4AfhB+EH4gfiB+MH4wfkB+QH5QflB+YH5gc=",
          "dtype": "i2"
         },
         "xaxis": "x",
         "y": {
          "bdata": "exSuR+EqUkBgLPnFkp9SQEREREREFFNAKVyPwvWIU0DD9Shcj9JTQFyPwvUoHFRAXI/C9SgcVED2KFyPwmVUQPYoXI/CZVRAmpmZmZlFVUCamZmZmUVVQD4K16NwJVZAPgrXo3AlVkDhehSuRwVXQOF6FK5HBVdAhetRuB7lV0CF61G4HuVXQIXrUbge5VdAhetRuB7lV0A=",
          "dtype": "f8"
         },
         "yaxis": "y"
        },
        {
         "hovertemplate": "code=VNM<br>year=%{x}<br>Account (% age 15+)=%{y}<extra></extra>",
         "legendgroup": "VNM",
         "line": {
          "color": "#ab63fa",
          "dash": "solid"
         },
         "marker": {
          "symbol": "circle"
         },
         "mode": "lines",
         "name": "VNM",
         "orientation": "v",
         "showlegend": true,
         "type": "scatter",
         "x": {
          "bdata": "2wfcB90H3gffB+AH4AfhB+EH4gfiB+MH4wfkB+QH5QflB+YH5gc=",
          "dtype": "i2"
         },
         "xaxis": "x",
         "y": {
          "bdata": "H4XrUbheNUDQaQOdNpA4QIJOG+i0wTtAMzMzMzPzPkBmZmZmZuY+QJqZmZmZ2T5AmpmZmZnZPkDNzMzMzMw+QM3MzMzMzD5A30+Nl27yQUDfT42XbvJBQFg5tMh2fkRAWDm0yHZ+REDRItv5fgpHQNEi2/l+CkdASgwCK4eWSUBKDAIrh5ZJQMP1KFyPIkxAw/UoXI8iTEA=",
          "dtype": "f8"
         },
         "yaxis": "y"
        }
       ],
       "layout": {
        "legend": {
         "title": {
          "text": "code"
         },
         "tracegroupgap": 0
        },
        "template": {
         "data": {
          "bar": [
           {
            "error_x": {
             "color": "#2a3f5f"
            },
            "error_y": {
             "color": "#2a3f5f"
            },
            "marker": {
             "line": {
              "color": "#E5ECF6",
              "width": 0.5
             },
             "pattern": {
              "fillmode": "overlay",
              "size": 10,
              "solidity": 0.2
             }
            },
            "type": "bar"
           }
          ],
          "barpolar": [
           {
            "marker": {
             "line": {
              "color": "#E5ECF6",
              "width": 0.5
             },
             "pattern": {
              "fillmode": "overlay",
              "size": 10,
              "solidity": 0.2
             }
            },
            "type": "barpolar"
           }
          ],
          "carpet": [
           {
            "aaxis": {
             "endlinecolor": "#2a3f5f",
             "gridcolor": "white",
             "linecolor": "white",
             "minorgridcolor": "white",
             "startlinecolor": "#2a3f5f"
            },
            "baxis": {
             "endlinecolor": "#2a3f5f",
             "gridcolor": "white",
             "linecolor": "white",
             "minorgridcolor": "white",
             "startlinecolor": "#2a3f5f"
            },
            "type": "carpet"
           }
          ],
          "choropleth": [
           {
            "colorbar": {
             "outlinewidth": 0,
             "ticks": ""
            },
            "type": "choropleth"
           }
          ],
          "contour": [
           {
            "colorbar": {
             "outlinewidth": 0,
             "ticks": ""
            },
            "colorscale": [
             [
              0,
              "#0d0887"
             ],
             [
              0.1111111111111111,
              "#46039f"
             ],
             [
              0.2222222222222222,
              "#7201a8"
             ],
             [
              0.3333333333333333,
              "#9c179e"
             ],
             [
              0.4444444444444444,
              "#bd3786"
             ],
             [
              0.5555555555555556,
              "#d8576b"
             ],
             [
              0.6666666666666666,
              "#ed7953"
             ],
             [
              0.7777777777777778,
              "#fb9f3a"
             ],
             [
              0.8888888888888888,
              "#fdca26"
             ],
             [
              1,
              "#f0f921"
             ]
            ],
            "type": "contour"
           }
          ],
          "contourcarpet": [
           {
            "colorbar": {
             "outlinewidth": 0,
             "ticks": ""
            },
            "type": "contourcarpet"
           }
          ],
          "heatmap": [
           {
            "colorbar": {
             "outlinewidth": 0,
             "ticks": ""
            },
            "colorscale": [
             [
              0,
              "#0d0887"
             ],
             [
              0.1111111111111111,
              "#46039f"
             ],
             [
              0.2222222222222222,
              "#7201a8"
             ],
             [
              0.3333333333333333,
              "#9c179e"
             ],
             [
              0.4444444444444444,
              "#bd3786"
             ],
             [
              0.5555555555555556,
              "#d8576b"
             ],
             [
              0.6666666666666666,
              "#ed7953"
             ],
             [
              0.7777777777777778,
              "#fb9f3a"
             ],
             [
              0.8888888888888888,
              "#fdca26"
             ],
             [
              1,
              "#f0f921"
             ]
            ],
            "type": "heatmap"
           }
          ],
          "histogram": [
           {
            "marker": {
             "pattern": {
              "fillmode": "overlay",
              "size": 10,
              "solidity": 0.2
             }
            },
            "type": "histogram"
           }
          ],
          "histogram2d": [
           {
            "colorbar": {
             "outlinewidth": 0,
             "ticks": ""
            },
            "colorscale": [
             [
              0,
              "#0d0887"
             ],
             [
              0.1111111111111111,
              "#46039f"
             ],
             [
              0.2222222222222222,
              "#7201a8"
             ],
             [
              0.3333333333333333,
              "#9c179e"
             ],
             [
              0.4444444444444444,
              "#bd3786"
             ],
             [
              0.5555555555555556,
              "#d8576b"
             ],
             [
              0.6666666666666666,
              "#ed7953"
             ],
             [
              0.7777777777777778,
              "#fb9f3a"
             ],
             [
              0.8888888888888888,
              "#fdca26"
             ],
             [
              1,
              "#f0f921"
             ]
            ],
            "type": "histogram2d"
           }
          ],
          "histogram2dcontour": [
           {
            "colorbar": {
             "outlinewidth": 0,
             "ticks": ""
            },
            "colorscale": [
             [
              0,
              "#0d0887"
             ],
             [
              0.1111111111111111,
              "#46039f"
             ],
             [
              0.2222222222222222,
              "#7201a8"
             ],
             [
              0.3333333333333333,
              "#9c179e"
             ],
             [
              0.4444444444444444,
              "#bd3786"
             ],
             [
              0.5555555555555556,
              "#d8576b"
             ],
             [
              0.6666666666666666,
              "#ed7953"
             ],
             [
              0.7777777777777778,
              "#fb9f3a"
             ],
             [
              0.8888888888888888,
              "#fdca26"
             ],
             [
              1,
              "#f0f921"
             ]
            ],
            "type": "histogram2dcontour"
           }
          ],
          "mesh3d": [
           {
            "colorbar": {
             "outlinewidth": 0,
             "ticks": ""
            },
            "type": "mesh3d"
           }
          ],
          "parcoords": [
           {
            "line": {
             "colorbar": {
              "outlinewidth": 0,
              "ticks": ""
             }
            },
            "type": "parcoords"
           }
          ],
          "pie": [
           {
            "automargin": true,
            "type": "pie"
           }
          ],
          "scatter": [
           {
            "fillpattern": {
             "fillmode": "overlay",
             "size": 10,
             "solidity": 0.2
            },
            "type": "scatter"
           }
          ],
          "scatter3d": [
           {
            "line": {
             "colorbar": {
              "outlinewidth": 0,
              "ticks": ""
             }
            },
            "marker": {
             "colorbar": {
              "outlinewidth": 0,
              "ticks": ""
             }
            },
            "type": "scatter3d"
           }
          ],
          "scattercarpet": [
           {
            "marker": {
             "colorbar": {
              "outlinewidth": 0,
              "ticks": ""
             }
            },
            "type": "scattercarpet"
           }
          ],
          "scattergeo": [
           {
            "marker": {
             "colorbar": {
              "outlinewidth": 0,
              "ticks": ""
             }
            },
            "type": "scattergeo"
           }
          ],
          "scattergl": [
           {
            "marker": {
             "colorbar": {
              "outlinewidth": 0,
              "ticks": ""
             }
            },
            "type": "scattergl"
           }
          ],
          "scattermap": [
           {
            "marker": {
             "colorbar": {
              "outlinewidth": 0,
              "ticks": ""
             }
            },
            "type": "scattermap"
           }
          ],
          "scattermapbox": [
           {
            "marker": {
             "colorbar": {
              "outlinewidth": 0,
              "ticks": ""
             }
            },
            "type": "scattermapbox"
           }
          ],
          "scatterpolar": [
           {
            "marker": {
             "colorbar": {
              "outlinewidth": 0,
              "ticks": ""
             }
            },
            "type": "scatterpolar"
           }
          ],
          "scatterpolargl": [
           {
            "marker": {
             "colorbar": {
              "outlinewidth": 0,
              "ticks": ""
             }
            },
            "type": "scatterpolargl"
           }
          ],
          "scatterternary": [
           {
            "marker": {
             "colorbar": {
              "outlinewidth": 0,
              "ticks": ""
             }
            },
            "type": "scatterternary"
           }
          ],
          "surface": [
           {
            "colorbar": {
             "outlinewidth": 0,
             "ticks": ""
            },
            "colorscale": [
             [
              0,
              "#0d0887"
             ],
             [
              0.1111111111111111,
              "#46039f"
             ],
             [
              0.2222222222222222,
              "#7201a8"
             ],
             [
              0.3333333333333333,
              "#9c179e"
             ],
             [
              0.4444444444444444,
              "#bd3786"
             ],
             [
              0.5555555555555556,
              "#d8576b"
             ],
             [
              0.6666666666666666,
              "#ed7953"
             ],
             [
              0.7777777777777778,
              "#fb9f3a"
             ],
             [
              0.8888888888888888,
              "#fdca26"
             ],
             [
              1,
              "#f0f921"
             ]
            ],
            "type": "surface"
           }
          ],
          "table": [
           {
            "cells": {
             "fill": {
              "color": "#EBF0F8"
             },
             "line": {
              "color": "white"
             }
            },
            "header": {
             "fill": {
              "color": "#C8D4E3"
             },
             "line": {
              "color": "white"
             }
            },
            "type": "table"
           }
          ]
         },
         "layout": {
          "annotationdefaults": {
           "arrowcolor": "#2a3f5f",
           "arrowhead": 0,
           "arrowwidth": 1
          },
          "autotypenumbers": "strict",
          "coloraxis": {
           "colorbar": {
            "outlinewidth": 0,
            "ticks": ""
           }
          },
          "colorscale": {
           "diverging": [
            [
             0,
             "#8e0152"
            ],
            [
             0.1,
             "#c51b7d"
            ],
            [
             0.2,
             "#de77ae"
            ],
            [
             0.3,
             "#f1b6da"
            ],
            [
             0.4,
             "#fde0ef"
            ],
            [
             0.5,
             "#f7f7f7"
            ],
            [
             0.6,
             "#e6f5d0"
            ],
            [
             0.7,
             "#b8e186"
            ],
            [
             0.8,
             "#7fbc41"
            ],
            [
             0.9,
             "#4d9221"
            ],
            [
             1,
             "#276419"
            ]
           ],
           "sequential": [
            [
             0,
             "#0d0887"
            ],
            [
             0.1111111111111111,
             "#46039f"
            ],
            [
             0.2222222222222222,
             "#7201a8"
            ],
            [
             0.3333333333333333,
             "#9c179e"
            ],
            [
             0.4444444444444444,
             "#bd3786"
            ],
            [
             0.5555555555555556,
             "#d8576b"
            ],
            [
             0.6666666666666666,
             "#ed7953"
            ],
            [
             0.7777777777777778,
             "#fb9f3a"
            ],
            [
             0.8888888888888888,
             "#fdca26"
            ],
            [
             1,
             "#f0f921"
            ]
           ],
           "sequentialminus": [
            [
             0,
             "#0d0887"
            ],
            [
             0.1111111111111111,
             "#46039f"
            ],
            [
             0.2222222222222222,
             "#7201a8"
            ],
            [
             0.3333333333333333,
             "#9c179e"
            ],
            [
             0.4444444444444444,
             "#bd3786"
            ],
            [
             0.5555555555555556,
             "#d8576b"
            ],
            [
             0.6666666666666666,
             "#ed7953"
            ],
            [
             0.7777777777777778,
             "#fb9f3a"
            ],
            [
             0.8888888888888888,
             "#fdca26"
            ],
            [
             1,
             "#f0f921"
            ]
           ]
          },
          "colorway": [
           "#636efa",
           "#EF553B",
           "#00cc96",
           "#ab63fa",
           "#FFA15A",
           "#19d3f3",
           "#FF6692",
           "#B6E880",
           "#FF97FF",
           "#FECB52"
          ],
          "font": {
           "color": "#2a3f5f"
          },
          "geo": {
           "bgcolor": "white",
           "lakecolor": "white",
           "landcolor": "#E5ECF6",
           "showlakes": true,
           "showland": true,
           "subunitcolor": "white"
          },
          "hoverlabel": {
           "align": "left"
          },
          "hovermode": "closest",
          "mapbox": {
           "style": "light"
          },
          "paper_bgcolor": "white",
          "plot_bgcolor": "#E5ECF6",
          "polar": {
           "angularaxis": {
            "gridcolor": "white",
            "linecolor": "white",
            "ticks": ""
           },
           "bgcolor": "#E5ECF6",
           "radialaxis": {
            "gridcolor": "white",
            "linecolor": "white",
            "ticks": ""
           }
          },
          "scene": {
           "xaxis": {
            "backgroundcolor": "#E5ECF6",
            "gridcolor": "white",
            "gridwidth": 2,
            "linecolor": "white",
            "showbackground": true,
            "ticks": "",
            "zerolinecolor": "white"
           },
           "yaxis": {
            "backgroundcolor": "#E5ECF6",
            "gridcolor": "white",
            "gridwidth": 2,
            "linecolor": "white",
            "showbackground": true,
            "ticks": "",
            "zerolinecolor": "white"
           },
           "zaxis": {
            "backgroundcolor": "#E5ECF6",
            "gridcolor": "white",
            "gridwidth": 2,
            "linecolor": "white",
            "showbackground": true,
            "ticks": "",
            "zerolinecolor": "white"
           }
          },
          "shapedefaults": {
           "line": {
            "color": "#2a3f5f"
           }
          },
          "ternary": {
           "aaxis": {
            "gridcolor": "white",
            "linecolor": "white",
            "ticks": ""
           },
           "baxis": {
            "gridcolor": "white",
            "linecolor": "white",
            "ticks": ""
           },
           "bgcolor": "#E5ECF6",
           "caxis": {
            "gridcolor": "white",
            "linecolor": "white",
            "ticks": ""
           }
          },
          "title": {
           "x": 0.05
          },
          "xaxis": {
           "automargin": true,
           "gridcolor": "white",
           "linecolor": "white",
           "ticks": "",
           "title": {
            "standoff": 15
           },
           "zerolinecolor": "white",
           "zerolinewidth": 2
          },
          "yaxis": {
           "automargin": true,
           "gridcolor": "white",
           "linecolor": "white",
           "ticks": "",
           "title": {
            "standoff": 15
           },
           "zerolinecolor": "white",
           "zerolinewidth": 2
          }
         }
        },
        "title": {
         "text": "% of Pop. Age 15+ with a Financial Services Account"
        },
        "xaxis": {
         "anchor": "y",
         "domain": [
          0,
          1
         ],
         "title": {
          "text": "year"
         }
        },
        "yaxis": {
         "anchor": "x",
         "domain": [
          0,
          1
         ],
         "title": {
          "text": "Account (% age 15+)"
         }
        }
       }
      }
     },
     "metadata": {},
     "output_type": "display_data"
    }
   ],
   "source": [
    "#interactive\n",
    "px.line(\n",
    "    df_for_interactive,\n",
    "    x = 'year',\n",
    "    y = 'Account (% age 15+)',\n",
    "    color = 'code',\n",
    "    title='% of Pop. Age 15+ with a Financial Services Account'\n",
    ")"
   ]
  },
  {
   "cell_type": "code",
   "execution_count": 58,
   "id": "ab380de0",
   "metadata": {},
   "outputs": [
    {
     "data": {
      "application/vnd.plotly.v1+json": {
       "config": {
        "plotlyServerURL": "https://plot.ly"
       },
       "data": [
        {
         "hovertemplate": "code=BGD<br>year=%{x}<br>Crop production index (2014-2016 = 100)=%{y}<extra></extra>",
         "legendgroup": "BGD",
         "line": {
          "color": "#636efa",
          "dash": "solid"
         },
         "marker": {
          "symbol": "circle"
         },
         "mode": "lines",
         "name": "BGD",
         "orientation": "v",
         "showlegend": true,
         "type": "scatter",
         "x": {
          "bdata": "2wfcB90H3gffB+AH4AfhB+EH4gfiB+MH4wfkB+QH5QflB+YH5gc=",
          "dtype": "i2"
         },
         "xaxis": "x",
         "y": {
          "bdata": "UrgehetxV0DhehSuR5FXQIXrUbgeJVhAcT0K16OwWEBcj8L1KCxZQDMzMzMzI1lAMzMzMzMjWUCuR+F6FB5bQK5H4XoUHltAAAAAAAAAW0AAAAAAAABbQClcj8L1eFtAKVyPwvV4W0D2KFyPwvVbQPYoXI/C9VtAPQrXo3AdXUA9CtejcB1dQGZmZmZmxl1AZmZmZmbGXUA=",
          "dtype": "f8"
         },
         "yaxis": "y"
        },
        {
         "hovertemplate": "code=BTN<br>year=%{x}<br>Crop production index (2014-2016 = 100)=%{y}<extra></extra>",
         "legendgroup": "BTN",
         "line": {
          "color": "#EF553B",
          "dash": "solid"
         },
         "marker": {
          "symbol": "circle"
         },
         "mode": "lines",
         "name": "BTN",
         "orientation": "v",
         "showlegend": true,
         "type": "scatter",
         "x": {
          "bdata": "4wfjB+QH5AflB+UH5gfmBw==",
          "dtype": "i2"
         },
         "xaxis": "x",
         "y": {
          "bdata": "7FG4HoWrV0DsUbgehatXQClcj8L12FlAKVyPwvXYWUBcj8L1KNxWQFyPwvUo3FZA9ihcj8IFUUD2KFyPwgVRQA==",
          "dtype": "f8"
         },
         "yaxis": "y"
        },
        {
         "hovertemplate": "code=KHM<br>year=%{x}<br>Crop production index (2014-2016 = 100)=%{y}<extra></extra>",
         "legendgroup": "KHM",
         "line": {
          "color": "#00cc96",
          "dash": "solid"
         },
         "marker": {
          "symbol": "circle"
         },
         "mode": "lines",
         "name": "KHM",
         "orientation": "v",
         "showlegend": true,
         "type": "scatter",
         "x": {
          "bdata": "2wfcB90H3gffB+AH4AfhB+EH4gfiB+MH4wfkB+QH5QflB+YH5gc=",
          "dtype": "i2"
         },
         "xaxis": "x",
         "y": {
          "bdata": "SOF6FK6HVEApXI/C9VhVQOxRuB6Fu1VAUrgeheuxV0DNzMzMzFxYQOF6FK5H8VpA4XoUrkfxWkAAAAAAAJBbQAAAAAAAkFtAuB6F61FoXEC4HoXrUWhcQFyPwvUoPFxAXI/C9Sg8XEBmZmZmZgZdQGZmZmZmBl1ArkfhehRmYECuR+F6FGZgQKRwPQrXS2BApHA9CtdLYEA=",
          "dtype": "f8"
         },
         "yaxis": "y"
        },
        {
         "hovertemplate": "code=IND<br>year=%{x}<br>Crop production index (2014-2016 = 100)=%{y}<extra></extra>",
         "legendgroup": "IND",
         "line": {
          "color": "#ab63fa",
          "dash": "solid"
         },
         "marker": {
          "symbol": "circle"
         },
         "mode": "lines",
         "name": "IND",
         "orientation": "v",
         "showlegend": true,
         "type": "scatter",
         "x": {
          "bdata": "2wfcB90H3gffB+AH4AfhB+EH4gfiB+MH4wfkB+QH5QflB+YH5gc=",
          "dtype": "i2"
         },
         "xaxis": "x",
         "y": {
          "bdata": "PQrXo3CNV0C4HoXrUehXQOF6FK5HAVlAhetRuB5VWUApXI/C9WhYQFK4HoXrQVlAUrgehetBWUBSuB6F69FaQFK4HoXr0VpA9ihcj8K1W0D2KFyPwrVbQAAAAAAAEFxAAAAAAAAQXECPwvUoXO9cQI/C9Shc71xAuB6F61EoXkC4HoXrUSheQMP1KFyP0l5Aw/UoXI/SXkA=",
          "dtype": "f8"
         },
         "yaxis": "y"
        },
        {
         "hovertemplate": "code=IDN<br>year=%{x}<br>Crop production index (2014-2016 = 100)=%{y}<extra></extra>",
         "legendgroup": "IDN",
         "line": {
          "color": "#FFA15A",
          "dash": "solid"
         },
         "marker": {
          "symbol": "circle"
         },
         "mode": "lines",
         "name": "IDN",
         "orientation": "v",
         "showlegend": true,
         "type": "scatter",
         "x": {
          "bdata": "2wfcB90H3gffB+AH4AfhB+EH4gfiB+MH4wfkB+QH5QflB+YH5gc=",
          "dtype": "i2"
         },
         "xaxis": "x",
         "y": {
          "bdata": "PQrXo3CdV0DhehSuR+FYQPYoXI/CFVlAzczMzMzsWEAUrkfhelRZQB+F61G4vlhAH4XrUbi+WECF61G4HiVbQIXrUbgeJVtAj8L1KFw/XECPwvUoXD9cQEjhehSu91pASOF6FK73WkCuR+F6FA5bQK5H4XoUDltAKVyPwvUoW0ApXI/C9ShbQArXo3A92ltACtejcD3aW0A=",
          "dtype": "f8"
         },
         "yaxis": "y"
        },
        {
         "hovertemplate": "code=LAO<br>year=%{x}<br>Crop production index (2014-2016 = 100)=%{y}<extra></extra>",
         "legendgroup": "LAO",
         "line": {
          "color": "#19d3f3",
          "dash": "solid"
         },
         "marker": {
          "symbol": "circle"
         },
         "mode": "lines",
         "name": "LAO",
         "orientation": "v",
         "showlegend": true,
         "type": "scatter",
         "x": {
          "bdata": "2wfcB90H3gffB+AH4AfhB+EH4gfiB+MH4wfkB+QH5QflB+YH5gc=",
          "dtype": "i2"
         },
         "xaxis": "x",
         "y": {
          "bdata": "16NwPQonUEDsUbgehWtRQFyPwvUonFJAXI/C9SicVkDD9Shcj/JZQOF6FK5HcVpA4XoUrkdxWkDD9Shcj1JYQMP1KFyPUlhA9ihcj8LFWED2KFyPwsVYQB+F61G4rlhAH4XrUbiuWEDNzMzMzIxZQM3MzMzMjFlAZmZmZmYmWkBmZmZmZiZaQJqZmZmZaVxAmpmZmZlpXEA=",
          "dtype": "f8"
         },
         "yaxis": "y"
        },
        {
         "hovertemplate": "code=MYS<br>year=%{x}<br>Crop production index (2014-2016 = 100)=%{y}<extra></extra>",
         "legendgroup": "MYS",
         "line": {
          "color": "#FF6692",
          "dash": "solid"
         },
         "marker": {
          "symbol": "circle"
         },
         "mode": "lines",
         "name": "MYS",
         "orientation": "v",
         "showlegend": true,
         "type": "scatter",
         "x": {
          "bdata": "2wfcB90H3gffB+AH4QfiB+MH5AflB+YH",
          "dtype": "i2"
         },
         "xaxis": "x",
         "y": {
          "bdata": "AAAAAADwWEDNzMzMzExZQDMzMzMzI1lAPQrXo3BNWUBcj8L1KBxaQNejcD0Kl1dAFK5H4XqkWkBSuB6F67FZQFK4HoXrwVlAj8L1KFxvWUCPwvUoXG9YQOxRuB6Fe1hA",
          "dtype": "f8"
         },
         "yaxis": "y"
        },
        {
         "hovertemplate": "code=MMR<br>year=%{x}<br>Crop production index (2014-2016 = 100)=%{y}<extra></extra>",
         "legendgroup": "MMR",
         "line": {
          "color": "#B6E880",
          "dash": "solid"
         },
         "marker": {
          "symbol": "circle"
         },
         "mode": "lines",
         "name": "MMR",
         "orientation": "v",
         "showlegend": true,
         "type": "scatter",
         "x": {
          "bdata": "2wfcB90H3gffB+AH4AfhB+EH4gfiB+MH4wfkB+QH5QflB+YH5gc=",
          "dtype": "i2"
         },
         "xaxis": "x",
         "y": {
          "bdata": "uB6F61H4WUAAAAAAABBZQD0K16Nw3VlA16NwPQr3WECamZmZmTlZQI/C9Shcz1hAj8L1KFzPWEAUrkfhekRYQBSuR+F6RFhAzczMzMwcWUDNzMzMzBxZQArXo3A9ilhACtejcD2KWEAzMzMzMyNYQDMzMzMzI1hAmpmZmZm5WECamZmZmblYQI/C9Shcj1dAj8L1KFyPV0A=",
          "dtype": "f8"
         },
         "yaxis": "y"
        },
        {
         "hovertemplate": "code=NPL<br>year=%{x}<br>Crop production index (2014-2016 = 100)=%{y}<extra></extra>",
         "legendgroup": "NPL",
         "line": {
          "color": "#FF97FF",
          "dash": "solid"
         },
         "marker": {
          "symbol": "circle"
         },
         "mode": "lines",
         "name": "NPL",
         "orientation": "v",
         "showlegend": true,
         "type": "scatter",
         "x": {
          "bdata": "2wfcB90H3gffB+AH4AfhB+EH4gfiB+MH4wfkB+QH5QflB+YH5gc=",
          "dtype": "i2"
         },
         "xaxis": "x",
         "y": {
          "bdata": "exSuR+EKV0CF61G4HqVXQB+F61G4HlhAAAAAAACAWEAUrkfhehRYQHsUrkfhalpAexSuR+FqWkBcj8L1KDxaQFyPwvUoPFpAmpmZmZkJW0CamZmZmQlbQFK4HoXr0VtAUrgehevRW0AfhetRuG5cQB+F61G4blxAFK5H4Xo0XEAUrkfhejRcQArXo3A9Kl1ACtejcD0qXUA=",
          "dtype": "f8"
         },
         "yaxis": "y"
        },
        {
         "hovertemplate": "code=PAK<br>year=%{x}<br>Crop production index (2014-2016 = 100)=%{y}<extra></extra>",
         "legendgroup": "PAK",
         "line": {
          "color": "#FECB52",
          "dash": "solid"
         },
         "marker": {
          "symbol": "circle"
         },
         "mode": "lines",
         "name": "PAK",
         "orientation": "v",
         "showlegend": true,
         "type": "scatter",
         "x": {
          "bdata": "2wfcB90H3gffB+AH4AfhB+EH4gfiB+MH4wfkB+QH5QflB+YH5gc=",
          "dtype": "i2"
         },
         "xaxis": "x",
         "y": {
          "bdata": "XI/C9SisWECamZmZmalXQIXrUbgeRVlA9ihcj8KVWUBmZmZmZkZYQKRwPQrXI1lApHA9CtcjWUA9CtejcF1aQD0K16NwXVpACtejcD3qWEAK16NwPepYQBSuR+F6FFlAFK5H4XoUWUApXI/C9UhaQClcj8L1SFpAexSuR+FaXEB7FK5H4VpcQLgehetRCFpAuB6F61EIWkA=",
          "dtype": "f8"
         },
         "yaxis": "y"
        },
        {
         "hovertemplate": "code=PHL<br>year=%{x}<br>Crop production index (2014-2016 = 100)=%{y}<extra></extra>",
         "legendgroup": "PHL",
         "line": {
          "color": "#636efa",
          "dash": "solid"
         },
         "marker": {
          "symbol": "circle"
         },
         "mode": "lines",
         "name": "PHL",
         "orientation": "v",
         "showlegend": true,
         "type": "scatter",
         "x": {
          "bdata": "2wfcB90H3gffB+AH4AfhB+EH4gfiB+MH4wfkB+QH5QflB+YH5gc=",
          "dtype": "i2"
         },
         "xaxis": "x",
         "y": {
          "bdata": "KVyPwvU4WECamZmZmRlZQMP1KFyP8lhAw/UoXI+CWUC4HoXrURhZQIXrUbgeZVhAhetRuB5lWEAfhetRuM5ZQB+F61G4zllAMzMzMzOzWUAzMzMzM7NZQKRwPQrXc1lApHA9CtdzWUDsUbgehbtZQOxRuB6Fu1lA16NwPQpHWkDXo3A9CkdaQB+F61G4/llAH4XrUbj+WUA=",
          "dtype": "f8"
         },
         "yaxis": "y"
        },
        {
         "hovertemplate": "code=LKA<br>year=%{x}<br>Crop production index (2014-2016 = 100)=%{y}<extra></extra>",
         "legendgroup": "LKA",
         "line": {
          "color": "#EF553B",
          "dash": "solid"
         },
         "marker": {
          "symbol": "circle"
         },
         "mode": "lines",
         "name": "LKA",
         "orientation": "v",
         "showlegend": true,
         "type": "scatter",
         "x": {
          "bdata": "2wfcB90H3gffB+AH4QfiB+MH5AflB+YH",
          "dtype": "i2"
         },
         "xaxis": "x",
         "y": {
          "bdata": "KVyPwvUoWEBxPQrXo4BYQKRwPQrX41lAcT0K16NwWEBSuB6F6yFaQD0K16NwbVhAAAAAAACwVUApXI/C9YhXQGZmZmZm9ldA9ihcj8LVWkDhehSuR0FdQB+F61G47ldA",
          "dtype": "f8"
         },
         "yaxis": "y"
        },
        {
         "hovertemplate": "code=THA<br>year=%{x}<br>Crop production index (2014-2016 = 100)=%{y}<extra></extra>",
         "legendgroup": "THA",
         "line": {
          "color": "#00cc96",
          "dash": "solid"
         },
         "marker": {
          "symbol": "circle"
         },
         "mode": "lines",
         "name": "THA",
         "orientation": "v",
         "showlegend": true,
         "type": "scatter",
         "x": {
          "bdata": "2wfcB90H3gffB+AH4AfhB+EH4gfiB+MH4wfkB+QH5QflB+YH5gc=",
          "dtype": "i2"
         },
         "xaxis": "x",
         "y": {
          "bdata": "mpmZmZnJWEDhehSuR4FaQMP1KFyPQlpAuB6F61HIWUApXI/C9QhYQK5H4XoULllArkfhehQuWUBcj8L1KLxZQFyPwvUovFlAuB6F61GYWkC4HoXrUZhaQHE9CtejoFlAcT0K16OgWUCuR+F6FH5YQK5H4XoUflhAZmZmZmaGWUBmZmZmZoZZQGZmZmZmplpAZmZmZmamWkA=",
          "dtype": "f8"
         },
         "yaxis": "y"
        },
        {
         "hovertemplate": "code=VNM<br>year=%{x}<br>Crop production index (2014-2016 = 100)=%{y}<extra></extra>",
         "legendgroup": "VNM",
         "line": {
          "color": "#ab63fa",
          "dash": "solid"
         },
         "marker": {
          "symbol": "circle"
         },
         "mode": "lines",
         "name": "VNM",
         "orientation": "v",
         "showlegend": true,
         "type": "scatter",
         "x": {
          "bdata": "2wfcB90H3gffB+AH4AfhB+EH4gfiB+MH4wfkB+QH5QflB+YH5gc=",
          "dtype": "i2"
         },
         "xaxis": "x",
         "y": {
          "bdata": "cT0K16PQVUDXo3A9CpdXQGZmZmZmFlhAmpmZmZnZWEAfhetRuD5ZQLgehetR6FhAuB6F61HoWEBSuB6F62FZQFK4HoXrYVlAzczMzMwsWkDNzMzMzCxaQFyPwvUoXFpAXI/C9ShcWkBxPQrXo4BaQHE9CtejgFpAj8L1KFxPW0CPwvUoXE9bQDMzMzMzY1tAMzMzMzNjW0A=",
          "dtype": "f8"
         },
         "yaxis": "y"
        }
       ],
       "layout": {
        "legend": {
         "title": {
          "text": "code"
         },
         "tracegroupgap": 0
        },
        "template": {
         "data": {
          "bar": [
           {
            "error_x": {
             "color": "#2a3f5f"
            },
            "error_y": {
             "color": "#2a3f5f"
            },
            "marker": {
             "line": {
              "color": "#E5ECF6",
              "width": 0.5
             },
             "pattern": {
              "fillmode": "overlay",
              "size": 10,
              "solidity": 0.2
             }
            },
            "type": "bar"
           }
          ],
          "barpolar": [
           {
            "marker": {
             "line": {
              "color": "#E5ECF6",
              "width": 0.5
             },
             "pattern": {
              "fillmode": "overlay",
              "size": 10,
              "solidity": 0.2
             }
            },
            "type": "barpolar"
           }
          ],
          "carpet": [
           {
            "aaxis": {
             "endlinecolor": "#2a3f5f",
             "gridcolor": "white",
             "linecolor": "white",
             "minorgridcolor": "white",
             "startlinecolor": "#2a3f5f"
            },
            "baxis": {
             "endlinecolor": "#2a3f5f",
             "gridcolor": "white",
             "linecolor": "white",
             "minorgridcolor": "white",
             "startlinecolor": "#2a3f5f"
            },
            "type": "carpet"
           }
          ],
          "choropleth": [
           {
            "colorbar": {
             "outlinewidth": 0,
             "ticks": ""
            },
            "type": "choropleth"
           }
          ],
          "contour": [
           {
            "colorbar": {
             "outlinewidth": 0,
             "ticks": ""
            },
            "colorscale": [
             [
              0,
              "#0d0887"
             ],
             [
              0.1111111111111111,
              "#46039f"
             ],
             [
              0.2222222222222222,
              "#7201a8"
             ],
             [
              0.3333333333333333,
              "#9c179e"
             ],
             [
              0.4444444444444444,
              "#bd3786"
             ],
             [
              0.5555555555555556,
              "#d8576b"
             ],
             [
              0.6666666666666666,
              "#ed7953"
             ],
             [
              0.7777777777777778,
              "#fb9f3a"
             ],
             [
              0.8888888888888888,
              "#fdca26"
             ],
             [
              1,
              "#f0f921"
             ]
            ],
            "type": "contour"
           }
          ],
          "contourcarpet": [
           {
            "colorbar": {
             "outlinewidth": 0,
             "ticks": ""
            },
            "type": "contourcarpet"
           }
          ],
          "heatmap": [
           {
            "colorbar": {
             "outlinewidth": 0,
             "ticks": ""
            },
            "colorscale": [
             [
              0,
              "#0d0887"
             ],
             [
              0.1111111111111111,
              "#46039f"
             ],
             [
              0.2222222222222222,
              "#7201a8"
             ],
             [
              0.3333333333333333,
              "#9c179e"
             ],
             [
              0.4444444444444444,
              "#bd3786"
             ],
             [
              0.5555555555555556,
              "#d8576b"
             ],
             [
              0.6666666666666666,
              "#ed7953"
             ],
             [
              0.7777777777777778,
              "#fb9f3a"
             ],
             [
              0.8888888888888888,
              "#fdca26"
             ],
             [
              1,
              "#f0f921"
             ]
            ],
            "type": "heatmap"
           }
          ],
          "histogram": [
           {
            "marker": {
             "pattern": {
              "fillmode": "overlay",
              "size": 10,
              "solidity": 0.2
             }
            },
            "type": "histogram"
           }
          ],
          "histogram2d": [
           {
            "colorbar": {
             "outlinewidth": 0,
             "ticks": ""
            },
            "colorscale": [
             [
              0,
              "#0d0887"
             ],
             [
              0.1111111111111111,
              "#46039f"
             ],
             [
              0.2222222222222222,
              "#7201a8"
             ],
             [
              0.3333333333333333,
              "#9c179e"
             ],
             [
              0.4444444444444444,
              "#bd3786"
             ],
             [
              0.5555555555555556,
              "#d8576b"
             ],
             [
              0.6666666666666666,
              "#ed7953"
             ],
             [
              0.7777777777777778,
              "#fb9f3a"
             ],
             [
              0.8888888888888888,
              "#fdca26"
             ],
             [
              1,
              "#f0f921"
             ]
            ],
            "type": "histogram2d"
           }
          ],
          "histogram2dcontour": [
           {
            "colorbar": {
             "outlinewidth": 0,
             "ticks": ""
            },
            "colorscale": [
             [
              0,
              "#0d0887"
             ],
             [
              0.1111111111111111,
              "#46039f"
             ],
             [
              0.2222222222222222,
              "#7201a8"
             ],
             [
              0.3333333333333333,
              "#9c179e"
             ],
             [
              0.4444444444444444,
              "#bd3786"
             ],
             [
              0.5555555555555556,
              "#d8576b"
             ],
             [
              0.6666666666666666,
              "#ed7953"
             ],
             [
              0.7777777777777778,
              "#fb9f3a"
             ],
             [
              0.8888888888888888,
              "#fdca26"
             ],
             [
              1,
              "#f0f921"
             ]
            ],
            "type": "histogram2dcontour"
           }
          ],
          "mesh3d": [
           {
            "colorbar": {
             "outlinewidth": 0,
             "ticks": ""
            },
            "type": "mesh3d"
           }
          ],
          "parcoords": [
           {
            "line": {
             "colorbar": {
              "outlinewidth": 0,
              "ticks": ""
             }
            },
            "type": "parcoords"
           }
          ],
          "pie": [
           {
            "automargin": true,
            "type": "pie"
           }
          ],
          "scatter": [
           {
            "fillpattern": {
             "fillmode": "overlay",
             "size": 10,
             "solidity": 0.2
            },
            "type": "scatter"
           }
          ],
          "scatter3d": [
           {
            "line": {
             "colorbar": {
              "outlinewidth": 0,
              "ticks": ""
             }
            },
            "marker": {
             "colorbar": {
              "outlinewidth": 0,
              "ticks": ""
             }
            },
            "type": "scatter3d"
           }
          ],
          "scattercarpet": [
           {
            "marker": {
             "colorbar": {
              "outlinewidth": 0,
              "ticks": ""
             }
            },
            "type": "scattercarpet"
           }
          ],
          "scattergeo": [
           {
            "marker": {
             "colorbar": {
              "outlinewidth": 0,
              "ticks": ""
             }
            },
            "type": "scattergeo"
           }
          ],
          "scattergl": [
           {
            "marker": {
             "colorbar": {
              "outlinewidth": 0,
              "ticks": ""
             }
            },
            "type": "scattergl"
           }
          ],
          "scattermap": [
           {
            "marker": {
             "colorbar": {
              "outlinewidth": 0,
              "ticks": ""
             }
            },
            "type": "scattermap"
           }
          ],
          "scattermapbox": [
           {
            "marker": {
             "colorbar": {
              "outlinewidth": 0,
              "ticks": ""
             }
            },
            "type": "scattermapbox"
           }
          ],
          "scatterpolar": [
           {
            "marker": {
             "colorbar": {
              "outlinewidth": 0,
              "ticks": ""
             }
            },
            "type": "scatterpolar"
           }
          ],
          "scatterpolargl": [
           {
            "marker": {
             "colorbar": {
              "outlinewidth": 0,
              "ticks": ""
             }
            },
            "type": "scatterpolargl"
           }
          ],
          "scatterternary": [
           {
            "marker": {
             "colorbar": {
              "outlinewidth": 0,
              "ticks": ""
             }
            },
            "type": "scatterternary"
           }
          ],
          "surface": [
           {
            "colorbar": {
             "outlinewidth": 0,
             "ticks": ""
            },
            "colorscale": [
             [
              0,
              "#0d0887"
             ],
             [
              0.1111111111111111,
              "#46039f"
             ],
             [
              0.2222222222222222,
              "#7201a8"
             ],
             [
              0.3333333333333333,
              "#9c179e"
             ],
             [
              0.4444444444444444,
              "#bd3786"
             ],
             [
              0.5555555555555556,
              "#d8576b"
             ],
             [
              0.6666666666666666,
              "#ed7953"
             ],
             [
              0.7777777777777778,
              "#fb9f3a"
             ],
             [
              0.8888888888888888,
              "#fdca26"
             ],
             [
              1,
              "#f0f921"
             ]
            ],
            "type": "surface"
           }
          ],
          "table": [
           {
            "cells": {
             "fill": {
              "color": "#EBF0F8"
             },
             "line": {
              "color": "white"
             }
            },
            "header": {
             "fill": {
              "color": "#C8D4E3"
             },
             "line": {
              "color": "white"
             }
            },
            "type": "table"
           }
          ]
         },
         "layout": {
          "annotationdefaults": {
           "arrowcolor": "#2a3f5f",
           "arrowhead": 0,
           "arrowwidth": 1
          },
          "autotypenumbers": "strict",
          "coloraxis": {
           "colorbar": {
            "outlinewidth": 0,
            "ticks": ""
           }
          },
          "colorscale": {
           "diverging": [
            [
             0,
             "#8e0152"
            ],
            [
             0.1,
             "#c51b7d"
            ],
            [
             0.2,
             "#de77ae"
            ],
            [
             0.3,
             "#f1b6da"
            ],
            [
             0.4,
             "#fde0ef"
            ],
            [
             0.5,
             "#f7f7f7"
            ],
            [
             0.6,
             "#e6f5d0"
            ],
            [
             0.7,
             "#b8e186"
            ],
            [
             0.8,
             "#7fbc41"
            ],
            [
             0.9,
             "#4d9221"
            ],
            [
             1,
             "#276419"
            ]
           ],
           "sequential": [
            [
             0,
             "#0d0887"
            ],
            [
             0.1111111111111111,
             "#46039f"
            ],
            [
             0.2222222222222222,
             "#7201a8"
            ],
            [
             0.3333333333333333,
             "#9c179e"
            ],
            [
             0.4444444444444444,
             "#bd3786"
            ],
            [
             0.5555555555555556,
             "#d8576b"
            ],
            [
             0.6666666666666666,
             "#ed7953"
            ],
            [
             0.7777777777777778,
             "#fb9f3a"
            ],
            [
             0.8888888888888888,
             "#fdca26"
            ],
            [
             1,
             "#f0f921"
            ]
           ],
           "sequentialminus": [
            [
             0,
             "#0d0887"
            ],
            [
             0.1111111111111111,
             "#46039f"
            ],
            [
             0.2222222222222222,
             "#7201a8"
            ],
            [
             0.3333333333333333,
             "#9c179e"
            ],
            [
             0.4444444444444444,
             "#bd3786"
            ],
            [
             0.5555555555555556,
             "#d8576b"
            ],
            [
             0.6666666666666666,
             "#ed7953"
            ],
            [
             0.7777777777777778,
             "#fb9f3a"
            ],
            [
             0.8888888888888888,
             "#fdca26"
            ],
            [
             1,
             "#f0f921"
            ]
           ]
          },
          "colorway": [
           "#636efa",
           "#EF553B",
           "#00cc96",
           "#ab63fa",
           "#FFA15A",
           "#19d3f3",
           "#FF6692",
           "#B6E880",
           "#FF97FF",
           "#FECB52"
          ],
          "font": {
           "color": "#2a3f5f"
          },
          "geo": {
           "bgcolor": "white",
           "lakecolor": "white",
           "landcolor": "#E5ECF6",
           "showlakes": true,
           "showland": true,
           "subunitcolor": "white"
          },
          "hoverlabel": {
           "align": "left"
          },
          "hovermode": "closest",
          "mapbox": {
           "style": "light"
          },
          "paper_bgcolor": "white",
          "plot_bgcolor": "#E5ECF6",
          "polar": {
           "angularaxis": {
            "gridcolor": "white",
            "linecolor": "white",
            "ticks": ""
           },
           "bgcolor": "#E5ECF6",
           "radialaxis": {
            "gridcolor": "white",
            "linecolor": "white",
            "ticks": ""
           }
          },
          "scene": {
           "xaxis": {
            "backgroundcolor": "#E5ECF6",
            "gridcolor": "white",
            "gridwidth": 2,
            "linecolor": "white",
            "showbackground": true,
            "ticks": "",
            "zerolinecolor": "white"
           },
           "yaxis": {
            "backgroundcolor": "#E5ECF6",
            "gridcolor": "white",
            "gridwidth": 2,
            "linecolor": "white",
            "showbackground": true,
            "ticks": "",
            "zerolinecolor": "white"
           },
           "zaxis": {
            "backgroundcolor": "#E5ECF6",
            "gridcolor": "white",
            "gridwidth": 2,
            "linecolor": "white",
            "showbackground": true,
            "ticks": "",
            "zerolinecolor": "white"
           }
          },
          "shapedefaults": {
           "line": {
            "color": "#2a3f5f"
           }
          },
          "ternary": {
           "aaxis": {
            "gridcolor": "white",
            "linecolor": "white",
            "ticks": ""
           },
           "baxis": {
            "gridcolor": "white",
            "linecolor": "white",
            "ticks": ""
           },
           "bgcolor": "#E5ECF6",
           "caxis": {
            "gridcolor": "white",
            "linecolor": "white",
            "ticks": ""
           }
          },
          "title": {
           "x": 0.05
          },
          "xaxis": {
           "automargin": true,
           "gridcolor": "white",
           "linecolor": "white",
           "ticks": "",
           "title": {
            "standoff": 15
           },
           "zerolinecolor": "white",
           "zerolinewidth": 2
          },
          "yaxis": {
           "automargin": true,
           "gridcolor": "white",
           "linecolor": "white",
           "ticks": "",
           "title": {
            "standoff": 15
           },
           "zerolinecolor": "white",
           "zerolinewidth": 2
          }
         }
        },
        "title": {
         "text": "Crop production index (2014-2016 = 100) in Sample Over Time"
        },
        "xaxis": {
         "anchor": "y",
         "domain": [
          0,
          1
         ],
         "title": {
          "text": "year"
         }
        },
        "yaxis": {
         "anchor": "x",
         "domain": [
          0,
          1
         ],
         "title": {
          "text": "Crop production index (2014-2016 = 100)"
         }
        }
       }
      }
     },
     "metadata": {},
     "output_type": "display_data"
    }
   ],
   "source": [
    "px.line(\n",
    "    df_for_interactive,\n",
    "    x = 'year',\n",
    "    y = 'Crop production index (2014-2016 = 100)',\n",
    "    color = 'code',\n",
    "    title='Crop production index (2014-2016 = 100) in Sample Over Time'\n",
    ")"
   ]
  },
  {
   "cell_type": "code",
   "execution_count": 63,
   "id": "430d9bda",
   "metadata": {},
   "outputs": [
    {
     "data": {
      "application/vnd.plotly.v1+json": {
       "config": {
        "plotlyServerURL": "https://plot.ly"
       },
       "data": [
        {
         "hovertemplate": "code=BGD<br>year=%{x}<br>foodSupply_stability=%{y}<extra></extra>",
         "legendgroup": "BGD",
         "line": {
          "color": "#636efa",
          "dash": "solid"
         },
         "marker": {
          "symbol": "circle"
         },
         "mode": "lines",
         "name": "BGD",
         "orientation": "v",
         "showlegend": true,
         "type": "scatter",
         "x": {
          "bdata": "2wfcB90H3gffB+AH4AfhB+EH4gfiB+MH4wfkB+QH5QflB+YH5gc=",
          "dtype": "i2"
         },
         "xaxis": "x",
         "y": {
          "bdata": "0eHYYyYcR0AmPejq1uBGQK5jg8qoHUJAS5aBMMnzBEA+nAl1G6oGQEazEltU5xFARrMSW1TnEUB+VxlnBj8PQH5XGWcGPw9ARS/VqoeXF0BFL9Wqh5cXQLe/bSFDOBdAt79tIUM4F0BAJd4N+20XQEAl3g37bRdAUda0nyzXIUBR1rSfLNchQIgdKr4vSSRAiB0qvi9JJEA=",
          "dtype": "f8"
         },
         "yaxis": "y"
        },
        {
         "hovertemplate": "code=BTN<br>year=%{x}<br>foodSupply_stability=%{y}<extra></extra>",
         "legendgroup": "BTN",
         "line": {
          "color": "#EF553B",
          "dash": "solid"
         },
         "marker": {
          "symbol": "circle"
         },
         "mode": "lines",
         "name": "BTN",
         "orientation": "v",
         "showlegend": true,
         "type": "scatter",
         "x": {
          "bdata": "4wfjB+QH5AflB+UH5gfmBw==",
          "dtype": "i2"
         },
         "xaxis": "x",
         "y": {
          "bdata": "LYEiyVBhH0AtgSLJUGEfQBpj8RimVh5AGmPxGKZWHkBcLjS3Z44YQFwuNLdnjhhAc5fCVShKEkBzl8JVKEoSQA==",
          "dtype": "f8"
         },
         "yaxis": "y"
        },
        {
         "hovertemplate": "code=KHM<br>year=%{x}<br>foodSupply_stability=%{y}<extra></extra>",
         "legendgroup": "KHM",
         "line": {
          "color": "#00cc96",
          "dash": "solid"
         },
         "marker": {
          "symbol": "circle"
         },
         "mode": "lines",
         "name": "KHM",
         "orientation": "v",
         "showlegend": true,
         "type": "scatter",
         "x": {
          "bdata": "2wfcB90H3gffB+AH4AfhB+EH4gfiB+MH4wfkB+QH5QflB+YH5gc=",
          "dtype": "i2"
         },
         "xaxis": "x",
         "y": {
          "bdata": "WuiCLCj+MUC+JD3UvP0xQGTFTa2zjyxATN5W+Tt0/T+3t+r+vqMYQL9H0VbSOSBAv0fRVtI5IECJ+6CgPAQeQIn7oKA8BB5Alo25OIPIFUCWjbk4g8gVQLPnkemw6RFAs+eR6bDpEUDUr49B8tIgQNSvj0Hy0iBAcq0zgQ4BJEByrTOBDgEkQCT4qSPJJSJAJPipI8klIkA=",
          "dtype": "f8"
         },
         "yaxis": "y"
        },
        {
         "hovertemplate": "code=IND<br>year=%{x}<br>foodSupply_stability=%{y}<extra></extra>",
         "legendgroup": "IND",
         "line": {
          "color": "#ab63fa",
          "dash": "solid"
         },
         "marker": {
          "symbol": "circle"
         },
         "mode": "lines",
         "name": "IND",
         "orientation": "v",
         "showlegend": true,
         "type": "scatter",
         "x": {
          "bdata": "2wfcB90H3gffB+AH4AfhB+EH4gfiB+MH4wfkB+QH5QflB+YH5gc=",
          "dtype": "i2"
         },
         "xaxis": "x",
         "y": {
          "bdata": "SwkqBbiQQUDYNFq2XztCQKI9vYN7NT1ApaTyCnBFAEB4DdEYj6ELQJMmRMGGiQVAkyZEwYaJBUAsJIj8LVcFQCwkiPwtVwVAVoI1LssPCEBWgjUuyw8IQFzGxmaPZAZAXMbGZo9kBkCEu2+frTwFQIS7b5+tPAVACGZp5//4AUAIZmnn//gBQI9SxexoDv4/j1LF7GgO/j8=",
          "dtype": "f8"
         },
         "yaxis": "y"
        },
        {
         "hovertemplate": "code=IDN<br>year=%{x}<br>foodSupply_stability=%{y}<extra></extra>",
         "legendgroup": "IDN",
         "line": {
          "color": "#FFA15A",
          "dash": "solid"
         },
         "marker": {
          "symbol": "circle"
         },
         "mode": "lines",
         "name": "IDN",
         "orientation": "v",
         "showlegend": true,
         "type": "scatter",
         "x": {
          "bdata": "2wfcB90H3gffB+AH4AfhB+EH4gfiB+MH4wfkB+QH5QflB+YH5gc=",
          "dtype": "i2"
         },
         "xaxis": "x",
         "y": {
          "bdata": "rBfNy7jCQ0BE/Vwur0FEQKD1GUO6rkBA0Bh9yBXsDEDG8NEsGZIKQE6ryUZ4PwlATqvJRng/CUAelOjrg/MRQB6U6OuD8xFAER8XLWW2E0ARHxctZbYTQG9P+wwnFR1Ab0/7DCcVHUDX3aH9ENErQNfdof0Q0StAspkE02l6MUCymQTTaXoxQPP4eN1YxjJA8/h43VjGMkA=",
          "dtype": "f8"
         },
         "yaxis": "y"
        },
        {
         "hovertemplate": "code=LAO<br>year=%{x}<br>foodSupply_stability=%{y}<extra></extra>",
         "legendgroup": "LAO",
         "line": {
          "color": "#19d3f3",
          "dash": "solid"
         },
         "marker": {
          "symbol": "circle"
         },
         "mode": "lines",
         "name": "LAO",
         "orientation": "v",
         "showlegend": true,
         "type": "scatter",
         "x": {
          "bdata": "2wfcB90H3gffB+AH4AfhB+EH4gfiB+MH4wfkB+QH5QflB+YH5gc=",
          "dtype": "i2"
         },
         "xaxis": "x",
         "y": {
          "bdata": "lFarkdpSSEDsMHPwY0BIQOxLGtRoMkNAJhu0EzQ//T/S6MrldmkVQHvkwF8mmhVAe+TAXyaaFUDI4jfRbrMXQMjiN9FusxdA+AcmJ40lGED4ByYnjSUYQAIJQsD59w9AAglCwPn3D0AI9ET5pgIkQAj0RPmmAiRAkGMCSnnOIkCQYwJKec4iQPTsJOq7Ih5A9Owk6rsiHkA=",
          "dtype": "f8"
         },
         "yaxis": "y"
        },
        {
         "hovertemplate": "code=MYS<br>year=%{x}<br>foodSupply_stability=%{y}<extra></extra>",
         "legendgroup": "MYS",
         "line": {
          "color": "#FF6692",
          "dash": "solid"
         },
         "marker": {
          "symbol": "circle"
         },
         "mode": "lines",
         "name": "MYS",
         "orientation": "v",
         "showlegend": true,
         "type": "scatter",
         "x": {
          "bdata": "2wfcB90H3gffB+AH4QfiB+MH5AflB+YH",
          "dtype": "i2"
         },
         "xaxis": "x",
         "y": {
          "bdata": "ZSdl8vAvQEDJiHjXnYhAQKo5kicuRDxAIYDIyWHcHkCEY4tDREgmQLLbQP320CZA7u/rDkccHECbMs64tlcRQEGUgzkwzxJAM9dcPyc+FEB6PVkXvVAEQAl0Y0OrkwVA",
          "dtype": "f8"
         },
         "yaxis": "y"
        },
        {
         "hovertemplate": "code=MMR<br>year=%{x}<br>foodSupply_stability=%{y}<extra></extra>",
         "legendgroup": "MMR",
         "line": {
          "color": "#B6E880",
          "dash": "solid"
         },
         "marker": {
          "symbol": "circle"
         },
         "mode": "lines",
         "name": "MMR",
         "orientation": "v",
         "showlegend": true,
         "type": "scatter",
         "x": {
          "bdata": "2wfcB90H3gffB+AH4AfhB+EH4gfiB+MH4wfkB+QH5QflB+YH5gc=",
          "dtype": "i2"
         },
         "xaxis": "x",
         "y": {
          "bdata": "qOxzzcTNOUDJjef07dE5QGVHsI54vzNAMH/u0YaKAUBu6puL0tblP+kaU5xOyec/6RpTnE7J5z/z1FaHeHsDQPPUVod4ewNACcWUX7RVAUAJxZRftFUBQOjIV/92cghA6MhX/3ZyCECAYDv+iQc9QIBgO/6JBz1ADOI/EnJMQkAM4j8SckxCQCl4+gUIk0NAKXj6BQiTQ0A=",
          "dtype": "f8"
         },
         "yaxis": "y"
        },
        {
         "hovertemplate": "code=NPL<br>year=%{x}<br>foodSupply_stability=%{y}<extra></extra>",
         "legendgroup": "NPL",
         "line": {
          "color": "#FF97FF",
          "dash": "solid"
         },
         "marker": {
          "symbol": "circle"
         },
         "mode": "lines",
         "name": "NPL",
         "orientation": "v",
         "showlegend": true,
         "type": "scatter",
         "x": {
          "bdata": "2wfcB90H3gffB+AH4AfhB+EH4gfiB+MH4wfkB+QH5QflB+YH5gc=",
          "dtype": "i2"
         },
         "xaxis": "x",
         "y": {
          "bdata": "lV7pRNiQPkDQV8M/+6Q/QMSpXzF29TpAII6Ggw2WBUBImmY9ZV4FQJOyXE54GAdAk7JcTngYB0DE283xRFwCQMTbzfFEXAJAezn19WwU8j97OfX1bBTyPx2JtGopt/E/HYm0aim38T+A7naWFaLoP4DudpYVoug/C6S1o4LF7T8LpLWjgsXtP9zaXPjl3QdA3Npc+OXdB0A=",
          "dtype": "f8"
         },
         "yaxis": "y"
        },
        {
         "hovertemplate": "code=PAK<br>year=%{x}<br>foodSupply_stability=%{y}<extra></extra>",
         "legendgroup": "PAK",
         "line": {
          "color": "#FECB52",
          "dash": "solid"
         },
         "marker": {
          "symbol": "circle"
         },
         "mode": "lines",
         "name": "PAK",
         "orientation": "v",
         "showlegend": true,
         "type": "scatter",
         "x": {
          "bdata": "2wfcB90H3gffB+AH4AfhB+EH4gfiB+MH4wfkB+QH5QflB+YH5gc=",
          "dtype": "i2"
         },
         "xaxis": "x",
         "y": {
          "bdata": "Q/VGQUgsS0DHgfc488RLQDW37kgrPUdAi4fUw1ZF9T8mRw2sYaT5P1G3ycjAaf8/UbfJyMBp/z+ijHt6+LH2P6KMe3r4sfY/2/WU1Nre9D/b9ZTU2t70P8MQnyd54AhAwxCfJ3ngCECjTwqjUc4LQKNPCqNRzgtAB65drLgPC0AHrl2suA8LQH9NtfFUlhBAf0218VSWEEA=",
          "dtype": "f8"
         },
         "yaxis": "y"
        },
        {
         "hovertemplate": "code=PHL<br>year=%{x}<br>foodSupply_stability=%{y}<extra></extra>",
         "legendgroup": "PHL",
         "line": {
          "color": "#636efa",
          "dash": "solid"
         },
         "marker": {
          "symbol": "circle"
         },
         "mode": "lines",
         "name": "PHL",
         "orientation": "v",
         "showlegend": true,
         "type": "scatter",
         "x": {
          "bdata": "2wfcB90H3gffB+AH4AfhB+EH4gfiB+MH4wfkB+QH5QflB+YH5gc=",
          "dtype": "i2"
         },
         "xaxis": "x",
         "y": {
          "bdata": "z6GDTv+BSEB1RQdgeX1JQHXThyQTEEZAu/RLVVGDI0Bl23nzsLMlQCDTdmtvNiRAINN2a282JEBh5RVsNEkhQGHlFWw0SSFAYU3+tBsSHkBhTf60GxIeQLREZhwNcyhAtERmHA1zKECZqhe0oX8wQJmqF7ShfzBAw0FU1Ot2LUDDQVTU63YtQPRgf0dVCChA9GB/R1UIKEA=",
          "dtype": "f8"
         },
         "yaxis": "y"
        },
        {
         "hovertemplate": "code=LKA<br>year=%{x}<br>foodSupply_stability=%{y}<extra></extra>",
         "legendgroup": "LKA",
         "line": {
          "color": "#EF553B",
          "dash": "solid"
         },
         "marker": {
          "symbol": "circle"
         },
         "mode": "lines",
         "name": "LKA",
         "orientation": "v",
         "showlegend": true,
         "type": "scatter",
         "x": {
          "bdata": "2wfcB90H3gffB+AH4QfiB+MH5AflB+YH",
          "dtype": "i2"
         },
         "xaxis": "x",
         "y": {
          "bdata": "Ufq55IwzOUAZD+r03NQ4QPPdprrGQDRAfKJZkTpdFkBLTjbTvvMbQK9FjgbmCx5AKfthSMsDIUA7fgsUZQQdQFKvBfTljRZAaSPVUkJADEAzVCVL7uwHQMq0p1gSNP8/",
          "dtype": "f8"
         },
         "yaxis": "y"
        },
        {
         "hovertemplate": "code=THA<br>year=%{x}<br>foodSupply_stability=%{y}<extra></extra>",
         "legendgroup": "THA",
         "line": {
          "color": "#00cc96",
          "dash": "solid"
         },
         "marker": {
          "symbol": "circle"
         },
         "mode": "lines",
         "name": "THA",
         "orientation": "v",
         "showlegend": true,
         "type": "scatter",
         "x": {
          "bdata": "2wfcB90H3gffB+AH4AfhB+EH4gfiB+MH4wfkB+QH5QflB+YH5gc=",
          "dtype": "i2"
         },
         "xaxis": "x",
         "y": {
          "bdata": "Vb4O5EjNOEDSUraqIfs3QFqU+MDk3TNAu8r7nVXmEkAaNkGDRPgUQFJ4LWNO/xdAUngtY07/F0Aa/OEKPhAWQBr84Qo+EBZAn81gnwXEAUCfzWCfBcQBQBDMwdRMfQBAEMzB1Ex9AEAyocbqwJ0HQDKhxurAnQdAILQClvX+FEAgtAKW9f4UQJLHBMj2tBZAkscEyPa0FkA=",
          "dtype": "f8"
         },
         "yaxis": "y"
        },
        {
         "hovertemplate": "code=VNM<br>year=%{x}<br>foodSupply_stability=%{y}<extra></extra>",
         "legendgroup": "VNM",
         "line": {
          "color": "#ab63fa",
          "dash": "solid"
         },
         "marker": {
          "symbol": "circle"
         },
         "mode": "lines",
         "name": "VNM",
         "orientation": "v",
         "showlegend": true,
         "type": "scatter",
         "x": {
          "bdata": "2wfcB90H3gffB+AH4AfhB+EH4gfiB+MH4wfkB+QH5QflB+YH5gc=",
          "dtype": "i2"
         },
         "xaxis": "x",
         "y": {
          "bdata": "D6ezvnXJQEAjF3N/B/A6QAcQGh/aNTZAWq5nEUkjFkDlkihuSSIYQBwyMjR4+hVAHDIyNHj6FUC3Tstg+vYNQLdOy2D69g1AeD0ifR42FEB4PSJ9HjYUQCrhG6LtORFAKuEbou05EUAxnP4yX5MOQDGc/jJfkw5AT3YcN4voEEBPdhw3i+gQQBJuj8SVGxVAEm6PxJUbFUA=",
          "dtype": "f8"
         },
         "yaxis": "y"
        }
       ],
       "layout": {
        "legend": {
         "title": {
          "text": "code"
         },
         "tracegroupgap": 0
        },
        "template": {
         "data": {
          "bar": [
           {
            "error_x": {
             "color": "#2a3f5f"
            },
            "error_y": {
             "color": "#2a3f5f"
            },
            "marker": {
             "line": {
              "color": "#E5ECF6",
              "width": 0.5
             },
             "pattern": {
              "fillmode": "overlay",
              "size": 10,
              "solidity": 0.2
             }
            },
            "type": "bar"
           }
          ],
          "barpolar": [
           {
            "marker": {
             "line": {
              "color": "#E5ECF6",
              "width": 0.5
             },
             "pattern": {
              "fillmode": "overlay",
              "size": 10,
              "solidity": 0.2
             }
            },
            "type": "barpolar"
           }
          ],
          "carpet": [
           {
            "aaxis": {
             "endlinecolor": "#2a3f5f",
             "gridcolor": "white",
             "linecolor": "white",
             "minorgridcolor": "white",
             "startlinecolor": "#2a3f5f"
            },
            "baxis": {
             "endlinecolor": "#2a3f5f",
             "gridcolor": "white",
             "linecolor": "white",
             "minorgridcolor": "white",
             "startlinecolor": "#2a3f5f"
            },
            "type": "carpet"
           }
          ],
          "choropleth": [
           {
            "colorbar": {
             "outlinewidth": 0,
             "ticks": ""
            },
            "type": "choropleth"
           }
          ],
          "contour": [
           {
            "colorbar": {
             "outlinewidth": 0,
             "ticks": ""
            },
            "colorscale": [
             [
              0,
              "#0d0887"
             ],
             [
              0.1111111111111111,
              "#46039f"
             ],
             [
              0.2222222222222222,
              "#7201a8"
             ],
             [
              0.3333333333333333,
              "#9c179e"
             ],
             [
              0.4444444444444444,
              "#bd3786"
             ],
             [
              0.5555555555555556,
              "#d8576b"
             ],
             [
              0.6666666666666666,
              "#ed7953"
             ],
             [
              0.7777777777777778,
              "#fb9f3a"
             ],
             [
              0.8888888888888888,
              "#fdca26"
             ],
             [
              1,
              "#f0f921"
             ]
            ],
            "type": "contour"
           }
          ],
          "contourcarpet": [
           {
            "colorbar": {
             "outlinewidth": 0,
             "ticks": ""
            },
            "type": "contourcarpet"
           }
          ],
          "heatmap": [
           {
            "colorbar": {
             "outlinewidth": 0,
             "ticks": ""
            },
            "colorscale": [
             [
              0,
              "#0d0887"
             ],
             [
              0.1111111111111111,
              "#46039f"
             ],
             [
              0.2222222222222222,
              "#7201a8"
             ],
             [
              0.3333333333333333,
              "#9c179e"
             ],
             [
              0.4444444444444444,
              "#bd3786"
             ],
             [
              0.5555555555555556,
              "#d8576b"
             ],
             [
              0.6666666666666666,
              "#ed7953"
             ],
             [
              0.7777777777777778,
              "#fb9f3a"
             ],
             [
              0.8888888888888888,
              "#fdca26"
             ],
             [
              1,
              "#f0f921"
             ]
            ],
            "type": "heatmap"
           }
          ],
          "histogram": [
           {
            "marker": {
             "pattern": {
              "fillmode": "overlay",
              "size": 10,
              "solidity": 0.2
             }
            },
            "type": "histogram"
           }
          ],
          "histogram2d": [
           {
            "colorbar": {
             "outlinewidth": 0,
             "ticks": ""
            },
            "colorscale": [
             [
              0,
              "#0d0887"
             ],
             [
              0.1111111111111111,
              "#46039f"
             ],
             [
              0.2222222222222222,
              "#7201a8"
             ],
             [
              0.3333333333333333,
              "#9c179e"
             ],
             [
              0.4444444444444444,
              "#bd3786"
             ],
             [
              0.5555555555555556,
              "#d8576b"
             ],
             [
              0.6666666666666666,
              "#ed7953"
             ],
             [
              0.7777777777777778,
              "#fb9f3a"
             ],
             [
              0.8888888888888888,
              "#fdca26"
             ],
             [
              1,
              "#f0f921"
             ]
            ],
            "type": "histogram2d"
           }
          ],
          "histogram2dcontour": [
           {
            "colorbar": {
             "outlinewidth": 0,
             "ticks": ""
            },
            "colorscale": [
             [
              0,
              "#0d0887"
             ],
             [
              0.1111111111111111,
              "#46039f"
             ],
             [
              0.2222222222222222,
              "#7201a8"
             ],
             [
              0.3333333333333333,
              "#9c179e"
             ],
             [
              0.4444444444444444,
              "#bd3786"
             ],
             [
              0.5555555555555556,
              "#d8576b"
             ],
             [
              0.6666666666666666,
              "#ed7953"
             ],
             [
              0.7777777777777778,
              "#fb9f3a"
             ],
             [
              0.8888888888888888,
              "#fdca26"
             ],
             [
              1,
              "#f0f921"
             ]
            ],
            "type": "histogram2dcontour"
           }
          ],
          "mesh3d": [
           {
            "colorbar": {
             "outlinewidth": 0,
             "ticks": ""
            },
            "type": "mesh3d"
           }
          ],
          "parcoords": [
           {
            "line": {
             "colorbar": {
              "outlinewidth": 0,
              "ticks": ""
             }
            },
            "type": "parcoords"
           }
          ],
          "pie": [
           {
            "automargin": true,
            "type": "pie"
           }
          ],
          "scatter": [
           {
            "fillpattern": {
             "fillmode": "overlay",
             "size": 10,
             "solidity": 0.2
            },
            "type": "scatter"
           }
          ],
          "scatter3d": [
           {
            "line": {
             "colorbar": {
              "outlinewidth": 0,
              "ticks": ""
             }
            },
            "marker": {
             "colorbar": {
              "outlinewidth": 0,
              "ticks": ""
             }
            },
            "type": "scatter3d"
           }
          ],
          "scattercarpet": [
           {
            "marker": {
             "colorbar": {
              "outlinewidth": 0,
              "ticks": ""
             }
            },
            "type": "scattercarpet"
           }
          ],
          "scattergeo": [
           {
            "marker": {
             "colorbar": {
              "outlinewidth": 0,
              "ticks": ""
             }
            },
            "type": "scattergeo"
           }
          ],
          "scattergl": [
           {
            "marker": {
             "colorbar": {
              "outlinewidth": 0,
              "ticks": ""
             }
            },
            "type": "scattergl"
           }
          ],
          "scattermap": [
           {
            "marker": {
             "colorbar": {
              "outlinewidth": 0,
              "ticks": ""
             }
            },
            "type": "scattermap"
           }
          ],
          "scattermapbox": [
           {
            "marker": {
             "colorbar": {
              "outlinewidth": 0,
              "ticks": ""
             }
            },
            "type": "scattermapbox"
           }
          ],
          "scatterpolar": [
           {
            "marker": {
             "colorbar": {
              "outlinewidth": 0,
              "ticks": ""
             }
            },
            "type": "scatterpolar"
           }
          ],
          "scatterpolargl": [
           {
            "marker": {
             "colorbar": {
              "outlinewidth": 0,
              "ticks": ""
             }
            },
            "type": "scatterpolargl"
           }
          ],
          "scatterternary": [
           {
            "marker": {
             "colorbar": {
              "outlinewidth": 0,
              "ticks": ""
             }
            },
            "type": "scatterternary"
           }
          ],
          "surface": [
           {
            "colorbar": {
             "outlinewidth": 0,
             "ticks": ""
            },
            "colorscale": [
             [
              0,
              "#0d0887"
             ],
             [
              0.1111111111111111,
              "#46039f"
             ],
             [
              0.2222222222222222,
              "#7201a8"
             ],
             [
              0.3333333333333333,
              "#9c179e"
             ],
             [
              0.4444444444444444,
              "#bd3786"
             ],
             [
              0.5555555555555556,
              "#d8576b"
             ],
             [
              0.6666666666666666,
              "#ed7953"
             ],
             [
              0.7777777777777778,
              "#fb9f3a"
             ],
             [
              0.8888888888888888,
              "#fdca26"
             ],
             [
              1,
              "#f0f921"
             ]
            ],
            "type": "surface"
           }
          ],
          "table": [
           {
            "cells": {
             "fill": {
              "color": "#EBF0F8"
             },
             "line": {
              "color": "white"
             }
            },
            "header": {
             "fill": {
              "color": "#C8D4E3"
             },
             "line": {
              "color": "white"
             }
            },
            "type": "table"
           }
          ]
         },
         "layout": {
          "annotationdefaults": {
           "arrowcolor": "#2a3f5f",
           "arrowhead": 0,
           "arrowwidth": 1
          },
          "autotypenumbers": "strict",
          "coloraxis": {
           "colorbar": {
            "outlinewidth": 0,
            "ticks": ""
           }
          },
          "colorscale": {
           "diverging": [
            [
             0,
             "#8e0152"
            ],
            [
             0.1,
             "#c51b7d"
            ],
            [
             0.2,
             "#de77ae"
            ],
            [
             0.3,
             "#f1b6da"
            ],
            [
             0.4,
             "#fde0ef"
            ],
            [
             0.5,
             "#f7f7f7"
            ],
            [
             0.6,
             "#e6f5d0"
            ],
            [
             0.7,
             "#b8e186"
            ],
            [
             0.8,
             "#7fbc41"
            ],
            [
             0.9,
             "#4d9221"
            ],
            [
             1,
             "#276419"
            ]
           ],
           "sequential": [
            [
             0,
             "#0d0887"
            ],
            [
             0.1111111111111111,
             "#46039f"
            ],
            [
             0.2222222222222222,
             "#7201a8"
            ],
            [
             0.3333333333333333,
             "#9c179e"
            ],
            [
             0.4444444444444444,
             "#bd3786"
            ],
            [
             0.5555555555555556,
             "#d8576b"
            ],
            [
             0.6666666666666666,
             "#ed7953"
            ],
            [
             0.7777777777777778,
             "#fb9f3a"
            ],
            [
             0.8888888888888888,
             "#fdca26"
            ],
            [
             1,
             "#f0f921"
            ]
           ],
           "sequentialminus": [
            [
             0,
             "#0d0887"
            ],
            [
             0.1111111111111111,
             "#46039f"
            ],
            [
             0.2222222222222222,
             "#7201a8"
            ],
            [
             0.3333333333333333,
             "#9c179e"
            ],
            [
             0.4444444444444444,
             "#bd3786"
            ],
            [
             0.5555555555555556,
             "#d8576b"
            ],
            [
             0.6666666666666666,
             "#ed7953"
            ],
            [
             0.7777777777777778,
             "#fb9f3a"
            ],
            [
             0.8888888888888888,
             "#fdca26"
            ],
            [
             1,
             "#f0f921"
            ]
           ]
          },
          "colorway": [
           "#636efa",
           "#EF553B",
           "#00cc96",
           "#ab63fa",
           "#FFA15A",
           "#19d3f3",
           "#FF6692",
           "#B6E880",
           "#FF97FF",
           "#FECB52"
          ],
          "font": {
           "color": "#2a3f5f"
          },
          "geo": {
           "bgcolor": "white",
           "lakecolor": "white",
           "landcolor": "#E5ECF6",
           "showlakes": true,
           "showland": true,
           "subunitcolor": "white"
          },
          "hoverlabel": {
           "align": "left"
          },
          "hovermode": "closest",
          "mapbox": {
           "style": "light"
          },
          "paper_bgcolor": "white",
          "plot_bgcolor": "#E5ECF6",
          "polar": {
           "angularaxis": {
            "gridcolor": "white",
            "linecolor": "white",
            "ticks": ""
           },
           "bgcolor": "#E5ECF6",
           "radialaxis": {
            "gridcolor": "white",
            "linecolor": "white",
            "ticks": ""
           }
          },
          "scene": {
           "xaxis": {
            "backgroundcolor": "#E5ECF6",
            "gridcolor": "white",
            "gridwidth": 2,
            "linecolor": "white",
            "showbackground": true,
            "ticks": "",
            "zerolinecolor": "white"
           },
           "yaxis": {
            "backgroundcolor": "#E5ECF6",
            "gridcolor": "white",
            "gridwidth": 2,
            "linecolor": "white",
            "showbackground": true,
            "ticks": "",
            "zerolinecolor": "white"
           },
           "zaxis": {
            "backgroundcolor": "#E5ECF6",
            "gridcolor": "white",
            "gridwidth": 2,
            "linecolor": "white",
            "showbackground": true,
            "ticks": "",
            "zerolinecolor": "white"
           }
          },
          "shapedefaults": {
           "line": {
            "color": "#2a3f5f"
           }
          },
          "ternary": {
           "aaxis": {
            "gridcolor": "white",
            "linecolor": "white",
            "ticks": ""
           },
           "baxis": {
            "gridcolor": "white",
            "linecolor": "white",
            "ticks": ""
           },
           "bgcolor": "#E5ECF6",
           "caxis": {
            "gridcolor": "white",
            "linecolor": "white",
            "ticks": ""
           }
          },
          "title": {
           "x": 0.05
          },
          "xaxis": {
           "automargin": true,
           "gridcolor": "white",
           "linecolor": "white",
           "ticks": "",
           "title": {
            "standoff": 15
           },
           "zerolinecolor": "white",
           "zerolinewidth": 2
          },
          "yaxis": {
           "automargin": true,
           "gridcolor": "white",
           "linecolor": "white",
           "ticks": "",
           "title": {
            "standoff": 15
           },
           "zerolinecolor": "white",
           "zerolinewidth": 2
          }
         }
        },
        "title": {
         "text": "Food Supply Stability in Sample Over Time"
        },
        "xaxis": {
         "anchor": "y",
         "domain": [
          0,
          1
         ],
         "title": {
          "text": "year"
         }
        },
        "yaxis": {
         "anchor": "x",
         "domain": [
          0,
          1
         ],
         "title": {
          "text": "foodSupply_stability"
         }
        }
       }
      }
     },
     "metadata": {},
     "output_type": "display_data"
    }
   ],
   "source": [
    "px.line(\n",
    "    df_for_interactive,\n",
    "    x = 'year',\n",
    "    y = 'foodSupply_stability',\n",
    "    color = 'code',\n",
    "    title='Food Supply Stability in Sample Over Time'\n",
    ")"
   ]
  },
  {
   "cell_type": "code",
   "execution_count": 64,
   "id": "99d2b0a9",
   "metadata": {},
   "outputs": [
    {
     "data": {
      "application/vnd.plotly.v1+json": {
       "config": {
        "plotlyServerURL": "https://plot.ly"
       },
       "data": [
        {
         "hovertemplate": "code=BGD<br>year=%{x}<br>Agriculture, forestry, and fishing, value added (percent of GDP)=%{y}<extra></extra>",
         "legendgroup": "BGD",
         "line": {
          "color": "#636efa",
          "dash": "solid"
         },
         "marker": {
          "symbol": "circle"
         },
         "mode": "lines",
         "name": "BGD",
         "orientation": "v",
         "showlegend": true,
         "type": "scatter",
         "x": {
          "bdata": "2wfcB90H3gffB+AH4AfhB+EH4gfiB+MH4wfkB+QH5QflB+YH5gc=",
          "dtype": "i2"
         },
         "xaxis": "x",
         "y": {
          "bdata": "OwPJSlvPMED/MLbHdC0wQEv6Bu+O/C5AI3OIpwe0LkCADbPo5JAtQOMUN0L57SpA4xQ3QvntKkCxEOcVIOopQLEQ5xUg6ilAdJVHrcz1KEB0lUetzPUoQHxu141d8ydAfG7XjV3zJ0A3BMb01v8nQDcExvTW/ydA+QYPBQZEJ0D5Bg8FBkQnQO4rI2dpbyZA7isjZ2lvJkA=",
          "dtype": "f8"
         },
         "yaxis": "y"
        },
        {
         "hovertemplate": "code=BTN<br>year=%{x}<br>Agriculture, forestry, and fishing, value added (percent of GDP)=%{y}<extra></extra>",
         "legendgroup": "BTN",
         "line": {
          "color": "#EF553B",
          "dash": "solid"
         },
         "marker": {
          "symbol": "circle"
         },
         "mode": "lines",
         "name": "BTN",
         "orientation": "v",
         "showlegend": true,
         "type": "scatter",
         "x": {
          "bdata": "4wfjB+QH5AflB+UH5gfmBw==",
          "dtype": "i2"
         },
         "xaxis": "x",
         "y": {
          "bdata": "axgLEC/eKUBrGAsQL94pQExGqIX5Zy9ATEaohflnL0Bd9mTu7ZYvQF32ZO7tli9AuBmT4I5XLUC4GZPgjlctQA==",
          "dtype": "f8"
         },
         "yaxis": "y"
        },
        {
         "hovertemplate": "code=KHM<br>year=%{x}<br>Agriculture, forestry, and fishing, value added (percent of GDP)=%{y}<extra></extra>",
         "legendgroup": "KHM",
         "line": {
          "color": "#00cc96",
          "dash": "solid"
         },
         "marker": {
          "symbol": "circle"
         },
         "mode": "lines",
         "name": "KHM",
         "orientation": "v",
         "showlegend": true,
         "type": "scatter",
         "x": {
          "bdata": "2wfcB90H3gffB+AH4AfhB+EH4gfiB+MH4wfkB+QH5QflB+YH5gc=",
          "dtype": "i2"
         },
         "xaxis": "x",
         "y": {
          "bdata": "4EgEwi0JPEBIj7INnMs6QOdPYMJ4cjhA7iwn4J0xNkA736urDiQ0QDejrnpx6DJAN6OuenHoMkDOSLbbQN4xQM5ItttA3jFAte2cg3l/MEC17ZyDeX8wQPNXIe2D4C5A81ch7YPgLkA9rA2nJgoxQD2sDacmCjFAxoRBs4fnMEDGhEGzh+cwQAnBJjhJizBACcEmOEmLMEA=",
          "dtype": "f8"
         },
         "yaxis": "y"
        },
        {
         "hovertemplate": "code=IND<br>year=%{x}<br>Agriculture, forestry, and fishing, value added (percent of GDP)=%{y}<extra></extra>",
         "legendgroup": "IND",
         "line": {
          "color": "#ab63fa",
          "dash": "solid"
         },
         "marker": {
          "symbol": "circle"
         },
         "mode": "lines",
         "name": "IND",
         "orientation": "v",
         "showlegend": true,
         "type": "scatter",
         "x": {
          "bdata": "2wfcB90H3gffB+AH4AfhB+EH4gfiB+MH4wfkB+QH5QflB+YH5gc=",
          "dtype": "i2"
         },
         "xaxis": "x",
         "y": {
          "bdata": "Bl/ZLSUxMUBB16OhatgwQLO62BX/JTFALl5oOLzKMEDewzOQrCwwQAh7mggiXTBACHuaCCJdMECGiJTO7o4wQIaIlM7ujjBANtnb8hgIMEA22dvyGAgwQGl/oOxswTBAaX+g7GzBMEDycbtIJasyQPJxu0glqzJAfw0yMWBfMUB/DTIxYF8xQHACscCxozBAcAKxwLGjMEA=",
          "dtype": "f8"
         },
         "yaxis": "y"
        },
        {
         "hovertemplate": "code=IDN<br>year=%{x}<br>Agriculture, forestry, and fishing, value added (percent of GDP)=%{y}<extra></extra>",
         "legendgroup": "IDN",
         "line": {
          "color": "#FFA15A",
          "dash": "solid"
         },
         "marker": {
          "symbol": "circle"
         },
         "mode": "lines",
         "name": "IDN",
         "orientation": "v",
         "showlegend": true,
         "type": "scatter",
         "x": {
          "bdata": "2wfcB90H3gffB+AH4AfhB+EH4gfiB+MH4wfkB+QH5QflB+YH5gc=",
          "dtype": "i2"
         },
         "xaxis": "x",
         "y": {
          "bdata": "bGDNfUoGK0AjXgqNeb8qQIBGyEWhtipATci4JmusKkDpbsPGO/wqQFP6kIce9SpAU/qQhx71KkDygxTrMVAqQPKDFOsxUCpAxfBaZPOdKUDF8Fpk850pQEAtbEHabClAQC1sQdpsKUBYAHSOlmUrQFgAdI6WZStAaTFHVHKPKkBpMUdUco8qQLoeQ6W9zChAuh5Dpb3MKEA=",
          "dtype": "f8"
         },
         "yaxis": "y"
        },
        {
         "hovertemplate": "code=LAO<br>year=%{x}<br>Agriculture, forestry, and fishing, value added (percent of GDP)=%{y}<extra></extra>",
         "legendgroup": "LAO",
         "line": {
          "color": "#19d3f3",
          "dash": "solid"
         },
         "marker": {
          "symbol": "circle"
         },
         "mode": "lines",
         "name": "LAO",
         "orientation": "v",
         "showlegend": true,
         "type": "scatter",
         "x": {
          "bdata": "2wfcB90H3gffB+AH4AfhB+EH4gfiB+MH4wfkB+QH5QflB+YH5gc=",
          "dtype": "i2"
         },
         "xaxis": "x",
         "y": {
          "bdata": "a2Ess4/KNEA1nLidaYwyQO2JHSU17jFAK5wSa0rZMUCKymRrd5YxQL7/ctrsOjFAvv9y2uw6MUB0bEF2IzMwQHRsQXYjMzBAWD3uiBprL0BYPe6IGmsvQEasOwXjDDBARqw7BeMMMEAv2Q6Yd1YwQC/ZDph3VjBAXLdzl1QRMEBct3OXVBEwQFWgpCHevC1AVaCkId68LUA=",
          "dtype": "f8"
         },
         "yaxis": "y"
        },
        {
         "hovertemplate": "code=MYS<br>year=%{x}<br>Agriculture, forestry, and fishing, value added (percent of GDP)=%{y}<extra></extra>",
         "legendgroup": "MYS",
         "line": {
          "color": "#FF6692",
          "dash": "solid"
         },
         "marker": {
          "symbol": "circle"
         },
         "mode": "lines",
         "name": "MYS",
         "orientation": "v",
         "showlegend": true,
         "type": "scatter",
         "x": {
          "bdata": "2wfcB90H3gffB+AH4QfiB+MH5AflB+YH",
          "dtype": "i2"
         },
         "xaxis": "x",
         "y": {
          "bdata": "YmZu5h3oJkCQb3J/ZpYjQPPtcNMKOiJAuwpzQBW/IUD8T7YwM5MgQCEs9EnQ7CBAQchQW1EyIUDW4s4yYQweQHK1wXEZ9xxADkTmP/5UIECixufg5iEjQCG6MuHE5iFA",
          "dtype": "f8"
         },
         "yaxis": "y"
        },
        {
         "hovertemplate": "code=MMR<br>year=%{x}<br>Agriculture, forestry, and fishing, value added (percent of GDP)=%{y}<extra></extra>",
         "legendgroup": "MMR",
         "line": {
          "color": "#B6E880",
          "dash": "solid"
         },
         "marker": {
          "symbol": "circle"
         },
         "mode": "lines",
         "name": "MMR",
         "orientation": "v",
         "showlegend": true,
         "type": "scatter",
         "x": {
          "bdata": "2wfcB90H3gffB+AH4AfhB+EH4gfiB+MH4wfkB+QH5QflB+YH5gc=",
          "dtype": "i2"
         },
         "xaxis": "x",
         "y": {
          "bdata": "xFWC6II/QEDjJeRTF5c+QOtjqDmiiD1AMOAN8W3UO0BrpApJk8U6QIlQvG3toDlAiVC8be2gOUCu5FzwdGc3QK7kXPB0ZzdAfAb58FoTNkB8BvnwWhM2QEaJ56aX1zRARonnppfXNEBD5xfQLGs2QEPnF9AsazZA12qVxgjJNkDXapXGCMk2QNN7dfeXVTZA03t195dVNkA=",
          "dtype": "f8"
         },
         "yaxis": "y"
        },
        {
         "hovertemplate": "code=NPL<br>year=%{x}<br>Agriculture, forestry, and fishing, value added (percent of GDP)=%{y}<extra></extra>",
         "legendgroup": "NPL",
         "line": {
          "color": "#FF97FF",
          "dash": "solid"
         },
         "marker": {
          "symbol": "circle"
         },
         "mode": "lines",
         "name": "NPL",
         "orientation": "v",
         "showlegend": true,
         "type": "scatter",
         "x": {
          "bdata": "2wfcB90H3gffB+AH4AfhB+EH4gfiB+MH4wfkB+QH5QflB+YH5gc=",
          "dtype": "i2"
         },
         "xaxis": "x",
         "y": {
          "bdata": "rqLSSzTOPkDTcAd4eBM+QA8Z1XtmnzxAU9tExj52O0B1JvL3vIQ6QJG//HqThDlAkb/8epOEOUBd7pibFbM3QF3umJsVszdAqLxGEa1VNkCovEYRrVU2QHexzepXlTVAd7HN6leVNUDJXhBkGi42QMleEGQaLjZAI6eA5X0FNkAjp4DlfQU2QEbvriYU6jRARu+uJhTqNEA=",
          "dtype": "f8"
         },
         "yaxis": "y"
        },
        {
         "hovertemplate": "code=PAK<br>year=%{x}<br>Agriculture, forestry, and fishing, value added (percent of GDP)=%{y}<extra></extra>",
         "legendgroup": "PAK",
         "line": {
          "color": "#FECB52",
          "dash": "solid"
         },
         "marker": {
          "symbol": "circle"
         },
         "mode": "lines",
         "name": "PAK",
         "orientation": "v",
         "showlegend": true,
         "type": "scatter",
         "x": {
          "bdata": "2wfcB90H3gffB+AH4AfhB+EH4gfiB+MH4wfkB+QH5QflB+YH5gc=",
          "dtype": "i2"
         },
         "xaxis": "x",
         "y": {
          "bdata": "cZpLH9TRN0AYiuS13WI3QJHeVesktTdAmLhbryN+N0B4XHeISUM3QPKevnINVDZA8p6+cg1UNkCLdsmBlPY1QIt2yYGU9jVAdJpKXLemNUB0mkpct6Y1QFEgmPmIrTRAUSCY+YitNEDWul1uqNo1QNa6XW6o2jVAMxMYIZqpNkAzExghmqk2QB4Dq2etUzZAHgOrZ61TNkA=",
          "dtype": "f8"
         },
         "yaxis": "y"
        },
        {
         "hovertemplate": "code=PHL<br>year=%{x}<br>Agriculture, forestry, and fishing, value added (percent of GDP)=%{y}<extra></extra>",
         "legendgroup": "PHL",
         "line": {
          "color": "#636efa",
          "dash": "solid"
         },
         "marker": {
          "symbol": "circle"
         },
         "mode": "lines",
         "name": "PHL",
         "orientation": "v",
         "showlegend": true,
         "type": "scatter",
         "x": {
          "bdata": "2wfcB90H3gffB+AH4AfhB+EH4gfiB+MH4wfkB+QH5QflB+YH5gc=",
          "dtype": "i2"
         },
         "xaxis": "x",
         "y": {
          "bdata": "p5CbMgQxLEDTHM+dDTEqQD3Ie8Zk8ihA9RV52hmLKEBT5R8jNf4lQBgDvTYGaSRAGAO9NgZpJEBeNvcprF0kQF429ymsXSRA2w9xMt9MI0DbD3Ey30wjQKpzZHkBpCFAqnNkeQGkIUDgAWoW4V4kQOABahbhXiRAtRtsd2kjJEC1G2x3aSMkQHklUVeBGiNAeSVRV4EaI0A=",
          "dtype": "f8"
         },
         "yaxis": "y"
        },
        {
         "hovertemplate": "code=LKA<br>year=%{x}<br>Agriculture, forestry, and fishing, value added (percent of GDP)=%{y}<extra></extra>",
         "legendgroup": "LKA",
         "line": {
          "color": "#EF553B",
          "dash": "solid"
         },
         "marker": {
          "symbol": "circle"
         },
         "mode": "lines",
         "name": "LKA",
         "orientation": "v",
         "showlegend": true,
         "type": "scatter",
         "x": {
          "bdata": "2wfcB90H3gffB+AH4QfiB+MH5AflB+YH",
          "dtype": "i2"
         },
         "xaxis": "x",
         "y": {
          "bdata": "fD8nQ/oQI0A/JNjDIqQfQN3k6mvLsh9Amq+HjFIpIECzm+CcEm8gQKdEu+3/Cx1AuRGm2wO5HUCwAioDRl4eQIvo7YhlBh1A78x8ba2AIEDJzIkJc5QhQABYkl2D/iBA",
          "dtype": "f8"
         },
         "yaxis": "y"
        },
        {
         "hovertemplate": "code=THA<br>year=%{x}<br>Agriculture, forestry, and fishing, value added (percent of GDP)=%{y}<extra></extra>",
         "legendgroup": "THA",
         "line": {
          "color": "#00cc96",
          "dash": "solid"
         },
         "marker": {
          "symbol": "circle"
         },
         "mode": "lines",
         "name": "THA",
         "orientation": "v",
         "showlegend": true,
         "type": "scatter",
         "x": {
          "bdata": "2wfcB90H3gffB+AH4AfhB+EH4gfiB+MH4wfkB+QH5QflB+YH5gc=",
          "dtype": "i2"
         },
         "xaxis": "x",
         "y": {
          "bdata": "efz0VP8uJ0B/ClNqGQInQKHDpWj5pCZAYY9JIoctJEDBE0yi1b4hQC7f8IDG9CBALt/wgMb0IEBtsYBPFdAgQG2xgE8V0CBA6pmz2lRnIEDqmbPaVGcgQDUJj6vTQSBANQmPq9NBIEAZTpA83GchQBlOkDzcZyFAyA40AUBiIUDIDjQBQGIhQA5GvdMDcyFADka90wNzIUA=",
          "dtype": "f8"
         },
         "yaxis": "y"
        },
        {
         "hovertemplate": "code=VNM<br>year=%{x}<br>Agriculture, forestry, and fishing, value added (percent of GDP)=%{y}<extra></extra>",
         "legendgroup": "VNM",
         "line": {
          "color": "#ab63fa",
          "dash": "solid"
         },
         "marker": {
          "symbol": "circle"
         },
         "mode": "lines",
         "name": "VNM",
         "orientation": "v",
         "showlegend": true,
         "type": "scatter",
         "x": {
          "bdata": "2wfcB90H3gffB+AH4AfhB+EH4gfiB+MH4wfkB+QH5QflB+YH5gc=",
          "dtype": "i2"
         },
         "xaxis": "x",
         "y": {
          "bdata": "58IvjldCMEBCysbuEjMwQD3Hdrpkbi5AzdAuGL3CLUC6VEpPD/MsQNBdRl7yoitA0F1GXvKiK0Agn/QpGdwpQCCf9CkZ3ClAwxYEpQOdKEDDFgSlA50oQK+/BLqtkSdAr78Euq2RJ0CJQXkOkU8pQIlBeQ6RTylAhcQBRsg0KUCFxAFGyDQpQEqvUx476SdASq9THjvpJ0A=",
          "dtype": "f8"
         },
         "yaxis": "y"
        }
       ],
       "layout": {
        "legend": {
         "title": {
          "text": "code"
         },
         "tracegroupgap": 0
        },
        "template": {
         "data": {
          "bar": [
           {
            "error_x": {
             "color": "#2a3f5f"
            },
            "error_y": {
             "color": "#2a3f5f"
            },
            "marker": {
             "line": {
              "color": "#E5ECF6",
              "width": 0.5
             },
             "pattern": {
              "fillmode": "overlay",
              "size": 10,
              "solidity": 0.2
             }
            },
            "type": "bar"
           }
          ],
          "barpolar": [
           {
            "marker": {
             "line": {
              "color": "#E5ECF6",
              "width": 0.5
             },
             "pattern": {
              "fillmode": "overlay",
              "size": 10,
              "solidity": 0.2
             }
            },
            "type": "barpolar"
           }
          ],
          "carpet": [
           {
            "aaxis": {
             "endlinecolor": "#2a3f5f",
             "gridcolor": "white",
             "linecolor": "white",
             "minorgridcolor": "white",
             "startlinecolor": "#2a3f5f"
            },
            "baxis": {
             "endlinecolor": "#2a3f5f",
             "gridcolor": "white",
             "linecolor": "white",
             "minorgridcolor": "white",
             "startlinecolor": "#2a3f5f"
            },
            "type": "carpet"
           }
          ],
          "choropleth": [
           {
            "colorbar": {
             "outlinewidth": 0,
             "ticks": ""
            },
            "type": "choropleth"
           }
          ],
          "contour": [
           {
            "colorbar": {
             "outlinewidth": 0,
             "ticks": ""
            },
            "colorscale": [
             [
              0,
              "#0d0887"
             ],
             [
              0.1111111111111111,
              "#46039f"
             ],
             [
              0.2222222222222222,
              "#7201a8"
             ],
             [
              0.3333333333333333,
              "#9c179e"
             ],
             [
              0.4444444444444444,
              "#bd3786"
             ],
             [
              0.5555555555555556,
              "#d8576b"
             ],
             [
              0.6666666666666666,
              "#ed7953"
             ],
             [
              0.7777777777777778,
              "#fb9f3a"
             ],
             [
              0.8888888888888888,
              "#fdca26"
             ],
             [
              1,
              "#f0f921"
             ]
            ],
            "type": "contour"
           }
          ],
          "contourcarpet": [
           {
            "colorbar": {
             "outlinewidth": 0,
             "ticks": ""
            },
            "type": "contourcarpet"
           }
          ],
          "heatmap": [
           {
            "colorbar": {
             "outlinewidth": 0,
             "ticks": ""
            },
            "colorscale": [
             [
              0,
              "#0d0887"
             ],
             [
              0.1111111111111111,
              "#46039f"
             ],
             [
              0.2222222222222222,
              "#7201a8"
             ],
             [
              0.3333333333333333,
              "#9c179e"
             ],
             [
              0.4444444444444444,
              "#bd3786"
             ],
             [
              0.5555555555555556,
              "#d8576b"
             ],
             [
              0.6666666666666666,
              "#ed7953"
             ],
             [
              0.7777777777777778,
              "#fb9f3a"
             ],
             [
              0.8888888888888888,
              "#fdca26"
             ],
             [
              1,
              "#f0f921"
             ]
            ],
            "type": "heatmap"
           }
          ],
          "histogram": [
           {
            "marker": {
             "pattern": {
              "fillmode": "overlay",
              "size": 10,
              "solidity": 0.2
             }
            },
            "type": "histogram"
           }
          ],
          "histogram2d": [
           {
            "colorbar": {
             "outlinewidth": 0,
             "ticks": ""
            },
            "colorscale": [
             [
              0,
              "#0d0887"
             ],
             [
              0.1111111111111111,
              "#46039f"
             ],
             [
              0.2222222222222222,
              "#7201a8"
             ],
             [
              0.3333333333333333,
              "#9c179e"
             ],
             [
              0.4444444444444444,
              "#bd3786"
             ],
             [
              0.5555555555555556,
              "#d8576b"
             ],
             [
              0.6666666666666666,
              "#ed7953"
             ],
             [
              0.7777777777777778,
              "#fb9f3a"
             ],
             [
              0.8888888888888888,
              "#fdca26"
             ],
             [
              1,
              "#f0f921"
             ]
            ],
            "type": "histogram2d"
           }
          ],
          "histogram2dcontour": [
           {
            "colorbar": {
             "outlinewidth": 0,
             "ticks": ""
            },
            "colorscale": [
             [
              0,
              "#0d0887"
             ],
             [
              0.1111111111111111,
              "#46039f"
             ],
             [
              0.2222222222222222,
              "#7201a8"
             ],
             [
              0.3333333333333333,
              "#9c179e"
             ],
             [
              0.4444444444444444,
              "#bd3786"
             ],
             [
              0.5555555555555556,
              "#d8576b"
             ],
             [
              0.6666666666666666,
              "#ed7953"
             ],
             [
              0.7777777777777778,
              "#fb9f3a"
             ],
             [
              0.8888888888888888,
              "#fdca26"
             ],
             [
              1,
              "#f0f921"
             ]
            ],
            "type": "histogram2dcontour"
           }
          ],
          "mesh3d": [
           {
            "colorbar": {
             "outlinewidth": 0,
             "ticks": ""
            },
            "type": "mesh3d"
           }
          ],
          "parcoords": [
           {
            "line": {
             "colorbar": {
              "outlinewidth": 0,
              "ticks": ""
             }
            },
            "type": "parcoords"
           }
          ],
          "pie": [
           {
            "automargin": true,
            "type": "pie"
           }
          ],
          "scatter": [
           {
            "fillpattern": {
             "fillmode": "overlay",
             "size": 10,
             "solidity": 0.2
            },
            "type": "scatter"
           }
          ],
          "scatter3d": [
           {
            "line": {
             "colorbar": {
              "outlinewidth": 0,
              "ticks": ""
             }
            },
            "marker": {
             "colorbar": {
              "outlinewidth": 0,
              "ticks": ""
             }
            },
            "type": "scatter3d"
           }
          ],
          "scattercarpet": [
           {
            "marker": {
             "colorbar": {
              "outlinewidth": 0,
              "ticks": ""
             }
            },
            "type": "scattercarpet"
           }
          ],
          "scattergeo": [
           {
            "marker": {
             "colorbar": {
              "outlinewidth": 0,
              "ticks": ""
             }
            },
            "type": "scattergeo"
           }
          ],
          "scattergl": [
           {
            "marker": {
             "colorbar": {
              "outlinewidth": 0,
              "ticks": ""
             }
            },
            "type": "scattergl"
           }
          ],
          "scattermap": [
           {
            "marker": {
             "colorbar": {
              "outlinewidth": 0,
              "ticks": ""
             }
            },
            "type": "scattermap"
           }
          ],
          "scattermapbox": [
           {
            "marker": {
             "colorbar": {
              "outlinewidth": 0,
              "ticks": ""
             }
            },
            "type": "scattermapbox"
           }
          ],
          "scatterpolar": [
           {
            "marker": {
             "colorbar": {
              "outlinewidth": 0,
              "ticks": ""
             }
            },
            "type": "scatterpolar"
           }
          ],
          "scatterpolargl": [
           {
            "marker": {
             "colorbar": {
              "outlinewidth": 0,
              "ticks": ""
             }
            },
            "type": "scatterpolargl"
           }
          ],
          "scatterternary": [
           {
            "marker": {
             "colorbar": {
              "outlinewidth": 0,
              "ticks": ""
             }
            },
            "type": "scatterternary"
           }
          ],
          "surface": [
           {
            "colorbar": {
             "outlinewidth": 0,
             "ticks": ""
            },
            "colorscale": [
             [
              0,
              "#0d0887"
             ],
             [
              0.1111111111111111,
              "#46039f"
             ],
             [
              0.2222222222222222,
              "#7201a8"
             ],
             [
              0.3333333333333333,
              "#9c179e"
             ],
             [
              0.4444444444444444,
              "#bd3786"
             ],
             [
              0.5555555555555556,
              "#d8576b"
             ],
             [
              0.6666666666666666,
              "#ed7953"
             ],
             [
              0.7777777777777778,
              "#fb9f3a"
             ],
             [
              0.8888888888888888,
              "#fdca26"
             ],
             [
              1,
              "#f0f921"
             ]
            ],
            "type": "surface"
           }
          ],
          "table": [
           {
            "cells": {
             "fill": {
              "color": "#EBF0F8"
             },
             "line": {
              "color": "white"
             }
            },
            "header": {
             "fill": {
              "color": "#C8D4E3"
             },
             "line": {
              "color": "white"
             }
            },
            "type": "table"
           }
          ]
         },
         "layout": {
          "annotationdefaults": {
           "arrowcolor": "#2a3f5f",
           "arrowhead": 0,
           "arrowwidth": 1
          },
          "autotypenumbers": "strict",
          "coloraxis": {
           "colorbar": {
            "outlinewidth": 0,
            "ticks": ""
           }
          },
          "colorscale": {
           "diverging": [
            [
             0,
             "#8e0152"
            ],
            [
             0.1,
             "#c51b7d"
            ],
            [
             0.2,
             "#de77ae"
            ],
            [
             0.3,
             "#f1b6da"
            ],
            [
             0.4,
             "#fde0ef"
            ],
            [
             0.5,
             "#f7f7f7"
            ],
            [
             0.6,
             "#e6f5d0"
            ],
            [
             0.7,
             "#b8e186"
            ],
            [
             0.8,
             "#7fbc41"
            ],
            [
             0.9,
             "#4d9221"
            ],
            [
             1,
             "#276419"
            ]
           ],
           "sequential": [
            [
             0,
             "#0d0887"
            ],
            [
             0.1111111111111111,
             "#46039f"
            ],
            [
             0.2222222222222222,
             "#7201a8"
            ],
            [
             0.3333333333333333,
             "#9c179e"
            ],
            [
             0.4444444444444444,
             "#bd3786"
            ],
            [
             0.5555555555555556,
             "#d8576b"
            ],
            [
             0.6666666666666666,
             "#ed7953"
            ],
            [
             0.7777777777777778,
             "#fb9f3a"
            ],
            [
             0.8888888888888888,
             "#fdca26"
            ],
            [
             1,
             "#f0f921"
            ]
           ],
           "sequentialminus": [
            [
             0,
             "#0d0887"
            ],
            [
             0.1111111111111111,
             "#46039f"
            ],
            [
             0.2222222222222222,
             "#7201a8"
            ],
            [
             0.3333333333333333,
             "#9c179e"
            ],
            [
             0.4444444444444444,
             "#bd3786"
            ],
            [
             0.5555555555555556,
             "#d8576b"
            ],
            [
             0.6666666666666666,
             "#ed7953"
            ],
            [
             0.7777777777777778,
             "#fb9f3a"
            ],
            [
             0.8888888888888888,
             "#fdca26"
            ],
            [
             1,
             "#f0f921"
            ]
           ]
          },
          "colorway": [
           "#636efa",
           "#EF553B",
           "#00cc96",
           "#ab63fa",
           "#FFA15A",
           "#19d3f3",
           "#FF6692",
           "#B6E880",
           "#FF97FF",
           "#FECB52"
          ],
          "font": {
           "color": "#2a3f5f"
          },
          "geo": {
           "bgcolor": "white",
           "lakecolor": "white",
           "landcolor": "#E5ECF6",
           "showlakes": true,
           "showland": true,
           "subunitcolor": "white"
          },
          "hoverlabel": {
           "align": "left"
          },
          "hovermode": "closest",
          "mapbox": {
           "style": "light"
          },
          "paper_bgcolor": "white",
          "plot_bgcolor": "#E5ECF6",
          "polar": {
           "angularaxis": {
            "gridcolor": "white",
            "linecolor": "white",
            "ticks": ""
           },
           "bgcolor": "#E5ECF6",
           "radialaxis": {
            "gridcolor": "white",
            "linecolor": "white",
            "ticks": ""
           }
          },
          "scene": {
           "xaxis": {
            "backgroundcolor": "#E5ECF6",
            "gridcolor": "white",
            "gridwidth": 2,
            "linecolor": "white",
            "showbackground": true,
            "ticks": "",
            "zerolinecolor": "white"
           },
           "yaxis": {
            "backgroundcolor": "#E5ECF6",
            "gridcolor": "white",
            "gridwidth": 2,
            "linecolor": "white",
            "showbackground": true,
            "ticks": "",
            "zerolinecolor": "white"
           },
           "zaxis": {
            "backgroundcolor": "#E5ECF6",
            "gridcolor": "white",
            "gridwidth": 2,
            "linecolor": "white",
            "showbackground": true,
            "ticks": "",
            "zerolinecolor": "white"
           }
          },
          "shapedefaults": {
           "line": {
            "color": "#2a3f5f"
           }
          },
          "ternary": {
           "aaxis": {
            "gridcolor": "white",
            "linecolor": "white",
            "ticks": ""
           },
           "baxis": {
            "gridcolor": "white",
            "linecolor": "white",
            "ticks": ""
           },
           "bgcolor": "#E5ECF6",
           "caxis": {
            "gridcolor": "white",
            "linecolor": "white",
            "ticks": ""
           }
          },
          "title": {
           "x": 0.05
          },
          "xaxis": {
           "automargin": true,
           "gridcolor": "white",
           "linecolor": "white",
           "ticks": "",
           "title": {
            "standoff": 15
           },
           "zerolinecolor": "white",
           "zerolinewidth": 2
          },
          "yaxis": {
           "automargin": true,
           "gridcolor": "white",
           "linecolor": "white",
           "ticks": "",
           "title": {
            "standoff": 15
           },
           "zerolinecolor": "white",
           "zerolinewidth": 2
          }
         }
        },
        "title": {
         "text": "Agriculture (as percent of GDP) in Sample Over Time"
        },
        "xaxis": {
         "anchor": "y",
         "domain": [
          0,
          1
         ],
         "title": {
          "text": "year"
         }
        },
        "yaxis": {
         "anchor": "x",
         "domain": [
          0,
          1
         ],
         "title": {
          "text": "Agriculture, forestry, and fishing, value added (percent of GDP)"
         }
        }
       }
      }
     },
     "metadata": {},
     "output_type": "display_data"
    }
   ],
   "source": [
    "px.line(\n",
    "    df_for_interactive,\n",
    "    x = 'year',\n",
    "    y = 'Agriculture, forestry, and fishing, value added (percent of GDP)',\n",
    "    color = 'code',\n",
    "    title='Agriculture (as percent of GDP) in Sample Over Time'\n",
    ")"
   ]
  },
  {
   "cell_type": "markdown",
   "id": "1e329475",
   "metadata": {},
   "source": [
    "## Creating Scatter Plots of Relationships\n",
    "### Account (% age 15+)"
   ]
  },
  {
   "cell_type": "code",
   "execution_count": 59,
   "id": "8b204b64",
   "metadata": {},
   "outputs": [
    {
     "data": {
      "image/png": "[encoded data removed]",
      "text/plain": [
       "<Figure size 800x600 with 1 Axes>"
      ]
     },
     "metadata": {},
     "output_type": "display_data"
    }
   ],
   "source": [
    "df_for_scatter = df.dropna(subset=['Mobile Cellular Subscriptions (per 100 people)','Account (% age 15+)'])\n",
    "\n",
    "viz.scatter_plot(df_for_scatter,\n",
    "                 'Mobile Cellular Subscriptions (per 100 people)',\n",
    "                 'Account (% age 15+)',\n",
    "                 'Mobile Cellular Subscriptions vs Pop. % Age 15+ with Financial Accounts by Region',\n",
    "                 'region')"
   ]
  },
  {
   "cell_type": "code",
   "execution_count": 60,
   "id": "f5983bb5",
   "metadata": {},
   "outputs": [
    {
     "data": {
      "image/png": "[encoded data removed]",
      "text/plain": [
       "<Figure size 800x600 with 1 Axes>"
      ]
     },
     "metadata": {},
     "output_type": "display_data"
    }
   ],
   "source": [
    "df_for_scatter = df.dropna(subset=['Mobile Cellular Subscriptions (per 100 people)','Crop production index (2014-2016 = 100)'])\n",
    "\n",
    "viz.scatter_plot(df_for_scatter,\n",
    "                 'Mobile Cellular Subscriptions (per 100 people)',\n",
    "                 'Crop production index (2014-2016 = 100)',\n",
    "                 'Mobile Cellular Subscriptions vs Crop Production',\n",
    "                 'region')"
   ]
  },
  {
   "cell_type": "code",
   "execution_count": 61,
   "id": "b3518ec9",
   "metadata": {},
   "outputs": [
    {
     "data": {
      "image/png": "[encoded data removed]",
      "text/plain": [
       "<Figure size 800x600 with 1 Axes>"
      ]
     },
     "metadata": {},
     "output_type": "display_data"
    }
   ],
   "source": [
    "df_for_scatter = df.dropna(subset=['Mobile Cellular Subscriptions (per 100 people)','foodSupply_stability'])\n",
    "\n",
    "\n",
    "viz.scatter_plot(df_for_scatter,\n",
    "                 'Mobile Cellular Subscriptions (per 100 people)',\n",
    "                 'foodSupply_stability',\n",
    "                 'Mobile Cellular Subscriptions vs Food Supply Stability',\n",
    "                 'region')"
   ]
  },
  {
   "cell_type": "code",
   "execution_count": 62,
   "id": "2ee20a73",
   "metadata": {},
   "outputs": [
    {
     "data": {
      "image/png": "[encoded data removed]",
      "text/plain": [
       "<Figure size 800x600 with 1 Axes>"
      ]
     },
     "metadata": {},
     "output_type": "display_data"
    }
   ],
   "source": [
    "df_for_scatter = df.dropna(subset=['Mobile Cellular Subscriptions (per 100 people)','Agriculture, forestry, and fishing, value added (percent of GDP)'])\n",
    "\n",
    "\n",
    "viz.scatter_plot(df_for_scatter,\n",
    "                 'Mobile Cellular Subscriptions (per 100 people)',\n",
    "                 'Agriculture, forestry, and fishing, value added (percent of GDP)',\n",
    "                 'Mobile Cellular Subscriptions vs Agriculture (Percent of GDP)',\n",
    "                 'region')"
   ]
  },
  {
   "cell_type": "markdown",
   "id": "32b67546",
   "metadata": {},
   "source": [
    "## Other Visualizations\n",
    "### Spider Plot"
   ]
  },
  {
   "cell_type": "code",
   "execution_count": 24,
   "id": "b6680108",
   "metadata": {},
   "outputs": [],
   "source": [
    "#WIP"
   ]
  }
 ],
 "metadata": {
  "kernelspec": {
   "display_name": "pandas",
   "language": "python",
   "name": "python3"
  },
  "language_info": {
   "codemirror_mode": {
    "name": "ipython",
    "version": 3
   },
   "file_extension": ".py",
   "mimetype": "text/x-python",
   "name": "python",
   "nbconvert_exporter": "python",
   "pygments_lexer": "ipython3",
   "version": "3.12.9"
  }
 },
 "nbformat": 4,
 "nbformat_minor": 5
}
