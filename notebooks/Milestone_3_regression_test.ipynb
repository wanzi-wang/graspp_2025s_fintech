{
 "cells": [
  {
   "cell_type": "markdown",
   "id": "d2efee77",
   "metadata": {},
   "source": [
    "## Regression for Milestone 3"
   ]
  },
  {
   "cell_type": "markdown",
   "id": "92233617",
   "metadata": {},
   "source": [
    "### <span style=\"color: LightGreen;\">reference</span>\n",
    "\n",
    "original x-variable names\n",
    "   - \"Account (% age 15+)\",\n",
    "   -  \"Account ownership at a financial institution or with a mobile-money-service provider (% of population ages 15+)\",\n",
    "   -  \"Current account balance (% of GDP)\",\n",
    "   -  \"Current account balance (BoP, current US$)\",\n",
    "   -  \"Financial institution account (% age 15+)\",\n",
    "   -  \"Made a deposit (% with a financial institution account, age 15+)\",\n",
    "   -  \"Made a digital payment (% age 15+)\",\n",
    "   -  \"Made a utility payment (% age 15+)\",\n",
    "   -  \"Made a utility payment: using a financial institution account (% age 15+)\",\n",
    "   -  \"Made a withdrawal (% with a financial institution account, age 15+)\",\n",
    "   -  \"Made or received a digital payment (% age 15+)\",\n",
    "   -  \"Mobile money account (% age 15+)\",\n",
    "   -  \"Owns a debit or credit card (% age 15+)\",\n",
    "   -  \"Received digital payments (% age 15+)\",\n",
    "   -  \"Saved at a financial institution or using a mobile money account (% age 15+)\",\n",
    "   -  \"Saved money using a mobile money account (% age 15+)\",\n",
    "   -  \"Store money using a financial institution or a mobile money account (% age 15+)\",\n",
    "   -  \"Store money using a financial institution or a mobile money account (% with an account,  age 15+)\",\n",
    "   -  \"Store money using a mobile money account (% age 15+)\",\n",
    "   -  \"Store money using a mobile money account (% with a mobile money account acount, age 15+)\",\n",
    "   -  \"Mobile Cellular Subscriptions (per 100 people)\",\n",
    "   -  \"Fixed Broadband Subsciptions (per 100 people)\",\n",
    "   -  \"Made a digital in-store merchant payment: using a mobile phone (% age 15+)\",\n",
    "   -  \"Made a utility payment: using a mobile phone (% age 15+)\",\n",
    "   -  \"Own a mobile phone (% age 15+)\",\n",
    "   -  \"Use a mobile phone or the internet to make payments, buy things, or to send or receive money using a financial institution account (% age 15+)\",\n",
    "   -  \"Use a mobile phone or the internet to make payments, buy things, or to send or receive money using a financial institution account (% with a financial institution account, age 15+)\",\n",
    "   -  \"Used a mobile phone or the internet to access a financial institution account (% age 15+)\",\n",
    "   -  \"Used a mobile phone or the internet to access a financial institution account (% with a financial institution account, age 15+)\",\n",
    "   -  \"Used a mobile phone or the internet to access an account (% with an account, age 15+)\",\n",
    "   -  \"Used a mobile phone or the internet to access an account(% age 15+)\",\n",
    "   -  \"Used a mobile phone or the internet to buy something online (% age 15+)\",\n",
    "   -  \"Used a mobile phone or the internet to check account balance(% age 15+)\",\n",
    "   -  \"Used a mobile phone or the internet to check account balance(% with a financial institution account, age 15+)\",\n",
    "   -  \"Used a mobile phone or the internet to send money (% age 15+)\",\n",
    "   -  \"GDP per capita, PPP (constant 2021 international $)\",\n",
    "   -  \"Population density (people per sq. km of land area)\",\n",
    "   -  \"Population growth (annual %)\",\n",
    "   -  \"Population, total\",\n",
    "   -  \"Rural Access to Electricity(Percent of Population)\",\n",
    "   -  \"Fertility rate, total (births per woman)\",\n",
    "   -  \"Life expectancy at birth, total (years)\",\n",
    "   -  \"Mortality rate, infant (per 1,000 live births)\",\n",
    "   -  \"Rural population (% of total population)\",\n",
    "   -  \"Urban population (% of total population)\"\n"
   ]
  },
  {
   "cell_type": "markdown",
   "id": "243173c1",
   "metadata": {},
   "source": [
    "### import reqiored package"
   ]
  },
  {
   "cell_type": "code",
   "execution_count": 8,
   "id": "fd7538ef",
   "metadata": {},
   "outputs": [],
   "source": [
    "\n",
    "# import necessary libraries\n",
    "import pandas as pd\n",
    "import numpy as np\n",
    "import statsmodels.api as sm\n",
    "import seaborn as sns\n",
    "from statsmodels.stats.outliers_influence import variance_inflation_factor\n",
    "\n",
    "\n"
   ]
  },
  {
   "cell_type": "code",
   "execution_count": 20,
   "id": "2ec5600e",
   "metadata": {},
   "outputs": [],
   "source": [
    "# import the final dataset \n",
    "df_finaldataset = pd.read_csv('../Data/processed/final_dataset.csv')"
   ]
  },
  {
   "cell_type": "markdown",
   "id": "76fafbc2",
   "metadata": {},
   "source": [
    "### 6. Multiple Regression Analysis for Financail Inclusion Indicators"
   ]
  },
  {
   "cell_type": "code",
   "execution_count": 13,
   "id": "576c885c",
   "metadata": {},
   "outputs": [
    {
     "data": {
      "text/markdown": [
       "## VIF(variane inflation facrot) for current set of X-variables "
      ],
      "text/plain": [
       "<IPython.core.display.Markdown object>"
      ]
     },
     "metadata": {},
     "output_type": "display_data"
    },
    {
     "name": "stdout",
     "output_type": "stream",
     "text": [
      "                                            Variable        VIF\n",
      "0     Mobile Cellular Subscriptions (per 100 people)   9.270403\n",
      "1  Made a digital in-store merchant payment: usin...   4.206416\n",
      "2  Made a utility payment: using a mobile phone (...   2.812354\n",
      "3  GDP per capita, PPP (constant 2021 internation...  10.466264\n",
      "4  Population density (people per sq. km of land ...   1.930553\n",
      "5                       Population growth (annual %)   7.480379\n",
      "6                               foodSupply_stability   1.876681\n",
      "7     Mortality rate, infant (per 1,000 live births)   4.977231\n",
      "\n",
      "| VIF Range       | Variables | Severity          |\n",
      "|-----------------|-----------|-------------------|\n",
      "| > 10,000       | 7         | Critical          |\n",
      "| 1,000 - 10,000 | 7         | Severe            |\n",
      "| 100 - 1,000    | 8         | High              |\n",
      "| 10 - 100       | 3         | Moderate          |\n",
      "| < 10           | 4         | Acceptable        |\n"
     ]
    },
    {
     "data": {
      "text/markdown": [
       "## 🔍 6-1 Regression for Dependent Variable: `Account (% age 15+)`"
      ],
      "text/plain": [
       "<IPython.core.display.Markdown object>"
      ]
     },
     "metadata": {},
     "output_type": "display_data"
    },
    {
     "name": "stdout",
     "output_type": "stream",
     "text": [
      "                             OLS Regression Results                            \n",
      "===============================================================================\n",
      "Dep. Variable:     Account (% age 15+)   R-squared:                       0.722\n",
      "Model:                             OLS   Adj. R-squared:                  0.712\n",
      "Method:                  Least Squares   F-statistic:                     71.54\n",
      "Date:                 Sun, 29 Jun 2025   Prob (F-statistic):           5.47e-57\n",
      "Time:                         13:30:44   Log-Likelihood:                -893.49\n",
      "No. Observations:                  229   AIC:                             1805.\n",
      "Df Residuals:                      220   BIC:                             1836.\n",
      "Df Model:                            8                                         \n",
      "Covariance Type:             nonrobust                                         \n",
      "==============================================================================================================================================\n",
      "                                                                                 coef    std err          t      P>|t|      [0.025      0.975]\n",
      "----------------------------------------------------------------------------------------------------------------------------------------------\n",
      "const                                                                         66.1916      8.218      8.054      0.000      49.995      82.388\n",
      "Mobile Cellular Subscriptions (per 100 people)                                -0.1369      0.041     -3.337      0.001      -0.218      -0.056\n",
      "Made a digital in-store merchant payment: using a mobile phone (% age 15+)     0.1390      0.087      1.593      0.113      -0.033       0.311\n",
      "Made a utility payment: using a mobile phone (% age 15+)                       0.3996      0.217      1.837      0.067      -0.029       0.828\n",
      "GDP per capita, PPP (constant 2021 international $)                            0.0017      0.000      6.415      0.000       0.001       0.002\n",
      "Population density (people per sq. km of land area)                            0.0085      0.003      2.822      0.005       0.003       0.014\n",
      "Population growth (annual %)                                                  -9.9552      1.864     -5.339      0.000     -13.630      -6.281\n",
      "foodSupply_stability                                                          -0.2158      0.067     -3.227      0.001      -0.348      -0.084\n",
      "Mortality rate, infant (per 1,000 live births)                                -0.4971      0.111     -4.482      0.000      -0.716      -0.279\n",
      "==============================================================================\n",
      "Omnibus:                       28.448   Durbin-Watson:                   0.266\n",
      "Prob(Omnibus):                  0.000   Jarque-Bera (JB):               35.027\n",
      "Skew:                           0.927   Prob(JB):                     2.48e-08\n",
      "Kurtosis:                       3.485   Cond. No.                     1.17e+05\n",
      "==============================================================================\n",
      "\n",
      "Notes:\n",
      "[1] Standard Errors assume that the covariance matrix of the errors is correctly specified.\n",
      "[2] The condition number is large, 1.17e+05. This might indicate that there are\n",
      "strong multicollinearity or other numerical problems.\n"
     ]
    },
    {
     "data": {
      "text/markdown": [
       "## 🔍 6-2 Regression for Dependent Variable: `Account ownership at a financial institution or with a mobile-money-service provider (% of population ages 15+)`"
      ],
      "text/plain": [
       "<IPython.core.display.Markdown object>"
      ]
     },
     "metadata": {},
     "output_type": "display_data"
    },
    {
     "name": "stdout",
     "output_type": "stream",
     "text": [
      "                                                                           OLS Regression Results                                                                          \n",
      "===========================================================================================================================================================================\n",
      "Dep. Variable:     Account ownership at a financial institution or with a mobile-money-service provider (% of population ages 15+)   R-squared:                       0.722\n",
      "Model:                                                                                                                         OLS   Adj. R-squared:                  0.712\n",
      "Method:                                                                                                              Least Squares   F-statistic:                     71.54\n",
      "Date:                                                                                                             Sun, 29 Jun 2025   Prob (F-statistic):           5.47e-57\n",
      "Time:                                                                                                                     13:30:44   Log-Likelihood:                -893.49\n",
      "No. Observations:                                                                                                              229   AIC:                             1805.\n",
      "Df Residuals:                                                                                                                  220   BIC:                             1836.\n",
      "Df Model:                                                                                                                        8                                         \n",
      "Covariance Type:                                                                                                         nonrobust                                         \n",
      "==============================================================================================================================================\n",
      "                                                                                 coef    std err          t      P>|t|      [0.025      0.975]\n",
      "----------------------------------------------------------------------------------------------------------------------------------------------\n",
      "const                                                                         66.1916      8.218      8.054      0.000      49.995      82.388\n",
      "Mobile Cellular Subscriptions (per 100 people)                                -0.1369      0.041     -3.337      0.001      -0.218      -0.056\n",
      "Made a digital in-store merchant payment: using a mobile phone (% age 15+)     0.1390      0.087      1.593      0.113      -0.033       0.311\n",
      "Made a utility payment: using a mobile phone (% age 15+)                       0.3996      0.217      1.837      0.067      -0.029       0.828\n",
      "GDP per capita, PPP (constant 2021 international $)                            0.0017      0.000      6.415      0.000       0.001       0.002\n",
      "Population density (people per sq. km of land area)                            0.0085      0.003      2.822      0.005       0.003       0.014\n",
      "Population growth (annual %)                                                  -9.9552      1.864     -5.339      0.000     -13.630      -6.281\n",
      "foodSupply_stability                                                          -0.2158      0.067     -3.227      0.001      -0.348      -0.084\n",
      "Mortality rate, infant (per 1,000 live births)                                -0.4971      0.111     -4.482      0.000      -0.716      -0.279\n",
      "==============================================================================\n",
      "Omnibus:                       28.448   Durbin-Watson:                   0.266\n",
      "Prob(Omnibus):                  0.000   Jarque-Bera (JB):               35.027\n",
      "Skew:                           0.927   Prob(JB):                     2.48e-08\n",
      "Kurtosis:                       3.485   Cond. No.                     1.17e+05\n",
      "==============================================================================\n",
      "\n",
      "Notes:\n",
      "[1] Standard Errors assume that the covariance matrix of the errors is correctly specified.\n",
      "[2] The condition number is large, 1.17e+05. This might indicate that there are\n",
      "strong multicollinearity or other numerical problems.\n"
     ]
    },
    {
     "data": {
      "text/markdown": [
       "## 🔍 6-3 Regression for Dependent Variable: `Current account balance (% of GDP)`"
      ],
      "text/plain": [
       "<IPython.core.display.Markdown object>"
      ]
     },
     "metadata": {},
     "output_type": "display_data"
    },
    {
     "name": "stdout",
     "output_type": "stream",
     "text": [
      "                                    OLS Regression Results                                    \n",
      "==============================================================================================\n",
      "Dep. Variable:     Current account balance (% of GDP)   R-squared:                       0.362\n",
      "Model:                                            OLS   Adj. R-squared:                  0.338\n",
      "Method:                                 Least Squares   F-statistic:                     15.57\n",
      "Date:                                Sun, 29 Jun 2025   Prob (F-statistic):           4.24e-18\n",
      "Time:                                        13:30:44   Log-Likelihood:                -653.85\n",
      "No. Observations:                                 229   AIC:                             1326.\n",
      "Df Residuals:                                     220   BIC:                             1357.\n",
      "Df Model:                                           8                                         \n",
      "Covariance Type:                            nonrobust                                         \n",
      "==============================================================================================================================================\n",
      "                                                                                 coef    std err          t      P>|t|      [0.025      0.975]\n",
      "----------------------------------------------------------------------------------------------------------------------------------------------\n",
      "const                                                                        -14.3908      2.886     -4.986      0.000     -20.079      -8.703\n",
      "Mobile Cellular Subscriptions (per 100 people)                                 0.0326      0.014      2.264      0.025       0.004       0.061\n",
      "Made a digital in-store merchant payment: using a mobile phone (% age 15+)     0.1150      0.031      3.753      0.000       0.055       0.175\n",
      "Made a utility payment: using a mobile phone (% age 15+)                      -0.2477      0.076     -3.242      0.001      -0.398      -0.097\n",
      "GDP per capita, PPP (constant 2021 international $)                            0.0004   9.56e-05      4.689      0.000       0.000       0.001\n",
      "Population density (people per sq. km of land area)                            0.0057      0.001      5.394      0.000       0.004       0.008\n",
      "Population growth (annual %)                                                  -1.1346      0.655     -1.733      0.085      -2.425       0.156\n",
      "foodSupply_stability                                                           0.0648      0.023      2.760      0.006       0.019       0.111\n",
      "Mortality rate, infant (per 1,000 live births)                                 0.1120      0.039      2.875      0.004       0.035       0.189\n",
      "==============================================================================\n",
      "Omnibus:                      108.659   Durbin-Watson:                   0.612\n",
      "Prob(Omnibus):                  0.000   Jarque-Bera (JB):              823.102\n",
      "Skew:                          -1.680   Prob(JB):                    1.84e-179\n",
      "Kurtosis:                      11.658   Cond. No.                     1.17e+05\n",
      "==============================================================================\n",
      "\n",
      "Notes:\n",
      "[1] Standard Errors assume that the covariance matrix of the errors is correctly specified.\n",
      "[2] The condition number is large, 1.17e+05. This might indicate that there are\n",
      "strong multicollinearity or other numerical problems.\n"
     ]
    },
    {
     "data": {
      "text/markdown": [
       "## 🔍 6-4 Regression for Dependent Variable: `Current account balance (BoP, current US$)`"
      ],
      "text/plain": [
       "<IPython.core.display.Markdown object>"
      ]
     },
     "metadata": {},
     "output_type": "display_data"
    },
    {
     "name": "stdout",
     "output_type": "stream",
     "text": [
      "                                        OLS Regression Results                                        \n",
      "======================================================================================================\n",
      "Dep. Variable:     Current account balance (BoP, current US$)   R-squared:                       0.222\n",
      "Model:                                                    OLS   Adj. R-squared:                  0.194\n",
      "Method:                                         Least Squares   F-statistic:                     7.855\n",
      "Date:                                        Sun, 29 Jun 2025   Prob (F-statistic):           2.81e-09\n",
      "Time:                                                13:30:44   Log-Likelihood:                -5706.2\n",
      "No. Observations:                                         229   AIC:                         1.143e+04\n",
      "Df Residuals:                                             220   BIC:                         1.146e+04\n",
      "Df Model:                                                   8                                         \n",
      "Covariance Type:                                    nonrobust                                         \n",
      "==============================================================================================================================================\n",
      "                                                                                 coef    std err          t      P>|t|      [0.025      0.975]\n",
      "----------------------------------------------------------------------------------------------------------------------------------------------\n",
      "const                                                                      -3.225e+10    1.1e+10     -2.929      0.004    -5.4e+10   -1.05e+10\n",
      "Mobile Cellular Subscriptions (per 100 people)                              1.399e+08    5.5e+07      2.546      0.012    3.16e+07    2.48e+08\n",
      "Made a digital in-store merchant payment: using a mobile phone (% age 15+)  3.601e+08   1.17e+08      3.078      0.002     1.3e+08    5.91e+08\n",
      "Made a utility payment: using a mobile phone (% age 15+)                   -7.502e+08   2.91e+08     -2.574      0.011   -1.32e+09   -1.76e+08\n",
      "GDP per capita, PPP (constant 2021 international $)                         6.579e+05   3.65e+05      1.803      0.073   -6.14e+04    1.38e+06\n",
      "Population density (people per sq. km of land area)                         5.142e+05   4.05e+06      0.127      0.899   -7.47e+06     8.5e+06\n",
      "Population growth (annual %)                                                1.983e+08    2.5e+09      0.079      0.937   -4.73e+09    5.12e+09\n",
      "foodSupply_stability                                                        6.924e+07   8.96e+07      0.773      0.441   -1.07e+08    2.46e+08\n",
      "Mortality rate, infant (per 1,000 live births)                              1.572e+08   1.49e+08      1.058      0.291   -1.36e+08     4.5e+08\n",
      "==============================================================================\n",
      "Omnibus:                      114.258   Durbin-Watson:                   0.577\n",
      "Prob(Omnibus):                  0.000   Jarque-Bera (JB):              571.874\n",
      "Skew:                          -1.978   Prob(JB):                    6.59e-125\n",
      "Kurtosis:                       9.655   Cond. No.                     1.17e+05\n",
      "==============================================================================\n",
      "\n",
      "Notes:\n",
      "[1] Standard Errors assume that the covariance matrix of the errors is correctly specified.\n",
      "[2] The condition number is large, 1.17e+05. This might indicate that there are\n",
      "strong multicollinearity or other numerical problems.\n"
     ]
    },
    {
     "data": {
      "text/markdown": [
       "## 🔍 6-5 Regression for Dependent Variable: `Financial institution account (% age 15+)`"
      ],
      "text/plain": [
       "<IPython.core.display.Markdown object>"
      ]
     },
     "metadata": {},
     "output_type": "display_data"
    },
    {
     "name": "stdout",
     "output_type": "stream",
     "text": [
      "                                        OLS Regression Results                                       \n",
      "=====================================================================================================\n",
      "Dep. Variable:     Financial institution account (% age 15+)   R-squared:                       0.722\n",
      "Model:                                                   OLS   Adj. R-squared:                  0.712\n",
      "Method:                                        Least Squares   F-statistic:                     71.31\n",
      "Date:                                       Sun, 29 Jun 2025   Prob (F-statistic):           7.07e-57\n",
      "Time:                                               13:30:44   Log-Likelihood:                -901.33\n",
      "No. Observations:                                        229   AIC:                             1821.\n",
      "Df Residuals:                                            220   BIC:                             1852.\n",
      "Df Model:                                                  8                                         \n",
      "Covariance Type:                                   nonrobust                                         \n",
      "==============================================================================================================================================\n",
      "                                                                                 coef    std err          t      P>|t|      [0.025      0.975]\n",
      "----------------------------------------------------------------------------------------------------------------------------------------------\n",
      "const                                                                         75.2972      8.504      8.854      0.000      58.537      92.058\n",
      "Mobile Cellular Subscriptions (per 100 people)                                -0.1954      0.042     -4.603      0.000      -0.279      -0.112\n",
      "Made a digital in-store merchant payment: using a mobile phone (% age 15+)     0.1835      0.090      2.032      0.043       0.005       0.362\n",
      "Made a utility payment: using a mobile phone (% age 15+)                       0.2549      0.225      1.133      0.259      -0.189       0.698\n",
      "GDP per capita, PPP (constant 2021 international $)                            0.0018      0.000      6.403      0.000       0.001       0.002\n",
      "Population density (people per sq. km of land area)                            0.0021      0.003      0.676      0.500      -0.004       0.008\n",
      "Population growth (annual %)                                                  -9.9404      1.929     -5.152      0.000     -13.743      -6.138\n",
      "foodSupply_stability                                                          -0.2407      0.069     -3.479      0.001      -0.377      -0.104\n",
      "Mortality rate, infant (per 1,000 live births)                                -0.6121      0.115     -5.334      0.000      -0.838      -0.386\n",
      "==============================================================================\n",
      "Omnibus:                       34.114   Durbin-Watson:                   0.249\n",
      "Prob(Omnibus):                  0.000   Jarque-Bera (JB):               44.346\n",
      "Skew:                           1.029   Prob(JB):                     2.35e-10\n",
      "Kurtosis:                       3.639   Cond. No.                     1.17e+05\n",
      "==============================================================================\n",
      "\n",
      "Notes:\n",
      "[1] Standard Errors assume that the covariance matrix of the errors is correctly specified.\n",
      "[2] The condition number is large, 1.17e+05. This might indicate that there are\n",
      "strong multicollinearity or other numerical problems.\n"
     ]
    },
    {
     "data": {
      "text/markdown": [
       "## 🔍 6-6 Regression for Dependent Variable: `Made a deposit (% with a financial institution account, age 15+)`"
      ],
      "text/plain": [
       "<IPython.core.display.Markdown object>"
      ]
     },
     "metadata": {},
     "output_type": "display_data"
    },
    {
     "name": "stdout",
     "output_type": "stream",
     "text": [
      "                                                   OLS Regression Results                                                   \n",
      "============================================================================================================================\n",
      "Dep. Variable:     Made a deposit (% with a financial institution account, age 15+)   R-squared:                       0.587\n",
      "Model:                                                                          OLS   Adj. R-squared:                  0.572\n",
      "Method:                                                               Least Squares   F-statistic:                     39.11\n",
      "Date:                                                              Sun, 29 Jun 2025   Prob (F-statistic):           2.64e-38\n",
      "Time:                                                                      13:30:44   Log-Likelihood:                -849.98\n",
      "No. Observations:                                                               229   AIC:                             1718.\n",
      "Df Residuals:                                                                   220   BIC:                             1749.\n",
      "Df Model:                                                                         8                                         \n",
      "Covariance Type:                                                          nonrobust                                         \n",
      "==============================================================================================================================================\n",
      "                                                                                 coef    std err          t      P>|t|      [0.025      0.975]\n",
      "----------------------------------------------------------------------------------------------------------------------------------------------\n",
      "const                                                                         67.1877      6.796      9.886      0.000      53.794      80.581\n",
      "Mobile Cellular Subscriptions (per 100 people)                                -0.1001      0.034     -2.953      0.003      -0.167      -0.033\n",
      "Made a digital in-store merchant payment: using a mobile phone (% age 15+)     0.6412      0.072      8.882      0.000       0.499       0.784\n",
      "Made a utility payment: using a mobile phone (% age 15+)                      -0.1386      0.180     -0.771      0.442      -0.493       0.216\n",
      "GDP per capita, PPP (constant 2021 international $)                        -2.029e-05      0.000     -0.090      0.928      -0.000       0.000\n",
      "Population density (people per sq. km of land area)                           -0.0080      0.003     -3.193      0.002      -0.013      -0.003\n",
      "Population growth (annual %)                                                   1.0979      1.542      0.712      0.477      -1.941       4.137\n",
      "foodSupply_stability                                                           0.1950      0.055      3.527      0.001       0.086       0.304\n",
      "Mortality rate, infant (per 1,000 live births)                                -0.4116      0.092     -4.488      0.000      -0.592      -0.231\n",
      "==============================================================================\n",
      "Omnibus:                        4.905   Durbin-Watson:                   0.245\n",
      "Prob(Omnibus):                  0.086   Jarque-Bera (JB):                4.964\n",
      "Skew:                           0.334   Prob(JB):                       0.0836\n",
      "Kurtosis:                       2.729   Cond. No.                     1.17e+05\n",
      "==============================================================================\n",
      "\n",
      "Notes:\n",
      "[1] Standard Errors assume that the covariance matrix of the errors is correctly specified.\n",
      "[2] The condition number is large, 1.17e+05. This might indicate that there are\n",
      "strong multicollinearity or other numerical problems.\n"
     ]
    },
    {
     "data": {
      "text/markdown": [
       "## 🔍 6-7 Regression for Dependent Variable: `Made a digital payment (% age 15+)`"
      ],
      "text/plain": [
       "<IPython.core.display.Markdown object>"
      ]
     },
     "metadata": {},
     "output_type": "display_data"
    },
    {
     "name": "stdout",
     "output_type": "stream",
     "text": [
      "                                    OLS Regression Results                                    \n",
      "==============================================================================================\n",
      "Dep. Variable:     Made a digital payment (% age 15+)   R-squared:                       0.905\n",
      "Model:                                            OLS   Adj. R-squared:                  0.902\n",
      "Method:                                 Least Squares   F-statistic:                     263.4\n",
      "Date:                                Sun, 29 Jun 2025   Prob (F-statistic):          3.66e-108\n",
      "Time:                                        13:30:44   Log-Likelihood:                -695.99\n",
      "No. Observations:                                 229   AIC:                             1410.\n",
      "Df Residuals:                                     220   BIC:                             1441.\n",
      "Df Model:                                           8                                         \n",
      "Covariance Type:                            nonrobust                                         \n",
      "==============================================================================================================================================\n",
      "                                                                                 coef    std err          t      P>|t|      [0.025      0.975]\n",
      "----------------------------------------------------------------------------------------------------------------------------------------------\n",
      "const                                                                         -6.8913      3.469     -1.986      0.048     -13.728      -0.054\n",
      "Mobile Cellular Subscriptions (per 100 people)                                 0.1036      0.017      5.984      0.000       0.069       0.138\n",
      "Made a digital in-store merchant payment: using a mobile phone (% age 15+)    -0.0552      0.037     -1.497      0.136      -0.128       0.017\n",
      "Made a utility payment: using a mobile phone (% age 15+)                       1.7019      0.092     18.538      0.000       1.521       1.883\n",
      "GDP per capita, PPP (constant 2021 international $)                            0.0011      0.000      9.435      0.000       0.001       0.001\n",
      "Population density (people per sq. km of land area)                            0.0071      0.001      5.592      0.000       0.005       0.010\n",
      "Population growth (annual %)                                                  -0.4800      0.787     -0.610      0.543      -2.031       1.071\n",
      "foodSupply_stability                                                           0.0760      0.028      2.694      0.008       0.020       0.132\n",
      "Mortality rate, infant (per 1,000 live births)                                 0.0094      0.047      0.201      0.841      -0.083       0.102\n",
      "==============================================================================\n",
      "Omnibus:                       30.524   Durbin-Watson:                   0.325\n",
      "Prob(Omnibus):                  0.000   Jarque-Bera (JB):               74.206\n",
      "Skew:                           0.598   Prob(JB):                     7.70e-17\n",
      "Kurtosis:                       5.519   Cond. No.                     1.17e+05\n",
      "==============================================================================\n",
      "\n",
      "Notes:\n",
      "[1] Standard Errors assume that the covariance matrix of the errors is correctly specified.\n",
      "[2] The condition number is large, 1.17e+05. This might indicate that there are\n",
      "strong multicollinearity or other numerical problems.\n"
     ]
    },
    {
     "data": {
      "text/markdown": [
       "## 🔍 6-8 Regression for Dependent Variable: `Made a utility payment (% age 15+)`"
      ],
      "text/plain": [
       "<IPython.core.display.Markdown object>"
      ]
     },
     "metadata": {},
     "output_type": "display_data"
    },
    {
     "name": "stdout",
     "output_type": "stream",
     "text": [
      "                                    OLS Regression Results                                    \n",
      "==============================================================================================\n",
      "Dep. Variable:     Made a utility payment (% age 15+)   R-squared:                       0.541\n",
      "Model:                                            OLS   Adj. R-squared:                  0.525\n",
      "Method:                                 Least Squares   F-statistic:                     32.48\n",
      "Date:                                Sun, 29 Jun 2025   Prob (F-statistic):           2.14e-33\n",
      "Time:                                        13:30:44   Log-Likelihood:                -884.39\n",
      "No. Observations:                                 229   AIC:                             1787.\n",
      "Df Residuals:                                     220   BIC:                             1818.\n",
      "Df Model:                                           8                                         \n",
      "Covariance Type:                            nonrobust                                         \n",
      "==============================================================================================================================================\n",
      "                                                                                 coef    std err          t      P>|t|      [0.025      0.975]\n",
      "----------------------------------------------------------------------------------------------------------------------------------------------\n",
      "const                                                                         70.8498      7.898      8.971      0.000      55.284      86.415\n",
      "Mobile Cellular Subscriptions (per 100 people)                                 0.0249      0.039      0.631      0.529      -0.053       0.103\n",
      "Made a digital in-store merchant payment: using a mobile phone (% age 15+)     0.4260      0.084      5.078      0.000       0.261       0.591\n",
      "Made a utility payment: using a mobile phone (% age 15+)                      -0.0659      0.209     -0.315      0.753      -0.478       0.346\n",
      "GDP per capita, PPP (constant 2021 international $)                           -0.0009      0.000     -3.538      0.000      -0.001      -0.000\n",
      "Population density (people per sq. km of land area)                           -0.0215      0.003     -7.406      0.000      -0.027      -0.016\n",
      "Population growth (annual %)                                                   8.1120      1.792      4.527      0.000       4.581      11.643\n",
      "foodSupply_stability                                                           0.0029      0.064      0.045      0.964      -0.124       0.130\n",
      "Mortality rate, infant (per 1,000 live births)                                -0.6863      0.107     -6.439      0.000      -0.896      -0.476\n",
      "==============================================================================\n",
      "Omnibus:                        8.816   Durbin-Watson:                   0.226\n",
      "Prob(Omnibus):                  0.012   Jarque-Bera (JB):                4.357\n",
      "Skew:                          -0.048   Prob(JB):                        0.113\n",
      "Kurtosis:                       2.331   Cond. No.                     1.17e+05\n",
      "==============================================================================\n",
      "\n",
      "Notes:\n",
      "[1] Standard Errors assume that the covariance matrix of the errors is correctly specified.\n",
      "[2] The condition number is large, 1.17e+05. This might indicate that there are\n",
      "strong multicollinearity or other numerical problems.\n"
     ]
    },
    {
     "data": {
      "text/markdown": [
       "## 🔍 6-9 Regression for Dependent Variable: `Made a utility payment: using a financial institution account (% age 15+)`"
      ],
      "text/plain": [
       "<IPython.core.display.Markdown object>"
      ]
     },
     "metadata": {},
     "output_type": "display_data"
    },
    {
     "name": "stdout",
     "output_type": "stream",
     "text": [
      "                                                        OLS Regression Results                                                       \n",
      "=====================================================================================================================================\n",
      "Dep. Variable:     Made a utility payment: using a financial institution account (% age 15+)   R-squared:                       0.838\n",
      "Model:                                                                                   OLS   Adj. R-squared:                  0.832\n",
      "Method:                                                                        Least Squares   F-statistic:                     142.5\n",
      "Date:                                                                       Sun, 29 Jun 2025   Prob (F-statistic):           1.31e-82\n",
      "Time:                                                                               13:30:44   Log-Likelihood:                -557.16\n",
      "No. Observations:                                                                        229   AIC:                             1132.\n",
      "Df Residuals:                                                                            220   BIC:                             1163.\n",
      "Df Model:                                                                                  8                                         \n",
      "Covariance Type:                                                                   nonrobust                                         \n",
      "==============================================================================================================================================\n",
      "                                                                                 coef    std err          t      P>|t|      [0.025      0.975]\n",
      "----------------------------------------------------------------------------------------------------------------------------------------------\n",
      "const                                                                         -2.6479      1.892     -1.399      0.163      -6.377       1.081\n",
      "Mobile Cellular Subscriptions (per 100 people)                                 0.0238      0.009      2.522      0.012       0.005       0.042\n",
      "Made a digital in-store merchant payment: using a mobile phone (% age 15+)    -0.2094      0.020    -10.416      0.000      -0.249      -0.170\n",
      "Made a utility payment: using a mobile phone (% age 15+)                       0.7157      0.050     14.293      0.000       0.617       0.814\n",
      "GDP per capita, PPP (constant 2021 international $)                            0.0007   6.27e-05     10.850      0.000       0.001       0.001\n",
      "Population density (people per sq. km of land area)                            0.0032      0.001      4.644      0.000       0.002       0.005\n",
      "Population growth (annual %)                                                   0.3854      0.429      0.898      0.370      -0.461       1.231\n",
      "foodSupply_stability                                                          -0.0457      0.015     -2.972      0.003      -0.076      -0.015\n",
      "Mortality rate, infant (per 1,000 live births)                                -0.0212      0.026     -0.832      0.407      -0.072       0.029\n",
      "==============================================================================\n",
      "Omnibus:                       53.677   Durbin-Watson:                   0.253\n",
      "Prob(Omnibus):                  0.000   Jarque-Bera (JB):              109.042\n",
      "Skew:                           1.144   Prob(JB):                     2.10e-24\n",
      "Kurtosis:                       5.488   Cond. No.                     1.17e+05\n",
      "==============================================================================\n",
      "\n",
      "Notes:\n",
      "[1] Standard Errors assume that the covariance matrix of the errors is correctly specified.\n",
      "[2] The condition number is large, 1.17e+05. This might indicate that there are\n",
      "strong multicollinearity or other numerical problems.\n"
     ]
    },
    {
     "data": {
      "text/markdown": [
       "## 🔍 6-10 Regression for Dependent Variable: `Made a withdrawal (% with a financial institution account, age 15+)`"
      ],
      "text/plain": [
       "<IPython.core.display.Markdown object>"
      ]
     },
     "metadata": {},
     "output_type": "display_data"
    },
    {
     "name": "stdout",
     "output_type": "stream",
     "text": [
      "                                                     OLS Regression Results                                                    \n",
      "===============================================================================================================================\n",
      "Dep. Variable:     Made a withdrawal (% with a financial institution account, age 15+)   R-squared:                       0.654\n",
      "Model:                                                                             OLS   Adj. R-squared:                  0.642\n",
      "Method:                                                                  Least Squares   F-statistic:                     52.06\n",
      "Date:                                                                 Sun, 29 Jun 2025   Prob (F-statistic):           1.18e-46\n",
      "Time:                                                                         13:30:44   Log-Likelihood:                -815.75\n",
      "No. Observations:                                                                  229   AIC:                             1650.\n",
      "Df Residuals:                                                                      220   BIC:                             1680.\n",
      "Df Model:                                                                            8                                         \n",
      "Covariance Type:                                                             nonrobust                                         \n",
      "==============================================================================================================================================\n",
      "                                                                                 coef    std err          t      P>|t|      [0.025      0.975]\n",
      "----------------------------------------------------------------------------------------------------------------------------------------------\n",
      "const                                                                         64.5410      5.853     11.028      0.000      53.007      76.075\n",
      "Mobile Cellular Subscriptions (per 100 people)                                -0.0821      0.029     -2.810      0.005      -0.140      -0.025\n",
      "Made a digital in-store merchant payment: using a mobile phone (% age 15+)     0.6100      0.062      9.812      0.000       0.487       0.733\n",
      "Made a utility payment: using a mobile phone (% age 15+)                       0.0830      0.155      0.536      0.593      -0.222       0.388\n",
      "GDP per capita, PPP (constant 2021 international $)                         8.368e-05      0.000      0.431      0.667      -0.000       0.000\n",
      "Population density (people per sq. km of land area)                           -0.0095      0.002     -4.415      0.000      -0.014      -0.005\n",
      "Population growth (annual %)                                                   0.6282      1.328      0.473      0.637      -1.989       3.245\n",
      "foodSupply_stability                                                           0.1276      0.048      2.680      0.008       0.034       0.221\n",
      "Mortality rate, infant (per 1,000 live births)                                -0.2976      0.079     -3.768      0.000      -0.453      -0.142\n",
      "==============================================================================\n",
      "Omnibus:                       11.357   Durbin-Watson:                   0.171\n",
      "Prob(Omnibus):                  0.003   Jarque-Bera (JB):               12.172\n",
      "Skew:                           0.564   Prob(JB):                      0.00227\n",
      "Kurtosis:                       2.933   Cond. No.                     1.17e+05\n",
      "==============================================================================\n",
      "\n",
      "Notes:\n",
      "[1] Standard Errors assume that the covariance matrix of the errors is correctly specified.\n",
      "[2] The condition number is large, 1.17e+05. This might indicate that there are\n",
      "strong multicollinearity or other numerical problems.\n"
     ]
    },
    {
     "data": {
      "text/markdown": [
       "## 🔍 6-11 Regression for Dependent Variable: `Made or received a digital payment (% age 15+)`"
      ],
      "text/plain": [
       "<IPython.core.display.Markdown object>"
      ]
     },
     "metadata": {},
     "output_type": "display_data"
    },
    {
     "name": "stdout",
     "output_type": "stream",
     "text": [
      "                                          OLS Regression Results                                          \n",
      "==========================================================================================================\n",
      "Dep. Variable:     Made or received a digital payment (% age 15+)   R-squared:                       0.911\n",
      "Model:                                                        OLS   Adj. R-squared:                  0.908\n",
      "Method:                                             Least Squares   F-statistic:                     281.3\n",
      "Date:                                            Sun, 29 Jun 2025   Prob (F-statistic):          5.22e-111\n",
      "Time:                                                    13:30:44   Log-Likelihood:                -721.92\n",
      "No. Observations:                                             229   AIC:                             1462.\n",
      "Df Residuals:                                                 220   BIC:                             1493.\n",
      "Df Model:                                                       8                                         \n",
      "Covariance Type:                                        nonrobust                                         \n",
      "==============================================================================================================================================\n",
      "                                                                                 coef    std err          t      P>|t|      [0.025      0.975]\n",
      "----------------------------------------------------------------------------------------------------------------------------------------------\n",
      "const                                                                          0.1857      3.885      0.048      0.962      -7.471       7.842\n",
      "Mobile Cellular Subscriptions (per 100 people)                                 0.0950      0.019      4.902      0.000       0.057       0.133\n",
      "Made a digital in-store merchant payment: using a mobile phone (% age 15+)     0.0468      0.041      1.133      0.258      -0.035       0.128\n",
      "Made a utility payment: using a mobile phone (% age 15+)                       1.4774      0.103     14.370      0.000       1.275       1.680\n",
      "GDP per capita, PPP (constant 2021 international $)                            0.0014      0.000     11.108      0.000       0.001       0.002\n",
      "Population density (people per sq. km of land area)                            0.0068      0.001      4.734      0.000       0.004       0.010\n",
      "Population growth (annual %)                                                  -0.7934      0.881     -0.900      0.369      -2.530       0.944\n",
      "foodSupply_stability                                                           0.0458      0.032      1.449      0.149      -0.016       0.108\n",
      "Mortality rate, infant (per 1,000 live births)                                -0.0594      0.052     -1.133      0.259      -0.163       0.044\n",
      "==============================================================================\n",
      "Omnibus:                        7.282   Durbin-Watson:                   0.263\n",
      "Prob(Omnibus):                  0.026   Jarque-Bera (JB):                9.076\n",
      "Skew:                           0.247   Prob(JB):                       0.0107\n",
      "Kurtosis:                       3.841   Cond. No.                     1.17e+05\n",
      "==============================================================================\n",
      "\n",
      "Notes:\n",
      "[1] Standard Errors assume that the covariance matrix of the errors is correctly specified.\n",
      "[2] The condition number is large, 1.17e+05. This might indicate that there are\n",
      "strong multicollinearity or other numerical problems.\n"
     ]
    },
    {
     "data": {
      "text/markdown": [
       "## 🔍 6-12 Regression for Dependent Variable: `Mobile money account (% age 15+)`"
      ],
      "text/plain": [
       "<IPython.core.display.Markdown object>"
      ]
     },
     "metadata": {},
     "output_type": "display_data"
    },
    {
     "name": "stdout",
     "output_type": "stream",
     "text": [
      "                                   OLS Regression Results                                   \n",
      "============================================================================================\n",
      "Dep. Variable:     Mobile money account (% age 15+)   R-squared:                       0.851\n",
      "Model:                                          OLS   Adj. R-squared:                  0.846\n",
      "Method:                               Least Squares   F-statistic:                     157.5\n",
      "Date:                              Sun, 29 Jun 2025   Prob (F-statistic):           1.27e-86\n",
      "Time:                                      13:30:44   Log-Likelihood:                -654.12\n",
      "No. Observations:                               229   AIC:                             1326.\n",
      "Df Residuals:                                   220   BIC:                             1357.\n",
      "Df Model:                                         8                                         \n",
      "Covariance Type:                          nonrobust                                         \n",
      "==============================================================================================================================================\n",
      "                                                                                 coef    std err          t      P>|t|      [0.025      0.975]\n",
      "----------------------------------------------------------------------------------------------------------------------------------------------\n",
      "const                                                                         -6.2849      2.889     -2.175      0.031     -11.979      -0.590\n",
      "Mobile Cellular Subscriptions (per 100 people)                                 0.0673      0.014      4.670      0.000       0.039       0.096\n",
      "Made a digital in-store merchant payment: using a mobile phone (% age 15+)     0.1033      0.031      3.367      0.001       0.043       0.164\n",
      "Made a utility payment: using a mobile phone (% age 15+)                       1.9578      0.076     25.602      0.000       1.807       2.108\n",
      "GDP per capita, PPP (constant 2021 international $)                           -0.0006   9.58e-05     -6.047      0.000      -0.001      -0.000\n",
      "Population density (people per sq. km of land area)                            0.0051      0.001      4.753      0.000       0.003       0.007\n",
      "Population growth (annual %)                                                  -0.7561      0.656     -1.153      0.250      -2.048       0.536\n",
      "foodSupply_stability                                                           0.0871      0.024      3.706      0.000       0.041       0.133\n",
      "Mortality rate, infant (per 1,000 live births)                                 0.1263      0.039      3.239      0.001       0.049       0.203\n",
      "==============================================================================\n",
      "Omnibus:                       45.067   Durbin-Watson:                   0.286\n",
      "Prob(Omnibus):                  0.000   Jarque-Bera (JB):               81.849\n",
      "Skew:                           1.016   Prob(JB):                     1.69e-18\n",
      "Kurtosis:                       5.108   Cond. No.                     1.17e+05\n",
      "==============================================================================\n",
      "\n",
      "Notes:\n",
      "[1] Standard Errors assume that the covariance matrix of the errors is correctly specified.\n",
      "[2] The condition number is large, 1.17e+05. This might indicate that there are\n",
      "strong multicollinearity or other numerical problems.\n"
     ]
    },
    {
     "data": {
      "text/markdown": [
       "## 🔍 6-13 Regression for Dependent Variable: `Owns a debit or credit card (% age 15+)`"
      ],
      "text/plain": [
       "<IPython.core.display.Markdown object>"
      ]
     },
     "metadata": {},
     "output_type": "display_data"
    },
    {
     "name": "stdout",
     "output_type": "stream",
     "text": [
      "                                       OLS Regression Results                                      \n",
      "===================================================================================================\n",
      "Dep. Variable:     Owns a debit or credit card (% age 15+)   R-squared:                       0.885\n",
      "Model:                                                 OLS   Adj. R-squared:                  0.881\n",
      "Method:                                      Least Squares   F-statistic:                     211.6\n",
      "Date:                                     Sun, 29 Jun 2025   Prob (F-statistic):           7.83e-99\n",
      "Time:                                             13:30:44   Log-Likelihood:                -754.70\n",
      "No. Observations:                                      229   AIC:                             1527.\n",
      "Df Residuals:                                          220   BIC:                             1558.\n",
      "Df Model:                                                8                                         \n",
      "Covariance Type:                                 nonrobust                                         \n",
      "==============================================================================================================================================\n",
      "                                                                                 coef    std err          t      P>|t|      [0.025      0.975]\n",
      "----------------------------------------------------------------------------------------------------------------------------------------------\n",
      "const                                                                         12.0309      4.483      2.684      0.008       3.196      20.866\n",
      "Mobile Cellular Subscriptions (per 100 people)                              8.207e-05      0.022      0.004      0.997      -0.044       0.044\n",
      "Made a digital in-store merchant payment: using a mobile phone (% age 15+)     0.2301      0.048      4.831      0.000       0.136       0.324\n",
      "Made a utility payment: using a mobile phone (% age 15+)                       0.6708      0.119      5.654      0.000       0.437       0.905\n",
      "GDP per capita, PPP (constant 2021 international $)                            0.0016      0.000     10.962      0.000       0.001       0.002\n",
      "Population density (people per sq. km of land area)                           -0.0078      0.002     -4.720      0.000      -0.011      -0.005\n",
      "Population growth (annual %)                                                  -0.4800      1.017     -0.472      0.637      -2.484       1.524\n",
      "foodSupply_stability                                                          -0.0845      0.036     -2.316      0.021      -0.156      -0.013\n",
      "Mortality rate, infant (per 1,000 live births)                                -0.1938      0.060     -3.203      0.002      -0.313      -0.075\n",
      "==============================================================================\n",
      "Omnibus:                       10.622   Durbin-Watson:                   0.301\n",
      "Prob(Omnibus):                  0.005   Jarque-Bera (JB):               21.413\n",
      "Skew:                           0.129   Prob(JB):                     2.24e-05\n",
      "Kurtosis:                       4.476   Cond. No.                     1.17e+05\n",
      "==============================================================================\n",
      "\n",
      "Notes:\n",
      "[1] Standard Errors assume that the covariance matrix of the errors is correctly specified.\n",
      "[2] The condition number is large, 1.17e+05. This might indicate that there are\n",
      "strong multicollinearity or other numerical problems.\n"
     ]
    },
    {
     "data": {
      "text/markdown": [
       "## 🔍 6-14 Regression for Dependent Variable: `Received digital payments (% age 15+)`"
      ],
      "text/plain": [
       "<IPython.core.display.Markdown object>"
      ]
     },
     "metadata": {},
     "output_type": "display_data"
    },
    {
     "name": "stdout",
     "output_type": "stream",
     "text": [
      "                                      OLS Regression Results                                     \n",
      "=================================================================================================\n",
      "Dep. Variable:     Received digital payments (% age 15+)   R-squared:                       0.941\n",
      "Model:                                               OLS   Adj. R-squared:                  0.939\n",
      "Method:                                    Least Squares   F-statistic:                     437.3\n",
      "Date:                                   Sun, 29 Jun 2025   Prob (F-statistic):          1.64e-130\n",
      "Time:                                           13:30:44   Log-Likelihood:                -637.18\n",
      "No. Observations:                                    229   AIC:                             1292.\n",
      "Df Residuals:                                        220   BIC:                             1323.\n",
      "Df Model:                                              8                                         \n",
      "Covariance Type:                               nonrobust                                         \n",
      "==============================================================================================================================================\n",
      "                                                                                 coef    std err          t      P>|t|      [0.025      0.975]\n",
      "----------------------------------------------------------------------------------------------------------------------------------------------\n",
      "const                                                                         -0.6474      2.683     -0.241      0.810      -5.936       4.641\n",
      "Mobile Cellular Subscriptions (per 100 people)                                 0.0489      0.013      3.653      0.000       0.023       0.075\n",
      "Made a digital in-store merchant payment: using a mobile phone (% age 15+)     0.2394      0.029      8.398      0.000       0.183       0.296\n",
      "Made a utility payment: using a mobile phone (% age 15+)                       1.3845      0.071     19.496      0.000       1.245       1.525\n",
      "GDP per capita, PPP (constant 2021 international $)                            0.0009   8.89e-05      9.730      0.000       0.001       0.001\n",
      "Population density (people per sq. km of land area)                            0.0003      0.001      0.267      0.789      -0.002       0.002\n",
      "Population growth (annual %)                                                  -0.2102      0.609     -0.345      0.730      -1.410       0.990\n",
      "foodSupply_stability                                                           0.0599      0.022      2.742      0.007       0.017       0.103\n",
      "Mortality rate, infant (per 1,000 live births)                                -0.0510      0.036     -1.408      0.161      -0.122       0.020\n",
      "==============================================================================\n",
      "Omnibus:                        3.252   Durbin-Watson:                   0.285\n",
      "Prob(Omnibus):                  0.197   Jarque-Bera (JB):                3.539\n",
      "Skew:                           0.082   Prob(JB):                        0.170\n",
      "Kurtosis:                       3.586   Cond. No.                     1.17e+05\n",
      "==============================================================================\n",
      "\n",
      "Notes:\n",
      "[1] Standard Errors assume that the covariance matrix of the errors is correctly specified.\n",
      "[2] The condition number is large, 1.17e+05. This might indicate that there are\n",
      "strong multicollinearity or other numerical problems.\n"
     ]
    },
    {
     "data": {
      "text/markdown": [
       "## 🔍 6-15 Regression for Dependent Variable: `Saved at a financial institution or using a mobile money account (% age 15+)`"
      ],
      "text/plain": [
       "<IPython.core.display.Markdown object>"
      ]
     },
     "metadata": {},
     "output_type": "display_data"
    },
    {
     "name": "stdout",
     "output_type": "stream",
     "text": [
      "                                                         OLS Regression Results                                                         \n",
      "========================================================================================================================================\n",
      "Dep. Variable:     Saved at a financial institution or using a mobile money account (% age 15+)   R-squared:                       0.943\n",
      "Model:                                                                                      OLS   Adj. R-squared:                  0.941\n",
      "Method:                                                                           Least Squares   F-statistic:                     458.7\n",
      "Date:                                                                          Sun, 29 Jun 2025   Prob (F-statistic):          1.18e-132\n",
      "Time:                                                                                  13:30:44   Log-Likelihood:                -609.93\n",
      "No. Observations:                                                                           229   AIC:                             1238.\n",
      "Df Residuals:                                                                               220   BIC:                             1269.\n",
      "Df Model:                                                                                     8                                         \n",
      "Covariance Type:                                                                      nonrobust                                         \n",
      "==============================================================================================================================================\n",
      "                                                                                 coef    std err          t      P>|t|      [0.025      0.975]\n",
      "----------------------------------------------------------------------------------------------------------------------------------------------\n",
      "const                                                                         20.6006      2.382      8.647      0.000      15.905      25.296\n",
      "Mobile Cellular Subscriptions (per 100 people)                                -0.0512      0.012     -4.305      0.000      -0.075      -0.028\n",
      "Made a digital in-store merchant payment: using a mobile phone (% age 15+)     0.4152      0.025     16.407      0.000       0.365       0.465\n",
      "Made a utility payment: using a mobile phone (% age 15+)                      -0.2361      0.063     -3.745      0.000      -0.360      -0.112\n",
      "GDP per capita, PPP (constant 2021 international $)                            0.0012    7.9e-05     15.177      0.000       0.001       0.001\n",
      "Population density (people per sq. km of land area)                           -0.0058      0.001     -6.561      0.000      -0.007      -0.004\n",
      "Population growth (annual %)                                                  -2.8628      0.540     -5.297      0.000      -3.928      -1.798\n",
      "foodSupply_stability                                                           0.0573      0.019      2.956      0.003       0.019       0.095\n",
      "Mortality rate, infant (per 1,000 live births)                                -0.2279      0.032     -7.088      0.000      -0.291      -0.165\n",
      "==============================================================================\n",
      "Omnibus:                        7.352   Durbin-Watson:                   0.301\n",
      "Prob(Omnibus):                  0.025   Jarque-Bera (JB):                7.456\n",
      "Skew:                           0.442   Prob(JB):                       0.0240\n",
      "Kurtosis:                       3.001   Cond. No.                     1.17e+05\n",
      "==============================================================================\n",
      "\n",
      "Notes:\n",
      "[1] Standard Errors assume that the covariance matrix of the errors is correctly specified.\n",
      "[2] The condition number is large, 1.17e+05. This might indicate that there are\n",
      "strong multicollinearity or other numerical problems.\n"
     ]
    },
    {
     "data": {
      "text/markdown": [
       "## 🔍 6-16 Regression for Dependent Variable: `Saved money using a mobile money account (% age 15+)`"
      ],
      "text/plain": [
       "<IPython.core.display.Markdown object>"
      ]
     },
     "metadata": {},
     "output_type": "display_data"
    },
    {
     "name": "stdout",
     "output_type": "stream",
     "text": [
      "                                             OLS Regression Results                                             \n",
      "================================================================================================================\n",
      "Dep. Variable:     Saved money using a mobile money account (% age 15+)   R-squared:                       0.890\n",
      "Model:                                                              OLS   Adj. R-squared:                  0.886\n",
      "Method:                                                   Least Squares   F-statistic:                     222.3\n",
      "Date:                                                  Sun, 29 Jun 2025   Prob (F-statistic):          6.45e-101\n",
      "Time:                                                          13:30:44   Log-Likelihood:                -420.96\n",
      "No. Observations:                                                   229   AIC:                             859.9\n",
      "Df Residuals:                                                       220   BIC:                             890.8\n",
      "Df Model:                                                             8                                         \n",
      "Covariance Type:                                              nonrobust                                         \n",
      "==============================================================================================================================================\n",
      "                                                                                 coef    std err          t      P>|t|      [0.025      0.975]\n",
      "----------------------------------------------------------------------------------------------------------------------------------------------\n",
      "const                                                                         -1.3764      1.044     -1.319      0.189      -3.434       0.681\n",
      "Mobile Cellular Subscriptions (per 100 people)                                 0.0127      0.005      2.439      0.016       0.002       0.023\n",
      "Made a digital in-store merchant payment: using a mobile phone (% age 15+)     0.2845      0.011     25.660      0.000       0.263       0.306\n",
      "Made a utility payment: using a mobile phone (% age 15+)                       0.0275      0.028      0.997      0.320      -0.027       0.082\n",
      "GDP per capita, PPP (constant 2021 international $)                        -5.331e-06   3.46e-05     -0.154      0.878   -7.35e-05    6.28e-05\n",
      "Population density (people per sq. km of land area)                            0.0001      0.000      0.280      0.780      -0.001       0.001\n",
      "Population growth (annual %)                                                   0.1181      0.237      0.499      0.618      -0.349       0.585\n",
      "foodSupply_stability                                                           0.0285      0.008      3.358      0.001       0.012       0.045\n",
      "Mortality rate, infant (per 1,000 live births)                                 0.0262      0.014      1.863      0.064      -0.002       0.054\n",
      "==============================================================================\n",
      "Omnibus:                       31.836   Durbin-Watson:                   0.145\n",
      "Prob(Omnibus):                  0.000   Jarque-Bera (JB):               40.720\n",
      "Skew:                           1.009   Prob(JB):                     1.44e-09\n",
      "Kurtosis:                       3.442   Cond. No.                     1.17e+05\n",
      "==============================================================================\n",
      "\n",
      "Notes:\n",
      "[1] Standard Errors assume that the covariance matrix of the errors is correctly specified.\n",
      "[2] The condition number is large, 1.17e+05. This might indicate that there are\n",
      "strong multicollinearity or other numerical problems.\n"
     ]
    },
    {
     "data": {
      "text/markdown": [
       "## 🔍 6-17 Regression for Dependent Variable: `Store money using a financial institution or a mobile money account (% age 15+)`"
      ],
      "text/plain": [
       "<IPython.core.display.Markdown object>"
      ]
     },
     "metadata": {},
     "output_type": "display_data"
    },
    {
     "name": "stdout",
     "output_type": "stream",
     "text": [
      "                                                           OLS Regression Results                                                          \n",
      "===========================================================================================================================================\n",
      "Dep. Variable:     Store money using a financial institution or a mobile money account (% age 15+)   R-squared:                       0.889\n",
      "Model:                                                                                         OLS   Adj. R-squared:                  0.885\n",
      "Method:                                                                              Least Squares   F-statistic:                     221.0\n",
      "Date:                                                                             Sun, 29 Jun 2025   Prob (F-statistic):          1.13e-100\n",
      "Time:                                                                                     13:30:44   Log-Likelihood:                -731.62\n",
      "No. Observations:                                                                              229   AIC:                             1481.\n",
      "Df Residuals:                                                                                  220   BIC:                             1512.\n",
      "Df Model:                                                                                        8                                         \n",
      "Covariance Type:                                                                         nonrobust                                         \n",
      "==============================================================================================================================================\n",
      "                                                                                 coef    std err          t      P>|t|      [0.025      0.975]\n",
      "----------------------------------------------------------------------------------------------------------------------------------------------\n",
      "const                                                                         43.4169      4.053     10.712      0.000      35.429      51.405\n",
      "Mobile Cellular Subscriptions (per 100 people)                                -0.1040      0.020     -5.139      0.000      -0.144      -0.064\n",
      "Made a digital in-store merchant payment: using a mobile phone (% age 15+)     0.4844      0.043     11.250      0.000       0.400       0.569\n",
      "Made a utility payment: using a mobile phone (% age 15+)                      -0.3795      0.107     -3.538      0.000      -0.591      -0.168\n",
      "GDP per capita, PPP (constant 2021 international $)                            0.0013      0.000      9.661      0.000       0.001       0.002\n",
      "Population density (people per sq. km of land area)                           -0.0057      0.001     -3.853      0.000      -0.009      -0.003\n",
      "Population growth (annual %)                                                  -4.2100      0.920     -4.578      0.000      -6.022      -2.398\n",
      "foodSupply_stability                                                          -0.0030      0.033     -0.092      0.926      -0.068       0.062\n",
      "Mortality rate, infant (per 1,000 live births)                                -0.4231      0.055     -7.735      0.000      -0.531      -0.315\n",
      "==============================================================================\n",
      "Omnibus:                        7.539   Durbin-Watson:                   0.312\n",
      "Prob(Omnibus):                  0.023   Jarque-Bera (JB):                6.276\n",
      "Skew:                           0.318   Prob(JB):                       0.0434\n",
      "Kurtosis:                       2.496   Cond. No.                     1.17e+05\n",
      "==============================================================================\n",
      "\n",
      "Notes:\n",
      "[1] Standard Errors assume that the covariance matrix of the errors is correctly specified.\n",
      "[2] The condition number is large, 1.17e+05. This might indicate that there are\n",
      "strong multicollinearity or other numerical problems.\n"
     ]
    },
    {
     "data": {
      "text/markdown": [
       "## 🔍 6-18 Regression for Dependent Variable: `Store money using a financial institution or a mobile money account (% with an account,  age 15+)`"
      ],
      "text/plain": [
       "<IPython.core.display.Markdown object>"
      ]
     },
     "metadata": {},
     "output_type": "display_data"
    },
    {
     "name": "stdout",
     "output_type": "stream",
     "text": [
      "                                                                    OLS Regression Results                                                                   \n",
      "=============================================================================================================================================================\n",
      "Dep. Variable:     Store money using a financial institution or a mobile money account (% with an account,  age 15+)   R-squared:                       0.748\n",
      "Model:                                                                                                           OLS   Adj. R-squared:                  0.739\n",
      "Method:                                                                                                Least Squares   F-statistic:                     81.77\n",
      "Date:                                                                                               Sun, 29 Jun 2025   Prob (F-statistic):           1.22e-61\n",
      "Time:                                                                                                       13:30:44   Log-Likelihood:                -761.79\n",
      "No. Observations:                                                                                                229   AIC:                             1542.\n",
      "Df Residuals:                                                                                                    220   BIC:                             1572.\n",
      "Df Model:                                                                                                          8                                         \n",
      "Covariance Type:                                                                                           nonrobust                                         \n",
      "==============================================================================================================================================\n",
      "                                                                                 coef    std err          t      P>|t|      [0.025      0.975]\n",
      "----------------------------------------------------------------------------------------------------------------------------------------------\n",
      "const                                                                         65.6260      4.624     14.193      0.000      56.513      74.739\n",
      "Mobile Cellular Subscriptions (per 100 people)                                -0.0643      0.023     -2.788      0.006      -0.110      -0.019\n",
      "Made a digital in-store merchant payment: using a mobile phone (% age 15+)     0.3099      0.049      6.310      0.000       0.213       0.407\n",
      "Made a utility payment: using a mobile phone (% age 15+)                      -0.0832      0.122     -0.680      0.497      -0.324       0.158\n",
      "GDP per capita, PPP (constant 2021 international $)                            0.0005      0.000      2.968      0.003       0.000       0.001\n",
      "Population density (people per sq. km of land area)                           -0.0198      0.002    -11.640      0.000      -0.023      -0.016\n",
      "Population growth (annual %)                                                   0.4088      1.049      0.390      0.697      -1.659       2.476\n",
      "foodSupply_stability                                                          -0.0036      0.038     -0.094      0.925      -0.078       0.071\n",
      "Mortality rate, infant (per 1,000 live births)                                -0.3300      0.062     -5.288      0.000      -0.453      -0.207\n",
      "==============================================================================\n",
      "Omnibus:                       17.632   Durbin-Watson:                   0.136\n",
      "Prob(Omnibus):                  0.000   Jarque-Bera (JB):               19.355\n",
      "Skew:                           0.675   Prob(JB):                     6.27e-05\n",
      "Kurtosis:                       3.451   Cond. No.                     1.17e+05\n",
      "==============================================================================\n",
      "\n",
      "Notes:\n",
      "[1] Standard Errors assume that the covariance matrix of the errors is correctly specified.\n",
      "[2] The condition number is large, 1.17e+05. This might indicate that there are\n",
      "strong multicollinearity or other numerical problems.\n"
     ]
    },
    {
     "data": {
      "text/markdown": [
       "## 🔍 6-19 Regression for Dependent Variable: `Store money using a mobile money account (% age 15+)`"
      ],
      "text/plain": [
       "<IPython.core.display.Markdown object>"
      ]
     },
     "metadata": {},
     "output_type": "display_data"
    },
    {
     "name": "stdout",
     "output_type": "stream",
     "text": [
      "                                             OLS Regression Results                                             \n",
      "================================================================================================================\n",
      "Dep. Variable:     Store money using a mobile money account (% age 15+)   R-squared:                       0.929\n",
      "Model:                                                              OLS   Adj. R-squared:                  0.925\n",
      "Method:                                                   Least Squares   F-statistic:                     192.6\n",
      "Date:                                                  Sun, 29 Jun 2025   Prob (F-statistic):           1.33e-63\n",
      "Time:                                                          13:30:44   Log-Likelihood:                -224.89\n",
      "No. Observations:                                                   126   AIC:                             467.8\n",
      "Df Residuals:                                                       117   BIC:                             493.3\n",
      "Df Model:                                                             8                                         \n",
      "Covariance Type:                                              nonrobust                                         \n",
      "==============================================================================================================================================\n",
      "                                                                                 coef    std err          t      P>|t|      [0.025      0.975]\n",
      "----------------------------------------------------------------------------------------------------------------------------------------------\n",
      "const                                                                         -3.8202      2.504     -1.526      0.130      -8.779       1.138\n",
      "Mobile Cellular Subscriptions (per 100 people)                                 0.0310      0.007      4.174      0.000       0.016       0.046\n",
      "Made a digital in-store merchant payment: using a mobile phone (% age 15+)     0.3019      0.023     13.089      0.000       0.256       0.348\n",
      "Made a utility payment: using a mobile phone (% age 15+)                       0.0147      0.034      0.438      0.662      -0.052       0.081\n",
      "GDP per capita, PPP (constant 2021 international $)                         9.274e-05   4.61e-05      2.012      0.047    1.45e-06       0.000\n",
      "Population density (people per sq. km of land area)                           -0.0006      0.001     -1.142      0.256      -0.002       0.000\n",
      "Population growth (annual %)                                                  -0.0186      0.761     -0.024      0.981      -1.526       1.488\n",
      "foodSupply_stability                                                           0.0372      0.012      3.037      0.003       0.013       0.062\n",
      "Mortality rate, infant (per 1,000 live births)                                 0.1881      0.034      5.459      0.000       0.120       0.256\n",
      "==============================================================================\n",
      "Omnibus:                        7.032   Durbin-Watson:                   0.197\n",
      "Prob(Omnibus):                  0.030   Jarque-Bera (JB):                6.627\n",
      "Skew:                          -0.494   Prob(JB):                       0.0364\n",
      "Kurtosis:                       3.535   Cond. No.                     2.60e+05\n",
      "==============================================================================\n",
      "\n",
      "Notes:\n",
      "[1] Standard Errors assume that the covariance matrix of the errors is correctly specified.\n",
      "[2] The condition number is large, 2.6e+05. This might indicate that there are\n",
      "strong multicollinearity or other numerical problems.\n"
     ]
    },
    {
     "data": {
      "text/markdown": [
       "## 🔍 6-20 Regression for Dependent Variable: `Store money using a mobile money account (% with a mobile money account acount, age 15+)`"
      ],
      "text/plain": [
       "<IPython.core.display.Markdown object>"
      ]
     },
     "metadata": {},
     "output_type": "display_data"
    },
    {
     "name": "stdout",
     "output_type": "stream",
     "text": [
      "                                                               OLS Regression Results                                                               \n",
      "====================================================================================================================================================\n",
      "Dep. Variable:     Store money using a mobile money account (% with a mobile money account acount, age 15+)   R-squared:                       0.767\n",
      "Model:                                                                                                  OLS   Adj. R-squared:                  0.752\n",
      "Method:                                                                                       Least Squares   F-statistic:                     48.28\n",
      "Date:                                                                                      Sun, 29 Jun 2025   Prob (F-statistic):           1.46e-33\n",
      "Time:                                                                                              13:30:44   Log-Likelihood:                -398.71\n",
      "No. Observations:                                                                                       126   AIC:                             815.4\n",
      "Df Residuals:                                                                                           117   BIC:                             841.0\n",
      "Df Model:                                                                                                 8                                         \n",
      "Covariance Type:                                                                                  nonrobust                                         \n",
      "==============================================================================================================================================\n",
      "                                                                                 coef    std err          t      P>|t|      [0.025      0.975]\n",
      "----------------------------------------------------------------------------------------------------------------------------------------------\n",
      "const                                                                         85.9794      9.947      8.643      0.000      66.279     105.680\n",
      "Mobile Cellular Subscriptions (per 100 people)                                -0.1030      0.029     -3.497      0.001      -0.161      -0.045\n",
      "Made a digital in-store merchant payment: using a mobile phone (% age 15+)     0.0344      0.092      0.375      0.708      -0.147       0.216\n",
      "Made a utility payment: using a mobile phone (% age 15+)                       0.5530      0.133      4.152      0.000       0.289       0.817\n",
      "GDP per capita, PPP (constant 2021 international $)                           -0.0017      0.000     -9.143      0.000      -0.002      -0.001\n",
      "Population density (people per sq. km of land area)                           -0.0313      0.002    -13.854      0.000      -0.036      -0.027\n",
      "Population growth (annual %)                                                  15.8950      3.023      5.258      0.000       9.908      21.882\n",
      "foodSupply_stability                                                          -0.2556      0.049     -5.249      0.000      -0.352      -0.159\n",
      "Mortality rate, infant (per 1,000 live births)                                -0.6574      0.137     -4.802      0.000      -0.929      -0.386\n",
      "==============================================================================\n",
      "Omnibus:                        6.670   Durbin-Watson:                   0.319\n",
      "Prob(Omnibus):                  0.036   Jarque-Bera (JB):                6.765\n",
      "Skew:                           0.567   Prob(JB):                       0.0340\n",
      "Kurtosis:                       2.952   Cond. No.                     2.60e+05\n",
      "==============================================================================\n",
      "\n",
      "Notes:\n",
      "[1] Standard Errors assume that the covariance matrix of the errors is correctly specified.\n",
      "[2] The condition number is large, 2.6e+05. This might indicate that there are\n",
      "strong multicollinearity or other numerical problems.\n"
     ]
    }
   ],
   "source": [
    "# Multiple Regression Analysis for Financial Inclusion Indicators\n",
    "import pandas as pd\n",
    "import statsmodels.api as sm\n",
    "from IPython.display import display, Markdown\n",
    "\n",
    "# Load the dataset\n",
    "df = pd.read_csv('../Data/processed/final_dataset.csv')\n",
    "\n",
    "# Define dependent (Y) and independent (X) variables\n",
    "y_vars = [\n",
    "    \"Account (% age 15+)\",\n",
    "    \"Account ownership at a financial institution or with a mobile-money-service provider (% of population ages 15+)\",\n",
    "    \"Current account balance (% of GDP)\",\n",
    "    \"Current account balance (BoP, current US$)\",\n",
    "    \"Financial institution account (% age 15+)\",\n",
    "    \"Made a deposit (% with a financial institution account, age 15+)\",\n",
    "    \"Made a digital payment (% age 15+)\",\n",
    "    \"Made a utility payment (% age 15+)\",\n",
    "    \"Made a utility payment: using a financial institution account (% age 15+)\",\n",
    "    \"Made a withdrawal (% with a financial institution account, age 15+)\",\n",
    "    \"Made or received a digital payment (% age 15+)\",\n",
    "    \"Mobile money account (% age 15+)\",\n",
    "    \"Owns a debit or credit card (% age 15+)\",\n",
    "    \"Received digital payments (% age 15+)\",\n",
    "    \"Saved at a financial institution or using a mobile money account (% age 15+)\",\n",
    "    \"Saved money using a mobile money account (% age 15+)\",\n",
    "    \"Store money using a financial institution or a mobile money account (% age 15+)\",\n",
    "    \"Store money using a financial institution or a mobile money account (% with an account,  age 15+)\",\n",
    "    \"Store money using a mobile money account (% age 15+)\",\n",
    "    \"Store money using a mobile money account (% with a mobile money account acount, age 15+)\"\n",
    "]\n",
    "\n",
    "################################################################## \n",
    "# you can change following set of x_vars as you like\n",
    "##################################################################\n",
    "x_vars = [\n",
    "    # 'Fixed Broadband Subsciptions (per 100 people)',\n",
    "    'Mobile Cellular Subscriptions (per 100 people)',\n",
    "    'Made a digital in-store merchant payment: using a mobile phone (% age 15+)',\n",
    "    'Made a utility payment: using a mobile phone (% age 15+)',\n",
    "    'GDP per capita, PPP (constant 2021 international $)',\n",
    "    'Population density (people per sq. km of land area)',\n",
    "    'Population growth (annual %)', 'foodSupply_stability',\n",
    "    'Mortality rate, infant (per 1,000 live births)'\n",
    "]\n",
    "\n",
    "# Filter for valid columns\n",
    "y_vars = [y for y in y_vars if y in df.columns]\n",
    "x_vars = [x for x in x_vars if x in df.columns]\n",
    "\n",
    "# check multicollinearity\n",
    "df_x_only = df[x_vars].replace([np.inf, -np.inf], np.nan).dropna()\n",
    "vif_data = pd.DataFrame()\n",
    "vif_data[\"Variable\"] = df_x_only.columns\n",
    "vif_data[\"VIF\"] = [variance_inflation_factor(df_x_only.values, i) for i in range(df_x_only.shape[1])]\n",
    "display(Markdown(f\"## VIF(variane inflation facrot) for current set of X-variables \"))\n",
    "print(vif_data)\n",
    "print(\"\")\n",
    "print(\"| VIF Range       | Variables | Severity          |\")\n",
    "print(\"|-----------------|-----------|-------------------|\")\n",
    "print(\"| > 10,000       | 7         | Critical          |\")\n",
    "print(\"| 1,000 - 10,000 | 7         | Severe            |\")\n",
    "print(\"| 100 - 1,000    | 8         | High              |\")\n",
    "print(\"| 10 - 100       | 3         | Moderate          |\")\n",
    "print(\"| < 10           | 4         | Acceptable        |\")\n",
    "\n",
    "\n",
    "# Run multiple regression for each Y\n",
    "yCount = 0\n",
    "for y in y_vars:\n",
    "    yCount = yCount + 1\n",
    "    sub_df = df[[y] + x_vars].dropna()\n",
    "    if len(sub_df) > 20:\n",
    "        X = sm.add_constant(sub_df[x_vars])\n",
    "        y_data = sub_df[y]\n",
    "        model = sm.OLS(y_data, X).fit()\n",
    "\n",
    "        # Clean output without Markdown code block styling\n",
    "        display(Markdown(f\"## 🔍 6-{yCount} Regression for Dependent Variable: `{y}`\"))\n",
    "        print(model.summary())\n"
   ]
  }
 ],
 "metadata": {
  "kernelspec": {
   "display_name": "graspp25",
   "language": "python",
   "name": "python3"
  },
  "language_info": {
   "codemirror_mode": {
    "name": "ipython",
    "version": 3
   },
   "file_extension": ".py",
   "mimetype": "text/x-python",
   "name": "python",
   "nbconvert_exporter": "python",
   "pygments_lexer": "ipython3",
   "version": "3.12.8"
  }
 },
 "nbformat": 4,
 "nbformat_minor": 5
}
